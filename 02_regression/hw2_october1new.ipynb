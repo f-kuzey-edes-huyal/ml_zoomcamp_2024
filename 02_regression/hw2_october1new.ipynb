{
 "cells": [
  {
   "cell_type": "markdown",
   "id": "388e6bd6-5d32-49fa-88b9-b611b6917a22",
   "metadata": {},
   "source": [
    "In this homework, we will use the __Laptops price dataset__ from [Kaggle](https://www.kaggle.com/datasets/juanmerinobermejo/laptops-price-dataset).\n",
    "\n"
   ]
  },
  {
   "cell_type": "code",
   "execution_count": 1,
   "id": "8760e93d-c535-49f9-9d51-9fd6706b19ec",
   "metadata": {},
   "outputs": [],
   "source": [
    "#!wget https://raw.githubusercontent.com/alexeygrigorev/datasets/master/laptops.csv"
   ]
  },
  {
   "cell_type": "markdown",
   "id": "f0fa7cc0-d55a-4244-9a7a-0f9ec61139cd",
   "metadata": {},
   "source": [
    "The goal of this homework is to create a regression model for predicting the prices (column <code>'Final Price'</code>)."
   ]
  },
  {
   "cell_type": "code",
   "execution_count": 2,
   "id": "23e8228c-92a9-4aad-90fb-6042af18d592",
   "metadata": {},
   "outputs": [],
   "source": [
    "import pandas as pd\n",
    "import numpy as np\n",
    "import seaborn as sns"
   ]
  },
  {
   "cell_type": "markdown",
   "id": "8299b43c-4920-4098-a806-4d79447f711d",
   "metadata": {},
   "source": [
    "__Preparing the dataset__\n",
    "\n",
    "First, we'll normalize the names of the columns:"
   ]
  },
  {
   "cell_type": "code",
   "execution_count": 3,
   "id": "103f2563-ce82-4ba7-98e2-68d4f6fce32f",
   "metadata": {},
   "outputs": [],
   "source": [
    "df_new = pd.read_csv('laptops.csv')\n",
    "df_new.columns = df_new.columns.str.lower().str.replace(' ', '_')\n",
    "df = df_new.copy()"
   ]
  },
  {
   "cell_type": "markdown",
   "id": "e5ae99e2-b641-47ab-90bc-5e4a74aa19b9",
   "metadata": {},
   "source": [
    "Next, use only the following columns:\n",
    "\n",
    "<code>'ram'</code>,\n",
    "<code>'storage'</code>,\n",
    "<code>'screen'</code>,\n",
    "<code>'final_price'</code>"
   ]
  },
  {
   "cell_type": "code",
   "execution_count": 4,
   "id": "f0e31ac4-2253-42ca-8261-cc172ac09935",
   "metadata": {},
   "outputs": [],
   "source": [
    "df = df[['ram','storage','screen', 'final_price']]"
   ]
  },
  {
   "cell_type": "markdown",
   "id": "81cd9925-202f-4298-94c5-a77bc00a5940",
   "metadata": {},
   "source": [
    "## EDA"
   ]
  },
  {
   "cell_type": "markdown",
   "id": "24d3a82e-08a9-412f-9606-be4e5a12f78e",
   "metadata": {},
   "source": [
    "Look at the final_price variable. Does it have a _long tail_?"
   ]
  },
  {
   "cell_type": "code",
   "execution_count": 5,
   "id": "a51d78e4-e181-4a8e-8c37-b3db7dd296b4",
   "metadata": {},
   "outputs": [
    {
     "data": {
      "text/plain": [
       "Text(0.5, 0, 'Final Price')"
      ]
     },
     "execution_count": 5,
     "metadata": {},
     "output_type": "execute_result"
    },
    {
     "data": {
      "image/png": "[encoded data removed]",
      "text/plain": [
       "<Figure size 640x480 with 1 Axes>"
      ]
     },
     "metadata": {},
     "output_type": "display_data"
    }
   ],
   "source": [
    "ax = sns.histplot(data = df, x = 'final_price', color = 'cornflowerblue', bins = 30)\n",
    "ax.set_title('Distribution of the Final Car Price')\n",
    "ax.set_xlabel('Final Price')"
   ]
  },
  {
   "cell_type": "markdown",
   "id": "f26e1f95-6c51-40a0-a53b-fbe25ff08251",
   "metadata": {},
   "source": [
    "The distribution appears to be __long-tailed__, so we need to apply a __logarithmic transformation__ to the car prices in order to approximate a normal distribution."
   ]
  },
  {
   "cell_type": "markdown",
   "id": "fe2d7927-5460-4571-8927-80f9f6a7b3c6",
   "metadata": {},
   "source": [
    "__Q1__\n",
    "There's one column with missing values. What is it?"
   ]
  },
  {
   "cell_type": "code",
   "execution_count": 6,
   "id": "fc338f35-9d5a-4649-9201-bd1eae211c9a",
   "metadata": {},
   "outputs": [
    {
     "data": {
      "text/plain": [
       "ram            0\n",
       "storage        0\n",
       "screen         4\n",
       "final_price    0\n",
       "dtype: int64"
      ]
     },
     "execution_count": 6,
     "metadata": {},
     "output_type": "execute_result"
    }
   ],
   "source": [
    "df.isnull().sum()\n"
   ]
  },
  {
   "cell_type": "code",
   "execution_count": 7,
   "id": "c1fe7bab-b33e-41ef-930a-8a8f78060a1d",
   "metadata": {},
   "outputs": [
    {
     "name": "stdout",
     "output_type": "stream",
     "text": [
      "\u001b[1mscreen\u001b[0m column includes null values.\n"
     ]
    }
   ],
   "source": [
    "screen = 'screen'\n",
    "print(f\"\\033[1m{screen}\\033[0m column includes null values.\")\n"
   ]
  },
  {
   "cell_type": "markdown",
   "id": "8681de2b-4521-4494-88bd-3bd6b2438872",
   "metadata": {},
   "source": [
    "__Q2__ What's the median (50% percentile) for variable <code> ram </code>?"
   ]
  },
  {
   "cell_type": "code",
   "execution_count": 8,
   "id": "285bd4ee-44a3-4be1-b5b9-0c339884372c",
   "metadata": {},
   "outputs": [
    {
     "name": "stdout",
     "output_type": "stream",
     "text": [
      "The median for the 'ram' variable is \u001b[1m16.0\u001b[0m.\n"
     ]
    }
   ],
   "source": [
    "median_ram = df['ram'].median()\n",
    "print(f\"The median for the 'ram' variable is \\033[1m{median_ram}\\033[0m.\")"
   ]
  },
  {
   "cell_type": "markdown",
   "id": "15e918fc-a438-4365-ab75-18ae6152fea7",
   "metadata": {},
   "source": [
    "- Prepare and split the dataset\n",
    "- Shuffle the dataset (the filtered one you created above), use seed 42.\n",
    "- Split your data in train/val/test sets, with 60%/20%/20% distribution."
   ]
  },
  {
   "cell_type": "code",
   "execution_count": 9,
   "id": "565d8d37-6e05-47ca-b49c-09da35e3763b",
   "metadata": {},
   "outputs": [
    {
     "data": {
      "text/plain": [
       "(2160, 2160)"
      ]
     },
     "execution_count": 9,
     "metadata": {},
     "output_type": "execute_result"
    }
   ],
   "source": [
    "np.random.seed(42)\n",
    "n = len(df)\n",
    "n_val = int(0.2*n)\n",
    "n_test = int(0.2*n)\n",
    "n_train = n -n_val-n_test\n",
    "#lets check the size\n",
    "n, n_train+n_val+n_test"
   ]
  },
  {
   "cell_type": "code",
   "execution_count": 10,
   "id": "f5bb28a9-6671-48a0-9c90-3754c569129a",
   "metadata": {},
   "outputs": [
    {
     "name": "stdout",
     "output_type": "stream",
     "text": [
      "1296 432 432 2160\n"
     ]
    }
   ],
   "source": [
    "idx = np.arange(n)\n",
    "\n",
    "np.random.shuffle(idx)\n",
    "\n",
    "\n",
    "df_train = df.iloc[idx[:n_train]]\n",
    "\n",
    "df_val = df.iloc[idx[n_train:n_train+n_val]]\n",
    "\n",
    "df_test = df.iloc[idx[n_train+n_val:]]\n",
    "\n",
    "print(len(df_train), len(df_val), len(df_test), len(df_train)+len(df_val)+len(df_val))\n",
    "\n",
    "#y_train = np.log1p(df_train.final_price.values)\n",
    "#y_val =  np.log1p(df_val.final_price.values)\n",
    "#y_test = np.log1p(df_test.final_price.values)\n",
    "\n",
    "y_train = df_train.final_price.values\n",
    "y_val =  df_val.final_price.values\n",
    "y_test = df_test.final_price.values\n",
    "\n",
    "\n",
    "del df_train['final_price']\n",
    "del df_val['final_price']\n",
    "del df_test['final_price']"
   ]
  },
  {
   "cell_type": "code",
   "execution_count": null,
   "id": "2e03968f-645a-4ece-84e8-81e5d8c7c964",
   "metadata": {},
   "outputs": [],
   "source": []
  },
  {
   "cell_type": "markdown",
   "id": "63d7e3a7-8822-48cc-a8a6-6290594da2c6",
   "metadata": {},
   "source": [
    "__Question 3__\n",
    "\n",
    "- We need to deal with missing values for the column from Q1.\n",
    "- We have two options: fill it with 0 or with the mean of this variable.\n",
    "- Try both options. For each, train a linear regression model without regularization using the code from the lessons.\n",
    "- For computing the mean, use the training only!\n",
    "- Use the validation dataset to evaluate the models and compare the RMSE of each option.\n",
    "- Round the RMSE scores to 2 decimal digits using round(score, 2)\n",
    "- Which option gives better RMSE?"
   ]
  },
  {
   "cell_type": "code",
   "execution_count": 11,
   "id": "ed60f7ae-5c72-450b-821c-c48c4be5b3e7",
   "metadata": {},
   "outputs": [],
   "source": [
    "mean_train = df_train.mean()\n",
    "\n",
    "#df_train_v1 = df_train.fillna(0)\n",
    "#df_val_v1 = df_val.fillna(0)\n",
    "#df_test_v1 = df_test.fillna(0)\n",
    "\n",
    "#df_train_v2 = df_train.fillna(mean_train)\n",
    "#df_val_v2 = df_val.fillna(mean_train)\n",
    "#df_test_v2 = df_test.fillna(mean_train)"
   ]
  },
  {
   "cell_type": "markdown",
   "id": "3c83a032-63c1-4a34-aca6-acd387f70813",
   "metadata": {},
   "source": [
    "def train_linear_regression(x,y):\n"
   ]
  },
  {
   "cell_type": "code",
   "execution_count": 12,
   "id": "a26e391d-755d-431b-9a27-5a6ab9348bf6",
   "metadata": {},
   "outputs": [],
   "source": [
    "def prepare_data_zero(df):\n",
    "    df =df.copy()\n",
    "    df = df.fillna(0)\n",
    "    return df.values\n",
    "    \n",
    "def prepare_data_mean(df):\n",
    "    df =df.copy()\n",
    "    df = df.fillna(mean_train)\n",
    "    return df.values\n",
    "        "
   ]
  },
  {
   "cell_type": "code",
   "execution_count": 13,
   "id": "33be5b32-81e9-436f-823c-3b9354cda644",
   "metadata": {},
   "outputs": [],
   "source": [
    "def train_linear_regression(X,y):\n",
    "    #for the bias component\n",
    "    ones = np.ones(X.shape[0])\n",
    "    X = np.column_stack([ones, X])\n",
    "    XTX = X.T.dot(X)\n",
    "    XTX_inv = np.linalg.inv(XTX)\n",
    "    w_full = XTX_inv.dot(X.T).dot(y)\n",
    "    return w_full[0], w_full[1:]"
   ]
  },
  {
   "cell_type": "markdown",
   "id": "be9d38e8-38d4-40a4-9283-ce2cdb4e4140",
   "metadata": {},
   "source": [
    "Let's proceed with training the dataset where NaN values have been __filled with zero__."
   ]
  },
  {
   "cell_type": "code",
   "execution_count": 14,
   "id": "f35a8797-ff8c-4c0c-b6f3-86b23c2cf1a2",
   "metadata": {},
   "outputs": [
    {
     "name": "stdout",
     "output_type": "stream",
     "text": [
      "676.8954853003471\n",
      "[ 43.70681555   0.86506867 -36.10399833]\n"
     ]
    }
   ],
   "source": [
    "#X_train1 = df_train_v1.values\n",
    "#X_val1 = df_val_v1.values\n",
    "X_train1 = prepare_data_zero(df_train)\n",
    "X_val1 = prepare_data_zero(df_val)\n",
    "w0, w = train_linear_regression(X_train1,y_train)\n",
    "print(w0)\n",
    "print(w)"
   ]
  },
  {
   "cell_type": "code",
   "execution_count": 15,
   "id": "fa620313-4814-4242-8015-33dfea2e02e5",
   "metadata": {},
   "outputs": [
    {
     "name": "stdout",
     "output_type": "stream",
     "text": [
      "After filling the NaN values with 0, the root mean square error \u001b[1m(RMSE)\u001b[0m for the validation set was \u001b[1m597.36\u001b[0m.\n"
     ]
    }
   ],
   "source": [
    "y_val_pred1 = w0 + X_val1.dot(w)\n",
    "#print(y_val_pred )\n",
    "#print(y_val)\n",
    "def rmse (y_actual, y_pred):\n",
    "    n= len(y_actual)\n",
    "    err_sq = (y_pred - y_actual)**2\n",
    "    mean_err = np.mean(err_sq)\n",
    "    return np.sqrt(mean_err)\n",
    "y_val_remse1 = rmse(y_val_pred1, y_val)\n",
    "print(f\"After filling the NaN values with 0, the root mean square error \\033[1m(RMSE)\\033[0m for the validation set was \\033[1m{y_val_remse1:.2f}\\033[0m.\")"
   ]
  },
  {
   "cell_type": "markdown",
   "id": "b7186183-3f19-4224-b791-8863f0c0f818",
   "metadata": {},
   "source": [
    "Let's repeat the steps for the dataset where we filled the NaN values __with the training mean__."
   ]
  },
  {
   "cell_type": "code",
   "execution_count": 16,
   "id": "d3c7384f-790d-4e82-a469-f4761c539b40",
   "metadata": {},
   "outputs": [
    {
     "name": "stdout",
     "output_type": "stream",
     "text": [
      "676.8954853003471\n",
      "[ 43.70681555   0.86506867 -36.10399833]\n",
      "ram         15.666667\n",
      "storage    599.101852\n",
      "screen      15.163534\n",
      "dtype: float64\n"
     ]
    }
   ],
   "source": [
    "X_train2 = prepare_data_mean(df_train)\n",
    "X_val2 = prepare_data_mean(df_val)\n",
    "w0_new, w_new = train_linear_regression(X_train2,y_train)\n",
    "print(w0)\n",
    "print(w)\n",
    "print(mean_train)"
   ]
  },
  {
   "cell_type": "code",
   "execution_count": 17,
   "id": "d8ee7caf-6a44-4ced-9123-b3aaff596f2a",
   "metadata": {},
   "outputs": [
    {
     "name": "stdout",
     "output_type": "stream",
     "text": [
      "600.2650313748422\n",
      "After filling the NaN values with mean values, the root mean square error \u001b[1m(RMSE)\u001b[0m for the validation set was \u001b[1m600.27\u001b[0m.\n"
     ]
    }
   ],
   "source": [
    "y_val_pred2 = w0_new + X_val2.dot(w_new)\n",
    "y_val_remse2 = rmse(y_val_pred2, y_val)\n",
    "print(y_val_remse2)\n",
    "print(f\"After filling the NaN values with mean values, the root mean square error \\033[1m(RMSE)\\033[0m for the validation set was \\033[1m{y_val_remse2:.2f}\\033[0m.\")"
   ]
  },
  {
   "cell_type": "markdown",
   "id": "81538615-3f8a-43f6-9207-eed62be774bc",
   "metadata": {},
   "source": [
    "__Filling with zero__ gave better RMSE."
   ]
  },
  {
   "cell_type": "markdown",
   "id": "4fdf4881-82a0-4a36-a78b-b642bfa0145e",
   "metadata": {},
   "source": [
    "__Q4__ Now let's train a regularized linear regression.\n",
    " \n",
    "- For this question, fill the NAs with 0.\n",
    "- Try different values of r from this list: [0, 0.01, 0.1, 1, 5, 10, 100].\n",
    "- Use RMSE to evaluate the model on the validation dataset.\n",
    "- Round the RMSE scores to 2 decimal digits.\n",
    "- Which r gives the best RMSE?\n",
    "- If there are multiple options, select the smallest r."
   ]
  },
  {
   "cell_type": "code",
   "execution_count": 18,
   "id": "13518cf7-ba49-4119-8b35-924e81607e9b",
   "metadata": {},
   "outputs": [],
   "source": [
    "def train_linear_regression_reg(X,y, reg):\n",
    "    #for the bias component\n",
    "    ones = np.ones(X.shape[0])\n",
    "    X = np.column_stack([ones, X])\n",
    "    XTX = X.T.dot(X)\n",
    "    #add regularization term to diagonal components\n",
    "    XTX = XTX + reg*np.eye(XTX.shape[0])\n",
    "    XTX_inv = np.linalg.inv(XTX)\n",
    "    w_full = XTX_inv.dot(X.T).dot(y)\n",
    "    return w_full[0], w_full[1:]"
   ]
  },
  {
   "cell_type": "code",
   "execution_count": null,
   "id": "259e05ff-c9a8-4fc5-8395-42d6b4aaf3ca",
   "metadata": {},
   "outputs": [],
   "source": []
  },
  {
   "cell_type": "code",
   "execution_count": null,
   "id": "c8358e49-8e56-428d-ae26-edcb932dcd92",
   "metadata": {},
   "outputs": [],
   "source": []
  },
  {
   "cell_type": "code",
   "execution_count": 19,
   "id": "f0f015cb-da7f-413d-8007-780f8e5c28a6",
   "metadata": {},
   "outputs": [
    {
     "name": "stdout",
     "output_type": "stream",
     "text": [
      "regularization parameter: 0, bias term: 676.8954853003471, score: 597.36\n",
      "regularization parameter: 0.01, bias term: 676.8954853003471, score: 597.36\n",
      "regularization parameter: 0.1, bias term: 676.8954853003471, score: 597.35\n",
      "regularization parameter: 1, bias term: 676.8954853003471, score: 597.21\n",
      "regularization parameter: 5, bias term: 676.8954853003471, score: 597.01\n",
      "regularization parameter: 10, bias term: 676.8954853003471, score: 597.06\n",
      "regularization parameter: 100, bias term: 676.8954853003471, score: 597.90\n"
     ]
    }
   ],
   "source": [
    "np.random.seed(42)\n",
    "X_trainnew = prepare_data_zero(df_train)\n",
    "X_valnew = prepare_data_zero(df_val)\n",
    "for i in [0, 0.01, 0.1, 1, 5, 10, 100]:\n",
    "    w0r, wr = train_linear_regression_reg(X_trainnew,y_train, reg = i)\n",
    "    y_val_pred1 = w0r + X_valnew.dot(wr)\n",
    "    score = rmse(y_val_pred1,y_val)\n",
    "    print(f\"regularization parameter: {i}, bias term: {w0}, score: {score:.2f}\")\n",
    "    "
   ]
  },
  {
   "cell_type": "code",
   "execution_count": null,
   "id": "980a1fea-1a05-45b5-9cc9-7fb4d2a31f1f",
   "metadata": {},
   "outputs": [],
   "source": []
  },
  {
   "cell_type": "markdown",
   "id": "8483f8de-1f45-462e-9c65-02bd58fefff2",
   "metadata": {},
   "source": [
    "We evaluated the __smallest__ RMSE score for the regularization parameters __r = 5__.\n",
    "\n"
   ]
  },
  {
   "cell_type": "markdown",
   "id": "0644e937-173b-4f12-a9b6-0818de899432",
   "metadata": {},
   "source": [
    "__q5__ We used seed 42 for splitting the data. Let's find out how selecting the seed influences our score.\n",
    "- Try different seed values: [0, 1, 2, 3, 4, 5, 6, 7, 8, 9].\n",
    "- For each seed, do the train/validation/test split with 60%/20%/20% distribution.\n",
    "- Fill the missing values with 0 and train a model without regularization.\n",
    "- For each seed, evaluate the model on the validation dataset and collect the RMSE scores.\n",
    "- What's the standard deviation of all the scores? To compute the standard deviation, use np.std.\n",
    "- Round the result to 3 decimal digits (round(std, 3))\n",
    "What's the value of std?"
   ]
  },
  {
   "cell_type": "code",
   "execution_count": 20,
   "id": "d6a4a1ce-49d7-419f-bfae-ca91d2f66a05",
   "metadata": {},
   "outputs": [
    {
     "name": "stdout",
     "output_type": "stream",
     "text": [
      "1296 432 432 2160\n",
      "1296 432 432 2160\n",
      "1296 432 432 2160\n",
      "1296 432 432 2160\n",
      "1296 432 432 2160\n",
      "1296 432 432 2160\n",
      "1296 432 432 2160\n",
      "1296 432 432 2160\n",
      "1296 432 432 2160\n",
      "1296 432 432 2160\n",
      "[565.45208688 636.79854231 588.95586979 597.814892   571.96279151\n",
      " 573.23832566 647.34383284 550.43981845 587.33350362 576.10179294]\n",
      "\n"
     ]
    }
   ],
   "source": [
    "results = []\n",
    "for seed in  [0, 1, 2, 3, 4, 5, 6, 7, 8, 9]:\n",
    "    np.random.seed(seed)\n",
    "    idx = np.arange(n)\n",
    "    \n",
    "    np.random.shuffle(idx)\n",
    "\n",
    "    df_train = df.iloc[idx[:n_train]]\n",
    "\n",
    "    df_val = df.iloc[idx[n_train:n_train+n_val]]\n",
    "\n",
    "    df_test = df.iloc[idx[n_train+n_val:]]\n",
    "\n",
    "    print(len(df_train), len(df_val), len(df_test), len(df_train)+len(df_val)+len(df_val))\n",
    "\n",
    "    #y_train = np.log1p(df_train.final_price.values)\n",
    "    #y_val =  np.log1p(df_val.final_price.values)\n",
    "    #y_test = np.log1p(df_test.final_price.values)\n",
    "    y_train = df_train.final_price.values\n",
    "    y_val =  df_val.final_price.values\n",
    "    y_test = df_test.final_price.values\n",
    "    del df_train['final_price']\n",
    "    del df_val['final_price']\n",
    "    del df_test['final_price']\n",
    "    #df_train_v1 = df_train.fillna(0)\n",
    "    #df_val_v1 = df_val.fillna(0)\n",
    "    #df_test_v1 = df_test.fillna(0)\n",
    "    #X_train1 = df_train_v1.values\n",
    "    #X_val1 = df_val_v1.values\n",
    "    #X_test = df_test_v1.values\n",
    "    \n",
    "    X_train =  prepare_data_zero(df_train)\n",
    "    X_val =  prepare_data_zero(df_val)\n",
    "    X_test =  prepare_data_zero(df_test)\n",
    "    w0, w = train_linear_regression(X_train,y_train)\n",
    "    y_val_pred1 = w0 + X_val.dot(w)\n",
    "    score = rmse(y_val_pred1,y_val)\n",
    "    results.append(score)\n",
    "\n",
    "arr_results = np.hstack(results)   \n",
    "print(arr_results)\n",
    "\n",
    "print()"
   ]
  },
  {
   "cell_type": "code",
   "execution_count": 21,
   "id": "d0d7a7f5-b7fd-4bb6-88b1-dd4211fa62b8",
   "metadata": {},
   "outputs": [
    {
     "name": "stdout",
     "output_type": "stream",
     "text": [
      "The standard deviation of the RMSE scores across different random seeds is \u001b[1m29.176\u001b[0m\n"
     ]
    }
   ],
   "source": [
    "print(f\"The standard deviation of the RMSE scores across different random seeds is \\033[1m{np.std(arr_results):.3f}\\033[0m\")"
   ]
  },
  {
   "cell_type": "markdown",
   "id": "47bd0e7f-fd87-499c-9ed0-3b846264b66a",
   "metadata": {},
   "source": [
    "__q6__ \n",
    "\n",
    "- Split the dataset like previously, use seed 9.\n",
    "- Combine train and validation datasets.\n",
    "- Fill the missing values with 0 and train a model with r=0.001.\n",
    "- What's the RMSE on the test dataset?"
   ]
  },
  {
   "cell_type": "code",
   "execution_count": 22,
   "id": "3497425c-cf32-4f4b-9508-baf92d2edaa8",
   "metadata": {},
   "outputs": [
    {
     "name": "stdout",
     "output_type": "stream",
     "text": [
      "1296 432 432 2160\n",
      "The RMSE for the test data is \u001b[1m608.61\u001b[0m.\n"
     ]
    }
   ],
   "source": [
    "np.random.seed(9)\n",
    "idx = np.arange(n)\n",
    "\n",
    "np.random.shuffle(idx)\n",
    "df_train = df.iloc[idx[:n_train]]\n",
    "df_val = df.iloc[idx[n_train:n_train+n_val]]\n",
    "df_test = df.iloc[idx[n_train+n_val:]]\n",
    "print(len(df_train), len(df_val), len(df_test), len(df_train)+len(df_val)+len(df_val))\n",
    "#y_train = np.log1p(df_train.final_price.values)\n",
    "#y_val =  np.log1p(df_val.final_price.values)\n",
    "#y_test = np.log1p(df_test.final_price.values)\n",
    "\n",
    "y_train = df_train.final_price.values\n",
    "y_val =  df_val.final_price.values\n",
    "y_test = df_test.final_price.values\n",
    "del df_train['final_price']\n",
    "del df_val['final_price']\n",
    "del df_test['final_price']\n",
    "df_full_train = pd.concat([df_train, df_val])\n",
    "df_full_train = df_full_train.reset_index(drop = True)\n",
    "y_full_train = np.concatenate([y_train,y_val])\n",
    "df_full_train = df_full_train.fillna(0)\n",
    "df_test_v1 = df_test.fillna(0)\n",
    "X_full_train = df_full_train.values\n",
    "X_test1 = df_test_v1.values\n",
    "w0, w = train_linear_regression_reg(X_full_train,y_full_train, 0.001)\n",
    "y_test_pred1 = w0 + X_test1.dot(w)\n",
    "score = rmse(y_test_pred1,y_test)\n",
    "print(f'The RMSE for the test data is \\033[1m{score:.2f}\\033[0m.')"
   ]
  },
  {
   "cell_type": "code",
   "execution_count": null,
   "id": "381a80c1-18d1-42b0-9c4e-cb9b98694f39",
   "metadata": {},
   "outputs": [],
   "source": []
  },
  {
   "cell_type": "code",
   "execution_count": null,
   "id": "f3560fc1-3543-4d54-bea4-131f7762403c",
   "metadata": {},
   "outputs": [],
   "source": []
  }
 ],
 "metadata": {
  "kernelspec": {
   "display_name": "Python 3 (ipykernel)",
   "language": "python",
   "name": "python3"
  },
  "language_info": {
   "codemirror_mode": {
    "name": "ipython",
    "version": 3
   },
   "file_extension": ".py",
   "mimetype": "text/x-python",
   "name": "python",
   "nbconvert_exporter": "python",
   "pygments_lexer": "ipython3",
   "version": "3.11.9"
  }
 },
 "nbformat": 4,
 "nbformat_minor": 5
}

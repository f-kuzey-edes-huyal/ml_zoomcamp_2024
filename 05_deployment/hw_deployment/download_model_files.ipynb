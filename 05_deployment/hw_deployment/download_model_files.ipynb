{
 "cells": [
  {
   "cell_type": "code",
   "execution_count": 2,
   "id": "5cdac8d0-4db9-4d52-b742-4bb2d2c16f05",
   "metadata": {},
   "outputs": [],
   "source": [
    "PREFIX=\"https://raw.githubusercontent.com/DataTalksClub/machine-learning-zoomcamp/master/cohorts/2024/05-deployment/homework\""
   ]
  },
  {
   "cell_type": "code",
   "execution_count": 3,
   "id": "b98e4e03-313a-42d3-a273-d39e1af89a16",
   "metadata": {},
   "outputs": [
    {
     "name": "stderr",
     "output_type": "stream",
     "text": [
      "--2024-10-26 23:39:15--  https://raw.githubusercontent.com/DataTalksClub/machine-learning-zoomcamp/master/cohorts/2024/05-deployment/homework/model1.bin\n",
      "Resolving raw.githubusercontent.com (raw.githubusercontent.com)... 185.199.109.133, 185.199.108.133, 185.199.110.133, ...\n",
      "Connecting to raw.githubusercontent.com (raw.githubusercontent.com)|185.199.109.133|:443... connected.\n",
      "HTTP request sent, awaiting response... 200 OK\n",
      "Length: 850 [application/octet-stream]\n",
      "Saving to: 'model1.bin'\n",
      "\n",
      "     0K                                                       100%  983K=0.001s\n",
      "\n",
      "2024-10-26 23:39:16 (983 KB/s) - 'model1.bin' saved [850/850]\n",
      "\n",
      "--2024-10-26 23:39:16--  https://raw.githubusercontent.com/DataTalksClub/machine-learning-zoomcamp/master/cohorts/2024/05-deployment/homework/dv.bin\n",
      "Resolving raw.githubusercontent.com (raw.githubusercontent.com)... 185.199.109.133, 185.199.108.133, 185.199.110.133, ...\n",
      "Connecting to raw.githubusercontent.com (raw.githubusercontent.com)|185.199.109.133|:443... connected.\n",
      "HTTP request sent, awaiting response... 200 OK\n",
      "Length: 560 [application/octet-stream]\n",
      "Saving to: 'dv.bin'\n",
      "\n",
      "     0K                                                       100% 1.70M=0s\n",
      "\n",
      "2024-10-26 23:39:17 (1.70 MB/s) - 'dv.bin' saved [560/560]\n",
      "\n"
     ]
    }
   ],
   "source": [
    "!wget $PREFIX/model1.bin\n",
    "!wget $PREFIX/dv.bin"
   ]
  },
  {
   "cell_type": "code",
   "execution_count": 4,
   "id": "a2651fb9-4218-4438-a152-0556514ff689",
   "metadata": {},
   "outputs": [
    {
     "name": "stdout",
     "output_type": "stream",
     "text": [
      "Collecting pickle-mixin\n",
      "  Downloading pickle-mixin-1.0.2.tar.gz (5.1 kB)\n",
      "  Preparing metadata (setup.py): started\n",
      "  Preparing metadata (setup.py): finished with status 'done'\n",
      "Building wheels for collected packages: pickle-mixin\n",
      "  Building wheel for pickle-mixin (setup.py): started\n",
      "  Building wheel for pickle-mixin (setup.py): finished with status 'done'\n",
      "  Created wheel for pickle-mixin: filename=pickle_mixin-1.0.2-py3-none-any.whl size=6017 sha256=9d8cd938039946df8b29bf7b96aa8787732cf106243e260581669900980c9f8e\n",
      "  Stored in directory: c:\\users\\kuzey\\appdata\\local\\pip\\cache\\wheels\\d0\\9c\\0d\\8709be17c02b72bf04ea60d8ec64fc46a1554c0fb81e048dd6\n",
      "Successfully built pickle-mixin\n",
      "Installing collected packages: pickle-mixin\n",
      "Successfully installed pickle-mixin-1.0.2\n"
     ]
    }
   ],
   "source": [
    "!pip install pickle-mixin\n"
   ]
  },
  {
   "cell_type": "code",
   "execution_count": 5,
   "id": "fa758313-3fbc-4b17-826d-6483e5a1eb0b",
   "metadata": {},
   "outputs": [],
   "source": [
    "import pickle"
   ]
  },
  {
   "cell_type": "code",
   "execution_count": 6,
   "id": "7daf0651-2e3c-4e51-a59a-fd7ec4a19fff",
   "metadata": {},
   "outputs": [],
   "source": [
    "model_file = \"model1.bin\"\n",
    "\n",
    "dv_file = \"dv.bin\""
   ]
  },
  {
   "cell_type": "code",
   "execution_count": 7,
   "id": "2154f080-dc1d-429c-ab10-4c3c85c118a0",
   "metadata": {},
   "outputs": [
    {
     "name": "stderr",
     "output_type": "stream",
     "text": [
      "C:\\Users\\Kuzey\\Anaconda3\\envs\\ml-zoomcamp\\Lib\\site-packages\\sklearn\\base.py:376: InconsistentVersionWarning: Trying to unpickle estimator LogisticRegression from version 1.5.2 when using version 1.5.1. This might lead to breaking code or invalid results. Use at your own risk. For more info please refer to:\n",
      "https://scikit-learn.org/stable/model_persistence.html#security-maintainability-limitations\n",
      "  warnings.warn(\n",
      "C:\\Users\\Kuzey\\Anaconda3\\envs\\ml-zoomcamp\\Lib\\site-packages\\sklearn\\base.py:376: InconsistentVersionWarning: Trying to unpickle estimator DictVectorizer from version 1.5.2 when using version 1.5.1. This might lead to breaking code or invalid results. Use at your own risk. For more info please refer to:\n",
      "https://scikit-learn.org/stable/model_persistence.html#security-maintainability-limitations\n",
      "  warnings.warn(\n"
     ]
    }
   ],
   "source": [
    "with open(model_file, 'rb') as file_1, \\\n",
    "     open(dv_file, 'rb') as file_2:\n",
    "     model = pickle.load(file_1)\n",
    "     dv = pickle.load(file_2)"
   ]
  },
  {
   "cell_type": "code",
   "execution_count": 8,
   "id": "a44355cd-8d8e-4878-9b10-42f1a66c8c1f",
   "metadata": {},
   "outputs": [],
   "source": [
    "client = {\"job\": \"management\", \"duration\": 400, \"poutcome\": \"success\"}"
   ]
  },
  {
   "cell_type": "code",
   "execution_count": 9,
   "id": "b23ad827-278c-48df-ae5a-0957d93f37c9",
   "metadata": {},
   "outputs": [],
   "source": [
    "X = dv.transform([client])\n",
    "prob = model.predict_proba(X)[0,1]"
   ]
  },
  {
   "cell_type": "code",
   "execution_count": 10,
   "id": "c2dd877d-2c2e-4105-bf96-c05eddef7cc8",
   "metadata": {},
   "outputs": [
    {
     "data": {
      "text/plain": [
       "0.7590966516879658"
      ]
     },
     "execution_count": 10,
     "metadata": {},
     "output_type": "execute_result"
    }
   ],
   "source": [
    "prob"
   ]
  },
  {
   "cell_type": "code",
   "execution_count": 12,
   "id": "f81d9652-6028-4048-8209-32b98094a852",
   "metadata": {},
   "outputs": [
    {
     "name": "stdout",
     "output_type": "stream",
     "text": [
      "I calculated the probability that the client will subscribe, and it is 0.759\n"
     ]
    }
   ],
   "source": [
    "print(f\"I calculated the probability that the client will subscribe, and it is {prob:.3f}\")"
   ]
  },
  {
   "cell_type": "code",
   "execution_count": null,
   "id": "6017e653-6c03-4eb7-81a3-c2391fc6b86e",
   "metadata": {},
   "outputs": [],
   "source": []
  }
 ],
 "metadata": {
  "kernelspec": {
   "display_name": "Python 3 (ipykernel)",
   "language": "python",
   "name": "python3"
  },
  "language_info": {
   "codemirror_mode": {
    "name": "ipython",
    "version": 3
   },
   "file_extension": ".py",
   "mimetype": "text/x-python",
   "name": "python",
   "nbconvert_exporter": "python",
   "pygments_lexer": "ipython3",
   "version": "3.11.9"
  }
 },
 "nbformat": 4,
 "nbformat_minor": 5
}

{
 "cells": [
  {
   "cell_type": "markdown",
   "id": "26e7ed28-12ee-464a-afc8-d395d9daf36d",
   "metadata": {},
   "source": [
    "In this homework, we will use the Students Performance in 2024 JAMB dataset from [Kaggle](https://www.kaggle.com/datasets/idowuadamo/students-performance-in-2024-jamb).\n",
    "\n",
    "Here's a wget-able link:"
   ]
  },
  {
   "cell_type": "code",
   "execution_count": 1,
   "id": "cf1f37a5-edeb-4522-bca4-ec79b49dbe57",
   "metadata": {},
   "outputs": [],
   "source": [
    "#!wget https://github.com/alexeygrigorev/datasets/raw/refs/heads/master/jamb_exam_results.csv"
   ]
  },
  {
   "cell_type": "markdown",
   "id": "995ca144-dcbd-45b5-aa93-3a187bc4082b",
   "metadata": {},
   "source": [
    "The goal of this homework is to create a regression model for predicting the performance of students on a standardized test <code>column['JAMB_Score'</code>)."
   ]
  },
  {
   "cell_type": "markdown",
   "id": "2574f19b-6b7f-4e1b-9a0c-813543448101",
   "metadata": {},
   "source": [
    "__Preparing the dataset__\n",
    "First, let's make the names lowercase:"
   ]
  },
  {
   "cell_type": "code",
   "execution_count": 2,
   "id": "6551deee-0ccc-4411-8de0-3f7b01d3ae49",
   "metadata": {},
   "outputs": [],
   "source": [
    "import pandas as pd\n",
    "df = pd.read_csv(\"jamb_exam_results.csv\")"
   ]
  },
  {
   "cell_type": "code",
   "execution_count": 3,
   "id": "086a273c-f3d1-43c3-bb7e-fcfbb8d41976",
   "metadata": {},
   "outputs": [],
   "source": [
    "df.columns = df.columns.str.lower().str.replace(\" \", \"_\")"
   ]
  },
  {
   "cell_type": "code",
   "execution_count": 4,
   "id": "00cdcebf-be34-4001-b9b4-7d9d5e163b05",
   "metadata": {},
   "outputs": [
    {
     "data": {
      "text/html": [
       "<div>\n",
       "<style scoped>\n",
       "    .dataframe tbody tr th:only-of-type {\n",
       "        vertical-align: middle;\n",
       "    }\n",
       "\n",
       "    .dataframe tbody tr th {\n",
       "        vertical-align: top;\n",
       "    }\n",
       "\n",
       "    .dataframe thead th {\n",
       "        text-align: right;\n",
       "    }\n",
       "</style>\n",
       "<table border=\"1\" class=\"dataframe\">\n",
       "  <thead>\n",
       "    <tr style=\"text-align: right;\">\n",
       "      <th></th>\n",
       "      <th>jamb_score</th>\n",
       "      <th>study_hours_per_week</th>\n",
       "      <th>attendance_rate</th>\n",
       "      <th>teacher_quality</th>\n",
       "      <th>distance_to_school</th>\n",
       "      <th>school_type</th>\n",
       "      <th>school_location</th>\n",
       "      <th>extra_tutorials</th>\n",
       "      <th>access_to_learning_materials</th>\n",
       "      <th>parent_involvement</th>\n",
       "      <th>it_knowledge</th>\n",
       "      <th>student_id</th>\n",
       "      <th>age</th>\n",
       "      <th>gender</th>\n",
       "      <th>socioeconomic_status</th>\n",
       "      <th>parent_education_level</th>\n",
       "      <th>assignments_completed</th>\n",
       "    </tr>\n",
       "  </thead>\n",
       "  <tbody>\n",
       "    <tr>\n",
       "      <th>0</th>\n",
       "      <td>192</td>\n",
       "      <td>22</td>\n",
       "      <td>78</td>\n",
       "      <td>4</td>\n",
       "      <td>12.4</td>\n",
       "      <td>Public</td>\n",
       "      <td>Urban</td>\n",
       "      <td>Yes</td>\n",
       "      <td>Yes</td>\n",
       "      <td>High</td>\n",
       "      <td>Medium</td>\n",
       "      <td>1</td>\n",
       "      <td>17</td>\n",
       "      <td>Male</td>\n",
       "      <td>Low</td>\n",
       "      <td>Tertiary</td>\n",
       "      <td>2</td>\n",
       "    </tr>\n",
       "    <tr>\n",
       "      <th>1</th>\n",
       "      <td>207</td>\n",
       "      <td>14</td>\n",
       "      <td>88</td>\n",
       "      <td>4</td>\n",
       "      <td>2.7</td>\n",
       "      <td>Public</td>\n",
       "      <td>Rural</td>\n",
       "      <td>No</td>\n",
       "      <td>Yes</td>\n",
       "      <td>High</td>\n",
       "      <td>High</td>\n",
       "      <td>2</td>\n",
       "      <td>15</td>\n",
       "      <td>Male</td>\n",
       "      <td>High</td>\n",
       "      <td>NaN</td>\n",
       "      <td>1</td>\n",
       "    </tr>\n",
       "    <tr>\n",
       "      <th>2</th>\n",
       "      <td>182</td>\n",
       "      <td>29</td>\n",
       "      <td>87</td>\n",
       "      <td>2</td>\n",
       "      <td>9.6</td>\n",
       "      <td>Public</td>\n",
       "      <td>Rural</td>\n",
       "      <td>Yes</td>\n",
       "      <td>Yes</td>\n",
       "      <td>High</td>\n",
       "      <td>Medium</td>\n",
       "      <td>3</td>\n",
       "      <td>20</td>\n",
       "      <td>Female</td>\n",
       "      <td>High</td>\n",
       "      <td>Tertiary</td>\n",
       "      <td>2</td>\n",
       "    </tr>\n",
       "    <tr>\n",
       "      <th>3</th>\n",
       "      <td>210</td>\n",
       "      <td>29</td>\n",
       "      <td>99</td>\n",
       "      <td>2</td>\n",
       "      <td>2.6</td>\n",
       "      <td>Public</td>\n",
       "      <td>Urban</td>\n",
       "      <td>No</td>\n",
       "      <td>Yes</td>\n",
       "      <td>Medium</td>\n",
       "      <td>High</td>\n",
       "      <td>4</td>\n",
       "      <td>22</td>\n",
       "      <td>Female</td>\n",
       "      <td>Medium</td>\n",
       "      <td>Tertiary</td>\n",
       "      <td>1</td>\n",
       "    </tr>\n",
       "    <tr>\n",
       "      <th>4</th>\n",
       "      <td>199</td>\n",
       "      <td>12</td>\n",
       "      <td>98</td>\n",
       "      <td>3</td>\n",
       "      <td>8.8</td>\n",
       "      <td>Public</td>\n",
       "      <td>Urban</td>\n",
       "      <td>No</td>\n",
       "      <td>Yes</td>\n",
       "      <td>Medium</td>\n",
       "      <td>Medium</td>\n",
       "      <td>5</td>\n",
       "      <td>22</td>\n",
       "      <td>Female</td>\n",
       "      <td>Medium</td>\n",
       "      <td>Tertiary</td>\n",
       "      <td>1</td>\n",
       "    </tr>\n",
       "  </tbody>\n",
       "</table>\n",
       "</div>"
      ],
      "text/plain": [
       "   jamb_score  study_hours_per_week  attendance_rate  teacher_quality  \\\n",
       "0         192                    22               78                4   \n",
       "1         207                    14               88                4   \n",
       "2         182                    29               87                2   \n",
       "3         210                    29               99                2   \n",
       "4         199                    12               98                3   \n",
       "\n",
       "   distance_to_school school_type school_location extra_tutorials  \\\n",
       "0                12.4      Public           Urban             Yes   \n",
       "1                 2.7      Public           Rural              No   \n",
       "2                 9.6      Public           Rural             Yes   \n",
       "3                 2.6      Public           Urban              No   \n",
       "4                 8.8      Public           Urban              No   \n",
       "\n",
       "  access_to_learning_materials parent_involvement it_knowledge  student_id  \\\n",
       "0                          Yes               High       Medium           1   \n",
       "1                          Yes               High         High           2   \n",
       "2                          Yes               High       Medium           3   \n",
       "3                          Yes             Medium         High           4   \n",
       "4                          Yes             Medium       Medium           5   \n",
       "\n",
       "   age  gender socioeconomic_status parent_education_level  \\\n",
       "0   17    Male                  Low               Tertiary   \n",
       "1   15    Male                 High                    NaN   \n",
       "2   20  Female                 High               Tertiary   \n",
       "3   22  Female               Medium               Tertiary   \n",
       "4   22  Female               Medium               Tertiary   \n",
       "\n",
       "   assignments_completed  \n",
       "0                      2  \n",
       "1                      1  \n",
       "2                      2  \n",
       "3                      1  \n",
       "4                      1  "
      ]
     },
     "execution_count": 4,
     "metadata": {},
     "output_type": "execute_result"
    }
   ],
   "source": [
    "df.head()"
   ]
  },
  {
   "cell_type": "markdown",
   "id": "01aff606-7809-4cd6-aab9-fed1eaace221",
   "metadata": {},
   "source": [
    "Preparation:\n",
    "\n",
    "- Remove the student_id column.\n",
    "- Fill missing values with zeros.\n",
    "- Do train/validation/test split with 60%/20%/20% distribution.\n",
    "- Use the <code>train_test_split<\\code> function and set the <code>random_state</code> parameter to 1.\n",
    "- Use <code>DictVectorizer(sparse=True)<\\code> to turn the dataframes into matrices."
   ]
  },
  {
   "cell_type": "code",
   "execution_count": 5,
   "id": "d7246c3f-49f8-46e1-ac8a-28d9d758b7c8",
   "metadata": {},
   "outputs": [],
   "source": [
    "df_new = df.copy()"
   ]
  },
  {
   "cell_type": "code",
   "execution_count": 6,
   "id": "e3155fae-2f03-4c63-bde6-9c10733f4862",
   "metadata": {},
   "outputs": [],
   "source": [
    "del df_new[\"student_id\"]\n",
    "\n",
    "df_new = df_new.fillna(0)\n",
    "\n",
    "from sklearn.model_selection import train_test_split"
   ]
  },
  {
   "cell_type": "code",
   "execution_count": 7,
   "id": "ce6866c0-6220-40d5-9ef1-8922d4ce12ba",
   "metadata": {},
   "outputs": [],
   "source": [
    "df_full_train, df_test = train_test_split(df_new, test_size = 0.2, random_state = 1)\n",
    "df_train, df_val = train_test_split(df_full_train, test_size = 0.25, random_state =1)\n",
    "\n"
   ]
  },
  {
   "cell_type": "code",
   "execution_count": 8,
   "id": "08a65048-ed6c-4cd5-8ebb-4ac7532c7750",
   "metadata": {},
   "outputs": [],
   "source": [
    "df_train = df_train.reset_index(drop = True)\n",
    "df_val = df_val.reset_index(drop = True)\n",
    "df_test = df_test.reset_index(drop =True)\n",
    "df_full_train = df_full_train.reset_index(drop= True)"
   ]
  },
  {
   "cell_type": "code",
   "execution_count": 9,
   "id": "ddeaf7e4-4a3f-49e6-aac0-230d91304ca0",
   "metadata": {},
   "outputs": [],
   "source": [
    "y_train = df_train.jamb_score.values\n",
    "y_val = df_val.jamb_score.values\n",
    "y_test = df_test.jamb_score.values\n",
    "y_full_train = df_full_train.jamb_score.values"
   ]
  },
  {
   "cell_type": "code",
   "execution_count": 10,
   "id": "9196c9d7-d29d-4431-b5d1-a4562398094d",
   "metadata": {},
   "outputs": [
    {
     "data": {
      "text/plain": [
       "Index(['jamb_score', 'study_hours_per_week', 'attendance_rate',\n",
       "       'teacher_quality', 'distance_to_school', 'school_type',\n",
       "       'school_location', 'extra_tutorials', 'access_to_learning_materials',\n",
       "       'parent_involvement', 'it_knowledge', 'age', 'gender',\n",
       "       'socioeconomic_status', 'parent_education_level',\n",
       "       'assignments_completed'],\n",
       "      dtype='object')"
      ]
     },
     "execution_count": 10,
     "metadata": {},
     "output_type": "execute_result"
    }
   ],
   "source": [
    "df_train.columns"
   ]
  },
  {
   "cell_type": "code",
   "execution_count": 11,
   "id": "89320d86-dee5-46e5-ab90-63adb6de466d",
   "metadata": {},
   "outputs": [],
   "source": [
    "del df_train[\"jamb_score\"]\n",
    "del df_val[\"jamb_score\"]\n",
    "del df_test[\"jamb_score\"]\n",
    "del df_full_train[\"jamb_score\"]"
   ]
  },
  {
   "cell_type": "code",
   "execution_count": 12,
   "id": "dcdc321e-2306-4fae-9f44-f52724270f89",
   "metadata": {},
   "outputs": [],
   "source": [
    "from sklearn.feature_extraction import DictVectorizer"
   ]
  },
  {
   "cell_type": "code",
   "execution_count": 13,
   "id": "e543e956-fe74-4415-98b0-aaad44277f16",
   "metadata": {},
   "outputs": [],
   "source": [
    "train_dicts = df_train.to_dict(orient = \"records\")\n",
    "val_dicts = df_val.to_dict(orient = \"records\")\n",
    "test_dicts = df_test.to_dict(orient = \"records\")\n",
    "full_train_dicts = df_full_train.to_dict(orient = \"records\")\n"
   ]
  },
  {
   "cell_type": "code",
   "execution_count": 14,
   "id": "180944e7-ed44-45fc-a1ec-9dbf69ca23ab",
   "metadata": {},
   "outputs": [],
   "source": [
    "dv = DictVectorizer(sparse = True)\n",
    "dv.fit(train_dicts)\n",
    "\n",
    "X_train = dv.transform(train_dicts)\n",
    "X_val = dv.transform(val_dicts)\n",
    "X_test = dv.transform(test_dicts)\n",
    "X_full_train = dv.transform(full_train_dicts)"
   ]
  },
  {
   "cell_type": "markdown",
   "id": "23a197d2-0383-431a-97cd-1ea657e96935",
   "metadata": {},
   "source": [
    "__Question 1__\n",
    "Let's train a decision tree regressor to predict the jamb_score variable.\n",
    "\n",
    "Train a model with <code>max_depth=1 <code>.\n",
    "\n",
    "Which feature is used for splitting the data?\n",
    "\n",
    "-  <code>study_hours_per_week</code>\n",
    "- <code>attendance_rate</code>\n",
    "- <code>teacher_quality</code>\n",
    "- <code>distance_to_school</code>"
   ]
  },
  {
   "cell_type": "code",
   "execution_count": 15,
   "id": "ed98a3a1-41e7-4a75-9e0a-eba8da6a175b",
   "metadata": {},
   "outputs": [],
   "source": [
    "from sklearn.tree import DecisionTreeRegressor\n",
    "from sklearn.metrics import roc_auc_score \n"
   ]
  },
  {
   "cell_type": "code",
   "execution_count": 16,
   "id": "f76092c2-4a01-4c4c-ae17-4b5fdf58f218",
   "metadata": {},
   "outputs": [
    {
     "name": "stdout",
     "output_type": "stream",
     "text": [
      "[145 231 161 ... 216 234 103]\n"
     ]
    }
   ],
   "source": [
    "print(y_train)"
   ]
  },
  {
   "cell_type": "code",
   "execution_count": 17,
   "id": "059edf5a-e640-488b-86dd-e43b97bb7ffa",
   "metadata": {},
   "outputs": [],
   "source": [
    "dt = DecisionTreeRegressor(max_depth =1)\n",
    "dt.fit(X_train, y_train)\n",
    "y_pred = dt.predict(X_val)"
   ]
  },
  {
   "cell_type": "code",
   "execution_count": 18,
   "id": "4c7be577-a519-4940-bed9-2ae7d6b72603",
   "metadata": {},
   "outputs": [],
   "source": [
    "from sklearn.tree import export_text"
   ]
  },
  {
   "cell_type": "code",
   "execution_count": 19,
   "id": "293fd771-bad8-4b37-bf15-53f192c7d871",
   "metadata": {},
   "outputs": [
    {
     "name": "stdout",
     "output_type": "stream",
     "text": [
      "|--- study_hours_per_week <= 18.50\n",
      "|   |--- value: [155.24]\n",
      "|--- study_hours_per_week >  18.50\n",
      "|   |--- value: [188.59]\n",
      "\n"
     ]
    }
   ],
   "source": [
    "print(export_text(dt, feature_names = list(dv.get_feature_names_out())))"
   ]
  },
  {
   "cell_type": "markdown",
   "id": "9459f540-73a8-4b6f-9af1-d49269033954",
   "metadata": {},
   "source": [
    "__Question 2__\n",
    "\n",
    "Train a random forest model with these parameters:\n",
    "\n",
    "<code>n_estimators=10<code>\n",
    "<code>random_state=1<code>\n",
    "<code>n_jobs=-1 <code>(optional - to make training faster)\n",
    "\n",
    "What's the RMSE of this model on validation?\n",
    "\n",
    "- 22.13\n",
    "- 42.13\n",
    "- 62.13\n",
    "- 82.12"
   ]
  },
  {
   "cell_type": "code",
   "execution_count": 20,
   "id": "af256ed1-94c4-4e6a-98e9-c700c93cb0d5",
   "metadata": {},
   "outputs": [],
   "source": [
    "from sklearn.ensemble import RandomForestRegressor\n",
    "from sklearn.metrics import root_mean_squared_error"
   ]
  },
  {
   "cell_type": "code",
   "execution_count": 21,
   "id": "f2102a1f-019a-445e-86ad-9d41754b35f9",
   "metadata": {},
   "outputs": [],
   "source": [
    "rf = RandomForestRegressor(n_estimators = 10, random_state = 1, n_jobs = -1)"
   ]
  },
  {
   "cell_type": "code",
   "execution_count": 22,
   "id": "af613294-b107-4330-95e0-54b700179bce",
   "metadata": {},
   "outputs": [],
   "source": [
    "rf.fit(X_train,y_train)\n",
    "y_pred = rf.predict(X_val)\n",
    "\n",
    "val_rmse = root_mean_squared_error(y_val, y_pred)"
   ]
  },
  {
   "cell_type": "code",
   "execution_count": 23,
   "id": "ebb69927-6cd6-4079-a267-63493732ba74",
   "metadata": {},
   "outputs": [
    {
     "name": "stdout",
     "output_type": "stream",
     "text": [
      "42.13724207871227\n"
     ]
    }
   ],
   "source": [
    "print(val_rmse)"
   ]
  },
  {
   "cell_type": "markdown",
   "id": "8946f17f-7084-439a-a8c4-669d8f7bd0d4",
   "metadata": {},
   "source": [
    "__Question 3__\n",
    "\n",
    "Now let's experiment with the <code>n_estimators</code> parameter\n",
    "\n",
    "Try different values of this parameter from 10 to 200 with step 10.\n",
    "Set <code>random_state</code> to 1.\n",
    "\n",
    "Evaluate the model on the validation dataset.\n",
    "After which value of <code>n_estimators</code> does RMSE stop improving? Consider 3 decimal places for calculating the answer.\n",
    "\n",
    "- 10\n",
    "- 25\n",
    "- 80\n",
    "- 200"
   ]
  },
  {
   "cell_type": "code",
   "execution_count": 24,
   "id": "8ef79873-9fb5-4ffc-97a2-2bf7b02f1d63",
   "metadata": {},
   "outputs": [],
   "source": [
    "rmse_n_est = []\n",
    "for n_est in range(10,201,10):\n",
    "    rf = RandomForestRegressor(n_estimators = n_est, random_state = 1, n_jobs =-1)\n",
    "    rf.fit(X_train,y_train)\n",
    "    y_pred = rf.predict(X_val)\n",
    "    val_n_est = root_mean_squared_error(y_val,y_pred)\n",
    "    rmse_n_est.append((n_est,val_n_est))"
   ]
  },
  {
   "cell_type": "code",
   "execution_count": 25,
   "id": "c10e787c-e9dd-4bcd-ad13-46b012543fdb",
   "metadata": {},
   "outputs": [],
   "source": [
    "df_n_est = pd.DataFrame(rmse_n_est, columns = [\"n_estimators\", \"RMSE\"])"
   ]
  },
  {
   "cell_type": "code",
   "execution_count": 26,
   "id": "41e182e0-cadc-473f-be2e-3bdd4d62fadd",
   "metadata": {},
   "outputs": [
    {
     "data": {
      "text/html": [
       "<div>\n",
       "<style scoped>\n",
       "    .dataframe tbody tr th:only-of-type {\n",
       "        vertical-align: middle;\n",
       "    }\n",
       "\n",
       "    .dataframe tbody tr th {\n",
       "        vertical-align: top;\n",
       "    }\n",
       "\n",
       "    .dataframe thead th {\n",
       "        text-align: right;\n",
       "    }\n",
       "</style>\n",
       "<table border=\"1\" class=\"dataframe\">\n",
       "  <thead>\n",
       "    <tr style=\"text-align: right;\">\n",
       "      <th></th>\n",
       "      <th>n_estimators</th>\n",
       "      <th>RMSE</th>\n",
       "    </tr>\n",
       "  </thead>\n",
       "  <tbody>\n",
       "    <tr>\n",
       "      <th>0</th>\n",
       "      <td>10</td>\n",
       "      <td>42.137242</td>\n",
       "    </tr>\n",
       "    <tr>\n",
       "      <th>1</th>\n",
       "      <td>20</td>\n",
       "      <td>41.461215</td>\n",
       "    </tr>\n",
       "    <tr>\n",
       "      <th>2</th>\n",
       "      <td>30</td>\n",
       "      <td>41.106171</td>\n",
       "    </tr>\n",
       "    <tr>\n",
       "      <th>3</th>\n",
       "      <td>40</td>\n",
       "      <td>40.917194</td>\n",
       "    </tr>\n",
       "    <tr>\n",
       "      <th>4</th>\n",
       "      <td>50</td>\n",
       "      <td>40.852279</td>\n",
       "    </tr>\n",
       "    <tr>\n",
       "      <th>5</th>\n",
       "      <td>60</td>\n",
       "      <td>40.784281</td>\n",
       "    </tr>\n",
       "    <tr>\n",
       "      <th>6</th>\n",
       "      <td>70</td>\n",
       "      <td>40.677098</td>\n",
       "    </tr>\n",
       "    <tr>\n",
       "      <th>12</th>\n",
       "      <td>130</td>\n",
       "      <td>40.650841</td>\n",
       "    </tr>\n",
       "    <tr>\n",
       "      <th>17</th>\n",
       "      <td>180</td>\n",
       "      <td>40.641314</td>\n",
       "    </tr>\n",
       "    <tr>\n",
       "      <th>18</th>\n",
       "      <td>190</td>\n",
       "      <td>40.631355</td>\n",
       "    </tr>\n",
       "    <tr>\n",
       "      <th>16</th>\n",
       "      <td>170</td>\n",
       "      <td>40.627546</td>\n",
       "    </tr>\n",
       "    <tr>\n",
       "      <th>11</th>\n",
       "      <td>120</td>\n",
       "      <td>40.624850</td>\n",
       "    </tr>\n",
       "    <tr>\n",
       "      <th>15</th>\n",
       "      <td>160</td>\n",
       "      <td>40.603508</td>\n",
       "    </tr>\n",
       "    <tr>\n",
       "      <th>19</th>\n",
       "      <td>200</td>\n",
       "      <td>40.601019</td>\n",
       "    </tr>\n",
       "    <tr>\n",
       "      <th>14</th>\n",
       "      <td>150</td>\n",
       "      <td>40.596715</td>\n",
       "    </tr>\n",
       "    <tr>\n",
       "      <th>13</th>\n",
       "      <td>140</td>\n",
       "      <td>40.594852</td>\n",
       "    </tr>\n",
       "    <tr>\n",
       "      <th>10</th>\n",
       "      <td>110</td>\n",
       "      <td>40.593353</td>\n",
       "    </tr>\n",
       "    <tr>\n",
       "      <th>7</th>\n",
       "      <td>80</td>\n",
       "      <td>40.539333</td>\n",
       "    </tr>\n",
       "    <tr>\n",
       "      <th>9</th>\n",
       "      <td>100</td>\n",
       "      <td>40.516805</td>\n",
       "    </tr>\n",
       "    <tr>\n",
       "      <th>8</th>\n",
       "      <td>90</td>\n",
       "      <td>40.504346</td>\n",
       "    </tr>\n",
       "  </tbody>\n",
       "</table>\n",
       "</div>"
      ],
      "text/plain": [
       "    n_estimators       RMSE\n",
       "0             10  42.137242\n",
       "1             20  41.461215\n",
       "2             30  41.106171\n",
       "3             40  40.917194\n",
       "4             50  40.852279\n",
       "5             60  40.784281\n",
       "6             70  40.677098\n",
       "12           130  40.650841\n",
       "17           180  40.641314\n",
       "18           190  40.631355\n",
       "16           170  40.627546\n",
       "11           120  40.624850\n",
       "15           160  40.603508\n",
       "19           200  40.601019\n",
       "14           150  40.596715\n",
       "13           140  40.594852\n",
       "10           110  40.593353\n",
       "7             80  40.539333\n",
       "9            100  40.516805\n",
       "8             90  40.504346"
      ]
     },
     "execution_count": 26,
     "metadata": {},
     "output_type": "execute_result"
    }
   ],
   "source": [
    "df_n_est.sort_values(by = \"RMSE\", ascending = False)"
   ]
  },
  {
   "cell_type": "markdown",
   "id": "89b42992-d153-4e75-849c-19b918f68331",
   "metadata": {},
   "source": [
    "__Question 4__\n",
    "\n",
    "Let's select the best max_depth:\n",
    "\n",
    "Try different values of <code>max_depth: [10, 15, 20, 25] </code>\n",
    "For each of these values,\n",
    "try different values of <code>n_estimators</code> from 10 till 200 (with step 10)\n",
    "calculate the mean RMSE\n",
    "Fix the <code>random seed: random_state=1 </code>\n",
    "\n",
    "What's the best max_depth, using the mean RMSE?\n",
    "\n",
    "- 10\n",
    "- 15\n",
    "- 20\n",
    "- 25"
   ]
  },
  {
   "cell_type": "code",
   "execution_count": 27,
   "id": "fa944b2f-138f-41aa-b8ed-ef5d56a20594",
   "metadata": {},
   "outputs": [],
   "source": [
    "parameters_list = []\n",
    "for m_dept in [10, 15, 20, 25]:\n",
    "    for n_est in range(10,201, 10):\n",
    "        rf = RandomForestRegressor(n_estimators = n_est, max_depth = m_dept, random_state=  1, n_jobs = -1)\n",
    "        rf.fit(X_train,y_train)\n",
    "        y_pred = rf.predict(X_val)\n",
    "        rmse_m_dept = root_mean_squared_error(y_pred, y_val)\n",
    "        parameters_list.append((m_dept,n_est,rmse_m_dept))\n"
   ]
  },
  {
   "cell_type": "code",
   "execution_count": 28,
   "id": "68c7155c-92b3-47d7-9dc6-4d98ae0653f5",
   "metadata": {},
   "outputs": [],
   "source": [
    "df_max_depth = pd.DataFrame(parameters_list, columns = [\"max_depth\",\"n_estimators\",\"RMSE\"])"
   ]
  },
  {
   "cell_type": "code",
   "execution_count": 29,
   "id": "6b8719a0-48ea-4a20-adff-c4e2e1516c86",
   "metadata": {},
   "outputs": [
    {
     "data": {
      "text/html": [
       "<div>\n",
       "<style scoped>\n",
       "    .dataframe tbody tr th:only-of-type {\n",
       "        vertical-align: middle;\n",
       "    }\n",
       "\n",
       "    .dataframe tbody tr th {\n",
       "        vertical-align: top;\n",
       "    }\n",
       "\n",
       "    .dataframe thead th {\n",
       "        text-align: right;\n",
       "    }\n",
       "</style>\n",
       "<table border=\"1\" class=\"dataframe\">\n",
       "  <thead>\n",
       "    <tr style=\"text-align: right;\">\n",
       "      <th></th>\n",
       "      <th>max_depth</th>\n",
       "      <th>n_estimators</th>\n",
       "      <th>RMSE</th>\n",
       "    </tr>\n",
       "  </thead>\n",
       "  <tbody>\n",
       "    <tr>\n",
       "      <th>60</th>\n",
       "      <td>25</td>\n",
       "      <td>10</td>\n",
       "      <td>42.160439</td>\n",
       "    </tr>\n",
       "    <tr>\n",
       "      <th>40</th>\n",
       "      <td>20</td>\n",
       "      <td>10</td>\n",
       "      <td>42.024831</td>\n",
       "    </tr>\n",
       "    <tr>\n",
       "      <th>20</th>\n",
       "      <td>15</td>\n",
       "      <td>10</td>\n",
       "      <td>42.003979</td>\n",
       "    </tr>\n",
       "    <tr>\n",
       "      <th>61</th>\n",
       "      <td>25</td>\n",
       "      <td>20</td>\n",
       "      <td>41.470970</td>\n",
       "    </tr>\n",
       "    <tr>\n",
       "      <th>21</th>\n",
       "      <td>15</td>\n",
       "      <td>20</td>\n",
       "      <td>41.455699</td>\n",
       "    </tr>\n",
       "    <tr>\n",
       "      <th>...</th>\n",
       "      <td>...</td>\n",
       "      <td>...</td>\n",
       "      <td>...</td>\n",
       "    </tr>\n",
       "    <tr>\n",
       "      <th>5</th>\n",
       "      <td>10</td>\n",
       "      <td>60</td>\n",
       "      <td>40.277035</td>\n",
       "    </tr>\n",
       "    <tr>\n",
       "      <th>3</th>\n",
       "      <td>10</td>\n",
       "      <td>40</td>\n",
       "      <td>40.270069</td>\n",
       "    </tr>\n",
       "    <tr>\n",
       "      <th>9</th>\n",
       "      <td>10</td>\n",
       "      <td>100</td>\n",
       "      <td>40.250490</td>\n",
       "    </tr>\n",
       "    <tr>\n",
       "      <th>7</th>\n",
       "      <td>10</td>\n",
       "      <td>80</td>\n",
       "      <td>40.210305</td>\n",
       "    </tr>\n",
       "    <tr>\n",
       "      <th>8</th>\n",
       "      <td>10</td>\n",
       "      <td>90</td>\n",
       "      <td>40.173900</td>\n",
       "    </tr>\n",
       "  </tbody>\n",
       "</table>\n",
       "<p>80 rows × 3 columns</p>\n",
       "</div>"
      ],
      "text/plain": [
       "    max_depth  n_estimators       RMSE\n",
       "60         25            10  42.160439\n",
       "40         20            10  42.024831\n",
       "20         15            10  42.003979\n",
       "61         25            20  41.470970\n",
       "21         15            20  41.455699\n",
       "..        ...           ...        ...\n",
       "5          10            60  40.277035\n",
       "3          10            40  40.270069\n",
       "9          10           100  40.250490\n",
       "7          10            80  40.210305\n",
       "8          10            90  40.173900\n",
       "\n",
       "[80 rows x 3 columns]"
      ]
     },
     "execution_count": 29,
     "metadata": {},
     "output_type": "execute_result"
    }
   ],
   "source": [
    "df_max_depth.sort_values(by=[\"RMSE\"], ascending = False)"
   ]
  },
  {
   "cell_type": "markdown",
   "id": "d7a41437-8f22-448f-a2e6-2499ad8f094e",
   "metadata": {},
   "source": [
    "__Question 5__\n",
    "\n",
    "We can extract feature importance information from tree-based models.\n",
    "\n",
    "At each step of the decision tree learning algorithm, it finds the best split. \n",
    "When doing it, we can calculate \"gain\" - the reduction in impurity before and after the split. \n",
    "This gain is quite useful in understanding what are the important features for tree-based models.\n",
    "\n",
    "In Scikit-Learn, tree-based models contain this information in the feature_importances_ field.\n",
    "\n",
    "For this homework question, we'll find the most important feature:\n",
    "\n",
    "Train the model with these parameters:\n",
    "- <code>n_estimators = 10</code>,\n",
    "- <code>max_depth = 20</code>,\n",
    "- <code>random_state = 1</code>,\n",
    "- <code>n_jobs = -1</code>\n",
    "\n",
    "Get the feature importance information from this model\n",
    "What's the most important feature (among these 4)?\n",
    "\n",
    "- study_hours_per_week\n",
    "- attendance_rate\n",
    "- distance_to_school\n",
    "- teacher_quality"
   ]
  },
  {
   "cell_type": "code",
   "execution_count": 30,
   "id": "cb968006-fe28-4567-a4bc-fc0f40d782bb",
   "metadata": {},
   "outputs": [
    {
     "data": {
      "text/html": [
       "<style>#sk-container-id-1 {\n",
       "  /* Definition of color scheme common for light and dark mode */\n",
       "  --sklearn-color-text: black;\n",
       "  --sklearn-color-line: gray;\n",
       "  /* Definition of color scheme for unfitted estimators */\n",
       "  --sklearn-color-unfitted-level-0: #fff5e6;\n",
       "  --sklearn-color-unfitted-level-1: #f6e4d2;\n",
       "  --sklearn-color-unfitted-level-2: #ffe0b3;\n",
       "  --sklearn-color-unfitted-level-3: chocolate;\n",
       "  /* Definition of color scheme for fitted estimators */\n",
       "  --sklearn-color-fitted-level-0: #f0f8ff;\n",
       "  --sklearn-color-fitted-level-1: #d4ebff;\n",
       "  --sklearn-color-fitted-level-2: #b3dbfd;\n",
       "  --sklearn-color-fitted-level-3: cornflowerblue;\n",
       "\n",
       "  /* Specific color for light theme */\n",
       "  --sklearn-color-text-on-default-background: var(--sg-text-color, var(--theme-code-foreground, var(--jp-content-font-color1, black)));\n",
       "  --sklearn-color-background: var(--sg-background-color, var(--theme-background, var(--jp-layout-color0, white)));\n",
       "  --sklearn-color-border-box: var(--sg-text-color, var(--theme-code-foreground, var(--jp-content-font-color1, black)));\n",
       "  --sklearn-color-icon: #696969;\n",
       "\n",
       "  @media (prefers-color-scheme: dark) {\n",
       "    /* Redefinition of color scheme for dark theme */\n",
       "    --sklearn-color-text-on-default-background: var(--sg-text-color, var(--theme-code-foreground, var(--jp-content-font-color1, white)));\n",
       "    --sklearn-color-background: var(--sg-background-color, var(--theme-background, var(--jp-layout-color0, #111)));\n",
       "    --sklearn-color-border-box: var(--sg-text-color, var(--theme-code-foreground, var(--jp-content-font-color1, white)));\n",
       "    --sklearn-color-icon: #878787;\n",
       "  }\n",
       "}\n",
       "\n",
       "#sk-container-id-1 {\n",
       "  color: var(--sklearn-color-text);\n",
       "}\n",
       "\n",
       "#sk-container-id-1 pre {\n",
       "  padding: 0;\n",
       "}\n",
       "\n",
       "#sk-container-id-1 input.sk-hidden--visually {\n",
       "  border: 0;\n",
       "  clip: rect(1px 1px 1px 1px);\n",
       "  clip: rect(1px, 1px, 1px, 1px);\n",
       "  height: 1px;\n",
       "  margin: -1px;\n",
       "  overflow: hidden;\n",
       "  padding: 0;\n",
       "  position: absolute;\n",
       "  width: 1px;\n",
       "}\n",
       "\n",
       "#sk-container-id-1 div.sk-dashed-wrapped {\n",
       "  border: 1px dashed var(--sklearn-color-line);\n",
       "  margin: 0 0.4em 0.5em 0.4em;\n",
       "  box-sizing: border-box;\n",
       "  padding-bottom: 0.4em;\n",
       "  background-color: var(--sklearn-color-background);\n",
       "}\n",
       "\n",
       "#sk-container-id-1 div.sk-container {\n",
       "  /* jupyter's `normalize.less` sets `[hidden] { display: none; }`\n",
       "     but bootstrap.min.css set `[hidden] { display: none !important; }`\n",
       "     so we also need the `!important` here to be able to override the\n",
       "     default hidden behavior on the sphinx rendered scikit-learn.org.\n",
       "     See: https://github.com/scikit-learn/scikit-learn/issues/21755 */\n",
       "  display: inline-block !important;\n",
       "  position: relative;\n",
       "}\n",
       "\n",
       "#sk-container-id-1 div.sk-text-repr-fallback {\n",
       "  display: none;\n",
       "}\n",
       "\n",
       "div.sk-parallel-item,\n",
       "div.sk-serial,\n",
       "div.sk-item {\n",
       "  /* draw centered vertical line to link estimators */\n",
       "  background-image: linear-gradient(var(--sklearn-color-text-on-default-background), var(--sklearn-color-text-on-default-background));\n",
       "  background-size: 2px 100%;\n",
       "  background-repeat: no-repeat;\n",
       "  background-position: center center;\n",
       "}\n",
       "\n",
       "/* Parallel-specific style estimator block */\n",
       "\n",
       "#sk-container-id-1 div.sk-parallel-item::after {\n",
       "  content: \"\";\n",
       "  width: 100%;\n",
       "  border-bottom: 2px solid var(--sklearn-color-text-on-default-background);\n",
       "  flex-grow: 1;\n",
       "}\n",
       "\n",
       "#sk-container-id-1 div.sk-parallel {\n",
       "  display: flex;\n",
       "  align-items: stretch;\n",
       "  justify-content: center;\n",
       "  background-color: var(--sklearn-color-background);\n",
       "  position: relative;\n",
       "}\n",
       "\n",
       "#sk-container-id-1 div.sk-parallel-item {\n",
       "  display: flex;\n",
       "  flex-direction: column;\n",
       "}\n",
       "\n",
       "#sk-container-id-1 div.sk-parallel-item:first-child::after {\n",
       "  align-self: flex-end;\n",
       "  width: 50%;\n",
       "}\n",
       "\n",
       "#sk-container-id-1 div.sk-parallel-item:last-child::after {\n",
       "  align-self: flex-start;\n",
       "  width: 50%;\n",
       "}\n",
       "\n",
       "#sk-container-id-1 div.sk-parallel-item:only-child::after {\n",
       "  width: 0;\n",
       "}\n",
       "\n",
       "/* Serial-specific style estimator block */\n",
       "\n",
       "#sk-container-id-1 div.sk-serial {\n",
       "  display: flex;\n",
       "  flex-direction: column;\n",
       "  align-items: center;\n",
       "  background-color: var(--sklearn-color-background);\n",
       "  padding-right: 1em;\n",
       "  padding-left: 1em;\n",
       "}\n",
       "\n",
       "\n",
       "/* Toggleable style: style used for estimator/Pipeline/ColumnTransformer box that is\n",
       "clickable and can be expanded/collapsed.\n",
       "- Pipeline and ColumnTransformer use this feature and define the default style\n",
       "- Estimators will overwrite some part of the style using the `sk-estimator` class\n",
       "*/\n",
       "\n",
       "/* Pipeline and ColumnTransformer style (default) */\n",
       "\n",
       "#sk-container-id-1 div.sk-toggleable {\n",
       "  /* Default theme specific background. It is overwritten whether we have a\n",
       "  specific estimator or a Pipeline/ColumnTransformer */\n",
       "  background-color: var(--sklearn-color-background);\n",
       "}\n",
       "\n",
       "/* Toggleable label */\n",
       "#sk-container-id-1 label.sk-toggleable__label {\n",
       "  cursor: pointer;\n",
       "  display: block;\n",
       "  width: 100%;\n",
       "  margin-bottom: 0;\n",
       "  padding: 0.5em;\n",
       "  box-sizing: border-box;\n",
       "  text-align: center;\n",
       "}\n",
       "\n",
       "#sk-container-id-1 label.sk-toggleable__label-arrow:before {\n",
       "  /* Arrow on the left of the label */\n",
       "  content: \"▸\";\n",
       "  float: left;\n",
       "  margin-right: 0.25em;\n",
       "  color: var(--sklearn-color-icon);\n",
       "}\n",
       "\n",
       "#sk-container-id-1 label.sk-toggleable__label-arrow:hover:before {\n",
       "  color: var(--sklearn-color-text);\n",
       "}\n",
       "\n",
       "/* Toggleable content - dropdown */\n",
       "\n",
       "#sk-container-id-1 div.sk-toggleable__content {\n",
       "  max-height: 0;\n",
       "  max-width: 0;\n",
       "  overflow: hidden;\n",
       "  text-align: left;\n",
       "  /* unfitted */\n",
       "  background-color: var(--sklearn-color-unfitted-level-0);\n",
       "}\n",
       "\n",
       "#sk-container-id-1 div.sk-toggleable__content.fitted {\n",
       "  /* fitted */\n",
       "  background-color: var(--sklearn-color-fitted-level-0);\n",
       "}\n",
       "\n",
       "#sk-container-id-1 div.sk-toggleable__content pre {\n",
       "  margin: 0.2em;\n",
       "  border-radius: 0.25em;\n",
       "  color: var(--sklearn-color-text);\n",
       "  /* unfitted */\n",
       "  background-color: var(--sklearn-color-unfitted-level-0);\n",
       "}\n",
       "\n",
       "#sk-container-id-1 div.sk-toggleable__content.fitted pre {\n",
       "  /* unfitted */\n",
       "  background-color: var(--sklearn-color-fitted-level-0);\n",
       "}\n",
       "\n",
       "#sk-container-id-1 input.sk-toggleable__control:checked~div.sk-toggleable__content {\n",
       "  /* Expand drop-down */\n",
       "  max-height: 200px;\n",
       "  max-width: 100%;\n",
       "  overflow: auto;\n",
       "}\n",
       "\n",
       "#sk-container-id-1 input.sk-toggleable__control:checked~label.sk-toggleable__label-arrow:before {\n",
       "  content: \"▾\";\n",
       "}\n",
       "\n",
       "/* Pipeline/ColumnTransformer-specific style */\n",
       "\n",
       "#sk-container-id-1 div.sk-label input.sk-toggleable__control:checked~label.sk-toggleable__label {\n",
       "  color: var(--sklearn-color-text);\n",
       "  background-color: var(--sklearn-color-unfitted-level-2);\n",
       "}\n",
       "\n",
       "#sk-container-id-1 div.sk-label.fitted input.sk-toggleable__control:checked~label.sk-toggleable__label {\n",
       "  background-color: var(--sklearn-color-fitted-level-2);\n",
       "}\n",
       "\n",
       "/* Estimator-specific style */\n",
       "\n",
       "/* Colorize estimator box */\n",
       "#sk-container-id-1 div.sk-estimator input.sk-toggleable__control:checked~label.sk-toggleable__label {\n",
       "  /* unfitted */\n",
       "  background-color: var(--sklearn-color-unfitted-level-2);\n",
       "}\n",
       "\n",
       "#sk-container-id-1 div.sk-estimator.fitted input.sk-toggleable__control:checked~label.sk-toggleable__label {\n",
       "  /* fitted */\n",
       "  background-color: var(--sklearn-color-fitted-level-2);\n",
       "}\n",
       "\n",
       "#sk-container-id-1 div.sk-label label.sk-toggleable__label,\n",
       "#sk-container-id-1 div.sk-label label {\n",
       "  /* The background is the default theme color */\n",
       "  color: var(--sklearn-color-text-on-default-background);\n",
       "}\n",
       "\n",
       "/* On hover, darken the color of the background */\n",
       "#sk-container-id-1 div.sk-label:hover label.sk-toggleable__label {\n",
       "  color: var(--sklearn-color-text);\n",
       "  background-color: var(--sklearn-color-unfitted-level-2);\n",
       "}\n",
       "\n",
       "/* Label box, darken color on hover, fitted */\n",
       "#sk-container-id-1 div.sk-label.fitted:hover label.sk-toggleable__label.fitted {\n",
       "  color: var(--sklearn-color-text);\n",
       "  background-color: var(--sklearn-color-fitted-level-2);\n",
       "}\n",
       "\n",
       "/* Estimator label */\n",
       "\n",
       "#sk-container-id-1 div.sk-label label {\n",
       "  font-family: monospace;\n",
       "  font-weight: bold;\n",
       "  display: inline-block;\n",
       "  line-height: 1.2em;\n",
       "}\n",
       "\n",
       "#sk-container-id-1 div.sk-label-container {\n",
       "  text-align: center;\n",
       "}\n",
       "\n",
       "/* Estimator-specific */\n",
       "#sk-container-id-1 div.sk-estimator {\n",
       "  font-family: monospace;\n",
       "  border: 1px dotted var(--sklearn-color-border-box);\n",
       "  border-radius: 0.25em;\n",
       "  box-sizing: border-box;\n",
       "  margin-bottom: 0.5em;\n",
       "  /* unfitted */\n",
       "  background-color: var(--sklearn-color-unfitted-level-0);\n",
       "}\n",
       "\n",
       "#sk-container-id-1 div.sk-estimator.fitted {\n",
       "  /* fitted */\n",
       "  background-color: var(--sklearn-color-fitted-level-0);\n",
       "}\n",
       "\n",
       "/* on hover */\n",
       "#sk-container-id-1 div.sk-estimator:hover {\n",
       "  /* unfitted */\n",
       "  background-color: var(--sklearn-color-unfitted-level-2);\n",
       "}\n",
       "\n",
       "#sk-container-id-1 div.sk-estimator.fitted:hover {\n",
       "  /* fitted */\n",
       "  background-color: var(--sklearn-color-fitted-level-2);\n",
       "}\n",
       "\n",
       "/* Specification for estimator info (e.g. \"i\" and \"?\") */\n",
       "\n",
       "/* Common style for \"i\" and \"?\" */\n",
       "\n",
       ".sk-estimator-doc-link,\n",
       "a:link.sk-estimator-doc-link,\n",
       "a:visited.sk-estimator-doc-link {\n",
       "  float: right;\n",
       "  font-size: smaller;\n",
       "  line-height: 1em;\n",
       "  font-family: monospace;\n",
       "  background-color: var(--sklearn-color-background);\n",
       "  border-radius: 1em;\n",
       "  height: 1em;\n",
       "  width: 1em;\n",
       "  text-decoration: none !important;\n",
       "  margin-left: 1ex;\n",
       "  /* unfitted */\n",
       "  border: var(--sklearn-color-unfitted-level-1) 1pt solid;\n",
       "  color: var(--sklearn-color-unfitted-level-1);\n",
       "}\n",
       "\n",
       ".sk-estimator-doc-link.fitted,\n",
       "a:link.sk-estimator-doc-link.fitted,\n",
       "a:visited.sk-estimator-doc-link.fitted {\n",
       "  /* fitted */\n",
       "  border: var(--sklearn-color-fitted-level-1) 1pt solid;\n",
       "  color: var(--sklearn-color-fitted-level-1);\n",
       "}\n",
       "\n",
       "/* On hover */\n",
       "div.sk-estimator:hover .sk-estimator-doc-link:hover,\n",
       ".sk-estimator-doc-link:hover,\n",
       "div.sk-label-container:hover .sk-estimator-doc-link:hover,\n",
       ".sk-estimator-doc-link:hover {\n",
       "  /* unfitted */\n",
       "  background-color: var(--sklearn-color-unfitted-level-3);\n",
       "  color: var(--sklearn-color-background);\n",
       "  text-decoration: none;\n",
       "}\n",
       "\n",
       "div.sk-estimator.fitted:hover .sk-estimator-doc-link.fitted:hover,\n",
       ".sk-estimator-doc-link.fitted:hover,\n",
       "div.sk-label-container:hover .sk-estimator-doc-link.fitted:hover,\n",
       ".sk-estimator-doc-link.fitted:hover {\n",
       "  /* fitted */\n",
       "  background-color: var(--sklearn-color-fitted-level-3);\n",
       "  color: var(--sklearn-color-background);\n",
       "  text-decoration: none;\n",
       "}\n",
       "\n",
       "/* Span, style for the box shown on hovering the info icon */\n",
       ".sk-estimator-doc-link span {\n",
       "  display: none;\n",
       "  z-index: 9999;\n",
       "  position: relative;\n",
       "  font-weight: normal;\n",
       "  right: .2ex;\n",
       "  padding: .5ex;\n",
       "  margin: .5ex;\n",
       "  width: min-content;\n",
       "  min-width: 20ex;\n",
       "  max-width: 50ex;\n",
       "  color: var(--sklearn-color-text);\n",
       "  box-shadow: 2pt 2pt 4pt #999;\n",
       "  /* unfitted */\n",
       "  background: var(--sklearn-color-unfitted-level-0);\n",
       "  border: .5pt solid var(--sklearn-color-unfitted-level-3);\n",
       "}\n",
       "\n",
       ".sk-estimator-doc-link.fitted span {\n",
       "  /* fitted */\n",
       "  background: var(--sklearn-color-fitted-level-0);\n",
       "  border: var(--sklearn-color-fitted-level-3);\n",
       "}\n",
       "\n",
       ".sk-estimator-doc-link:hover span {\n",
       "  display: block;\n",
       "}\n",
       "\n",
       "/* \"?\"-specific style due to the `<a>` HTML tag */\n",
       "\n",
       "#sk-container-id-1 a.estimator_doc_link {\n",
       "  float: right;\n",
       "  font-size: 1rem;\n",
       "  line-height: 1em;\n",
       "  font-family: monospace;\n",
       "  background-color: var(--sklearn-color-background);\n",
       "  border-radius: 1rem;\n",
       "  height: 1rem;\n",
       "  width: 1rem;\n",
       "  text-decoration: none;\n",
       "  /* unfitted */\n",
       "  color: var(--sklearn-color-unfitted-level-1);\n",
       "  border: var(--sklearn-color-unfitted-level-1) 1pt solid;\n",
       "}\n",
       "\n",
       "#sk-container-id-1 a.estimator_doc_link.fitted {\n",
       "  /* fitted */\n",
       "  border: var(--sklearn-color-fitted-level-1) 1pt solid;\n",
       "  color: var(--sklearn-color-fitted-level-1);\n",
       "}\n",
       "\n",
       "/* On hover */\n",
       "#sk-container-id-1 a.estimator_doc_link:hover {\n",
       "  /* unfitted */\n",
       "  background-color: var(--sklearn-color-unfitted-level-3);\n",
       "  color: var(--sklearn-color-background);\n",
       "  text-decoration: none;\n",
       "}\n",
       "\n",
       "#sk-container-id-1 a.estimator_doc_link.fitted:hover {\n",
       "  /* fitted */\n",
       "  background-color: var(--sklearn-color-fitted-level-3);\n",
       "}\n",
       "</style><div id=\"sk-container-id-1\" class=\"sk-top-container\"><div class=\"sk-text-repr-fallback\"><pre>RandomForestRegressor(max_depth=20, n_estimators=10, n_jobs=-1, random_state=1)</pre><b>In a Jupyter environment, please rerun this cell to show the HTML representation or trust the notebook. <br />On GitHub, the HTML representation is unable to render, please try loading this page with nbviewer.org.</b></div><div class=\"sk-container\" hidden><div class=\"sk-item\"><div class=\"sk-estimator fitted sk-toggleable\"><input class=\"sk-toggleable__control sk-hidden--visually\" id=\"sk-estimator-id-1\" type=\"checkbox\" checked><label for=\"sk-estimator-id-1\" class=\"sk-toggleable__label fitted sk-toggleable__label-arrow fitted\">&nbsp;&nbsp;RandomForestRegressor<a class=\"sk-estimator-doc-link fitted\" rel=\"noreferrer\" target=\"_blank\" href=\"https://scikit-learn.org/1.5/modules/generated/sklearn.ensemble.RandomForestRegressor.html\">?<span>Documentation for RandomForestRegressor</span></a><span class=\"sk-estimator-doc-link fitted\">i<span>Fitted</span></span></label><div class=\"sk-toggleable__content fitted\"><pre>RandomForestRegressor(max_depth=20, n_estimators=10, n_jobs=-1, random_state=1)</pre></div> </div></div></div></div>"
      ],
      "text/plain": [
       "RandomForestRegressor(max_depth=20, n_estimators=10, n_jobs=-1, random_state=1)"
      ]
     },
     "execution_count": 30,
     "metadata": {},
     "output_type": "execute_result"
    }
   ],
   "source": [
    "rf_new = RandomForestRegressor(n_estimators = 10, max_depth = 20, random_state = 1, n_jobs = -1)\n",
    "rf_new.fit(X_train, y_train)"
   ]
  },
  {
   "cell_type": "code",
   "execution_count": 31,
   "id": "5c1095d6-066f-48b5-9f93-6e6bd45277f4",
   "metadata": {},
   "outputs": [],
   "source": [
    "\n",
    "features = list(dv.get_feature_names_out())"
   ]
  },
  {
   "cell_type": "code",
   "execution_count": 32,
   "id": "fb219a0b-1a3d-4293-a36f-91efb5f268d8",
   "metadata": {},
   "outputs": [],
   "source": [
    "import time\n",
    "\n",
    "import numpy as np\n",
    "\n",
    "\n",
    "importances = rf_new.feature_importances_\n",
    "std = np.std([tree.feature_importances_ for tree in rf_new.estimators_], axis=0)\n"
   ]
  },
  {
   "cell_type": "code",
   "execution_count": 33,
   "id": "c4c111e2-7a8c-4f13-8c52-df2173f8ad2d",
   "metadata": {},
   "outputs": [
    {
     "data": {
      "image/png": "[encoded data removed]",
      "text/plain": [
       "<Figure size 640x480 with 1 Axes>"
      ]
     },
     "metadata": {},
     "output_type": "display_data"
    }
   ],
   "source": [
    "import pandas as pd\n",
    "import matplotlib.pyplot as plt\n",
    "forest_importances = pd.Series(importances, index=features).sort_values(ascending=False)\n",
    "\n",
    "fig, ax = plt.subplots()\n",
    "forest_importances.plot.bar(yerr=std, ax=ax, color = \"cornflowerblue\")\n",
    "ax.set_title(\"Feature importances using MDI\")\n",
    "ax.set_ylabel(\"Mean decrease in impurity\")\n",
    "fig.tight_layout()"
   ]
  },
  {
   "cell_type": "markdown",
   "id": "60fdd348-acd4-45e3-98df-43437931dab1",
   "metadata": {},
   "source": [
    "__Question 6__\n",
    "\n",
    "Now let's train an XGBoost model! For this question, we'll tune the eta parameter:\n",
    "\n",
    "Install XGBoost\n",
    "\n",
    "Create DMatrix for train and validation\n",
    "\n",
    "Create a watchlist\n",
    "\n",
    "Train a model with these parameters for 100 rounds:\n",
    "\n",
    "\n",
    "<code>xgb_params = {\n",
    "    'eta': 0.3, \n",
    "    'max_depth': 6,\n",
    "    'min_child_weight': 1,\n",
    "    'objective': 'reg:squarederror',\n",
    "    'nthread': 8,\n",
    "    'seed': 1,\n",
    "    'verbosity': 1,\n",
    "}</code>\n",
    "Now change <code>eta</code> from 0.3 to 0.1.\n",
    "\n",
    "Which eta leads to the best RMSE score on the validation dataset?\n",
    "\n",
    "- 0.3\n",
    "- 0.1\n",
    "- Both give equal value"
   ]
  },
  {
   "cell_type": "code",
   "execution_count": 34,
   "id": "a3d33a0e-2699-4d8e-b29c-d0f4ca1d54f3",
   "metadata": {},
   "outputs": [
    {
     "name": "stdout",
     "output_type": "stream",
     "text": [
      "Requirement already satisfied: xgboost in c:\\users\\kuzey\\anaconda3\\envs\\ml-zoomcamp\\lib\\site-packages (2.1.2)\n",
      "Requirement already satisfied: numpy in c:\\users\\kuzey\\anaconda3\\envs\\ml-zoomcamp\\lib\\site-packages (from xgboost) (1.26.4)\n",
      "Requirement already satisfied: scipy in c:\\users\\kuzey\\anaconda3\\envs\\ml-zoomcamp\\lib\\site-packages (from xgboost) (1.13.1)\n"
     ]
    }
   ],
   "source": [
    "!pip install xgboost"
   ]
  },
  {
   "cell_type": "code",
   "execution_count": 35,
   "id": "f337b590-b796-4fd4-8255-ae4a1789bebd",
   "metadata": {},
   "outputs": [],
   "source": [
    "# check xgboost version\n",
    "import xgboost as xgb\n",
    "features = list(dv.get_feature_names_out())\n",
    "\n",
    "df_train = xgb.DMatrix(X_train, label = y_train, feature_names = features)\n",
    "df_val = xgb.DMatrix(X_val,label = y_val, feature_names = features)"
   ]
  },
  {
   "cell_type": "code",
   "execution_count": 36,
   "id": "eaf374d1-c775-4eaa-80c4-8cfd97aa63fd",
   "metadata": {},
   "outputs": [],
   "source": [
    "watchlist = [(df_train, 'train'), (df_val, 'val')]"
   ]
  },
  {
   "cell_type": "code",
   "execution_count": 37,
   "id": "09de4096-e4e9-46d3-884e-4a348860910d",
   "metadata": {},
   "outputs": [],
   "source": [
    "xgb_params = {\n",
    "    'eta': 0.3, \n",
    "    'max_depth': 6,\n",
    "    'min_child_weight': 1,\n",
    "    \n",
    "    'objective': 'reg:squarederror',\n",
    "    'nthread': 8,\n",
    "    \n",
    "    'seed': 1,\n",
    "    'verbosity': 1,\n",
    "}"
   ]
  },
  {
   "cell_type": "code",
   "execution_count": 38,
   "id": "167f5cb8-c778-4506-a3e3-32b949d89ca3",
   "metadata": {},
   "outputs": [],
   "source": [
    "%%capture output\n",
    "\n",
    "model1 = xgb.train(xgb_params, df_train, num_boost_round=100, evals=watchlist)"
   ]
  },
  {
   "cell_type": "code",
   "execution_count": 39,
   "id": "1b940fdb-01db-432e-b4d7-9d34b4f578ab",
   "metadata": {},
   "outputs": [],
   "source": [
    "s = output.stdout"
   ]
  },
  {
   "cell_type": "code",
   "execution_count": 40,
   "id": "aeb7c1f3-b8ab-479b-97b8-96ae51caf272",
   "metadata": {},
   "outputs": [
    {
     "data": {
      "text/plain": [
       "'[0]\\ttrain-rmse:42.69384\\tval-rmse:44.89114\\n[1]\\ttrain-rmse:39.83326\\tval-rmse:43.07010\\n[2]\\ttrain-rmse:37.94542\\tval-rmse:42.00332\\n[3]\\ttrain-rmse:36.56125\\tval-rmse:41.46452\\n[4]\\ttrain-rmse:35.44252\\tval-rmse:40.88896\\n[5]\\ttrain-rmse:34.57756\\tval-rmse:40.69096\\n[6]\\ttrain-rmse:33.84230\\tval-rmse:40.59315\\n[7]\\ttrain-rmse:33.25929\\tval-rmse:40.47993\\n[8]\\ttrain-rmse:32.79415\\tval-rmse:40.45326\\n[9]\\ttrain-rmse:32.16019\\tval-rmse:40.43929\\n[10]\\ttrain-rmse:31.63404\\tval-rmse:40.48319\\n[11]\\ttrain-rmse:31.17673\\tval-rmse:40.68201\\n[12]\\ttrain-rmse:30.87313\\tval-rmse:40.63522\\n[13]\\ttrain-rmse:30.30310\\tval-rmse:40.70983\\n[14]\\ttrain-rmse:30.00098\\tval-rmse:40.78133\\n[15]\\ttrain-rmse:29.41497\\tval-rmse:40.86107\\n[16]\\ttrain-rmse:29.25816\\tval-rmse:40.96580\\n[17]\\ttrain-rmse:28.59378\\tval-rmse:41.12190\\n[18]\\ttrain-rmse:28.27990\\tval-rmse:41.14360\\n[19]\\ttrain-rmse:27.94572\\tval-rmse:41.22835\\n[20]\\ttrain-rmse:27.49658\\tval-rmse:41.27921\\n[21]\\ttrain-rmse:27.25449\\tval-rmse:41.32427\\n[22]\\ttrain-rmse:27.06652\\tval-rmse:41.41887\\n[23]\\ttrain-rmse:26.78737\\tval-rmse:41.44451\\n[24]\\ttrain-rmse:26.47071\\tval-rmse:41.52684\\n[25]\\ttrain-rmse:26.34353\\tval-rmse:41.57975\\n[26]\\ttrain-rmse:25.76052\\tval-rmse:41.63976\\n[27]\\ttrain-rmse:25.30520\\tval-rmse:41.70697\\n[28]\\ttrain-rmse:24.86506\\tval-rmse:41.69887\\n[29]\\ttrain-rmse:24.53599\\tval-rmse:41.73703\\n[30]\\ttrain-rmse:24.21076\\tval-rmse:41.72928\\n[31]\\ttrain-rmse:23.82235\\tval-rmse:41.72136\\n[32]\\ttrain-rmse:23.46994\\tval-rmse:41.72436\\n[33]\\ttrain-rmse:23.12153\\tval-rmse:41.85049\\n[34]\\ttrain-rmse:22.72535\\tval-rmse:41.98504\\n[35]\\ttrain-rmse:22.46394\\tval-rmse:42.03417\\n[36]\\ttrain-rmse:22.26444\\tval-rmse:42.07600\\n[37]\\ttrain-rmse:21.83666\\tval-rmse:42.04571\\n[38]\\ttrain-rmse:21.68940\\tval-rmse:42.08106\\n[39]\\ttrain-rmse:21.41331\\tval-rmse:42.21377\\n[40]\\ttrain-rmse:21.35340\\tval-rmse:42.24363\\n[41]\\ttrain-rmse:20.98685\\tval-rmse:42.31689\\n[42]\\ttrain-rmse:20.79036\\tval-rmse:42.30732\\n[43]\\ttrain-rmse:20.66554\\tval-rmse:42.26924\\n[44]\\ttrain-rmse:20.56989\\tval-rmse:42.28523\\n[45]\\ttrain-rmse:20.24355\\tval-rmse:42.27966\\n[46]\\ttrain-rmse:20.05148\\tval-rmse:42.24641\\n[47]\\ttrain-rmse:19.84740\\tval-rmse:42.24360\\n[48]\\ttrain-rmse:19.60971\\tval-rmse:42.34091\\n[49]\\ttrain-rmse:19.50284\\tval-rmse:42.39551\\n[50]\\ttrain-rmse:19.25157\\tval-rmse:42.43824\\n[51]\\ttrain-rmse:19.02755\\tval-rmse:42.48831\\n[52]\\ttrain-rmse:18.94180\\tval-rmse:42.46744\\n[53]\\ttrain-rmse:18.74533\\tval-rmse:42.47890\\n[54]\\ttrain-rmse:18.55230\\tval-rmse:42.52560\\n[55]\\ttrain-rmse:18.28398\\tval-rmse:42.54750\\n[56]\\ttrain-rmse:17.99065\\tval-rmse:42.55931\\n[57]\\ttrain-rmse:17.81369\\tval-rmse:42.61400\\n[58]\\ttrain-rmse:17.55091\\tval-rmse:42.63357\\n[59]\\ttrain-rmse:17.36488\\tval-rmse:42.61867\\n[60]\\ttrain-rmse:17.12178\\tval-rmse:42.64446\\n[61]\\ttrain-rmse:16.99520\\tval-rmse:42.66346\\n[62]\\ttrain-rmse:16.88259\\tval-rmse:42.68190\\n[63]\\ttrain-rmse:16.74328\\tval-rmse:42.69675\\n[64]\\ttrain-rmse:16.48594\\tval-rmse:42.77870\\n[65]\\ttrain-rmse:16.41573\\tval-rmse:42.77416\\n[66]\\ttrain-rmse:16.30770\\tval-rmse:42.84447\\n[67]\\ttrain-rmse:16.23149\\tval-rmse:42.85617\\n[68]\\ttrain-rmse:16.08017\\tval-rmse:42.83880\\n[69]\\ttrain-rmse:15.94722\\tval-rmse:42.82752\\n[70]\\ttrain-rmse:15.78314\\tval-rmse:42.84909\\n[71]\\ttrain-rmse:15.64071\\tval-rmse:42.88078\\n[72]\\ttrain-rmse:15.43077\\tval-rmse:42.91743\\n[73]\\ttrain-rmse:15.20807\\tval-rmse:42.95770\\n[74]\\ttrain-rmse:15.02855\\tval-rmse:42.98525\\n[75]\\ttrain-rmse:14.80007\\tval-rmse:43.00760\\n[76]\\ttrain-rmse:14.62744\\tval-rmse:43.00140\\n[77]\\ttrain-rmse:14.49116\\tval-rmse:43.04155\\n[78]\\ttrain-rmse:14.33021\\tval-rmse:43.03951\\n[79]\\ttrain-rmse:14.17890\\tval-rmse:43.05857\\n[80]\\ttrain-rmse:13.96907\\tval-rmse:43.08250\\n[81]\\ttrain-rmse:13.89819\\tval-rmse:43.09026\\n[82]\\ttrain-rmse:13.79731\\tval-rmse:43.09671\\n[83]\\ttrain-rmse:13.59307\\tval-rmse:43.13289\\n[84]\\ttrain-rmse:13.52063\\tval-rmse:43.15163\\n[85]\\ttrain-rmse:13.39102\\tval-rmse:43.16297\\n[86]\\ttrain-rmse:13.17943\\tval-rmse:43.20404\\n[87]\\ttrain-rmse:12.95800\\tval-rmse:43.26877\\n[88]\\ttrain-rmse:12.83429\\tval-rmse:43.29748\\n[89]\\ttrain-rmse:12.66807\\tval-rmse:43.29220\\n[90]\\ttrain-rmse:12.46485\\tval-rmse:43.25161\\n[91]\\ttrain-rmse:12.30309\\tval-rmse:43.28441\\n[92]\\ttrain-rmse:12.22398\\tval-rmse:43.29293\\n[93]\\ttrain-rmse:12.01197\\tval-rmse:43.35861\\n[94]\\ttrain-rmse:11.96875\\tval-rmse:43.36460\\n[95]\\ttrain-rmse:11.95568\\tval-rmse:43.37919\\n[96]\\ttrain-rmse:11.76819\\tval-rmse:43.39410\\n[97]\\ttrain-rmse:11.58218\\tval-rmse:43.40203\\n[98]\\ttrain-rmse:11.53812\\tval-rmse:43.40245\\n[99]\\ttrain-rmse:11.39140\\tval-rmse:43.41882\\n'"
      ]
     },
     "execution_count": 40,
     "metadata": {},
     "output_type": "execute_result"
    }
   ],
   "source": [
    "s"
   ]
  },
  {
   "cell_type": "code",
   "execution_count": 41,
   "id": "1d0cc7f6-052c-4fa3-b0ea-97a881298b04",
   "metadata": {},
   "outputs": [],
   "source": [
    "xgb_params = {\n",
    "    'eta': 0.1, \n",
    "    'max_depth': 6,\n",
    "    'min_child_weight': 1,\n",
    "    \n",
    "    'objective': 'reg:squarederror',\n",
    "    'nthread': 8,\n",
    "    \n",
    "    'seed': 1,\n",
    "    'verbosity': 1,\n",
    "}"
   ]
  },
  {
   "cell_type": "code",
   "execution_count": 42,
   "id": "4002e656-d058-4a79-b3c9-214f307fa12c",
   "metadata": {},
   "outputs": [],
   "source": [
    "%%capture output\n",
    "\n",
    "model2 = xgb.train(xgb_params, df_train, num_boost_round=100, evals=watchlist)"
   ]
  },
  {
   "cell_type": "code",
   "execution_count": 43,
   "id": "14cd4a61-667a-40b8-a5fa-2d159f80e83d",
   "metadata": {},
   "outputs": [],
   "source": [
    "f = output.stdout"
   ]
  },
  {
   "cell_type": "code",
   "execution_count": 44,
   "id": "e0d8bc60-57a5-4501-847f-7a2f754c3aae",
   "metadata": {},
   "outputs": [
    {
     "data": {
      "text/plain": [
       "'[0]\\ttrain-rmse:45.49999\\tval-rmse:47.00533\\n[1]\\ttrain-rmse:44.12948\\tval-rmse:45.92344\\n[2]\\ttrain-rmse:42.94858\\tval-rmse:44.98366\\n[3]\\ttrain-rmse:41.90896\\tval-rmse:44.25755\\n[4]\\ttrain-rmse:40.96728\\tval-rmse:43.57339\\n[5]\\ttrain-rmse:40.17514\\tval-rmse:43.11181\\n[6]\\ttrain-rmse:39.40436\\tval-rmse:42.61054\\n[7]\\ttrain-rmse:38.71199\\tval-rmse:42.18883\\n[8]\\ttrain-rmse:38.08081\\tval-rmse:41.86754\\n[9]\\ttrain-rmse:37.57559\\tval-rmse:41.64338\\n[10]\\ttrain-rmse:37.07490\\tval-rmse:41.39235\\n[11]\\ttrain-rmse:36.58709\\tval-rmse:41.14265\\n[12]\\ttrain-rmse:36.14574\\tval-rmse:40.95201\\n[13]\\ttrain-rmse:35.76896\\tval-rmse:40.81778\\n[14]\\ttrain-rmse:35.40802\\tval-rmse:40.75008\\n[15]\\ttrain-rmse:35.08521\\tval-rmse:40.61341\\n[16]\\ttrain-rmse:34.74187\\tval-rmse:40.51800\\n[17]\\ttrain-rmse:34.43969\\tval-rmse:40.41659\\n[18]\\ttrain-rmse:34.16132\\tval-rmse:40.33546\\n[19]\\ttrain-rmse:33.91836\\tval-rmse:40.25632\\n[20]\\ttrain-rmse:33.67389\\tval-rmse:40.25010\\n[21]\\ttrain-rmse:33.45853\\tval-rmse:40.19826\\n[22]\\ttrain-rmse:33.23371\\tval-rmse:40.21101\\n[23]\\ttrain-rmse:32.98777\\tval-rmse:40.14758\\n[24]\\ttrain-rmse:32.80930\\tval-rmse:40.15079\\n[25]\\ttrain-rmse:32.55850\\tval-rmse:40.12003\\n[26]\\ttrain-rmse:32.33472\\tval-rmse:40.08693\\n[27]\\ttrain-rmse:32.16808\\tval-rmse:40.08567\\n[28]\\ttrain-rmse:32.02459\\tval-rmse:40.07263\\n[29]\\ttrain-rmse:31.88060\\tval-rmse:40.14000\\n[30]\\ttrain-rmse:31.76039\\tval-rmse:40.13806\\n[31]\\ttrain-rmse:31.59198\\tval-rmse:40.11982\\n[32]\\ttrain-rmse:31.47040\\tval-rmse:40.13489\\n[33]\\ttrain-rmse:31.23756\\tval-rmse:40.16486\\n[34]\\ttrain-rmse:31.11811\\tval-rmse:40.17118\\n[35]\\ttrain-rmse:31.01425\\tval-rmse:40.16103\\n[36]\\ttrain-rmse:30.80211\\tval-rmse:40.19895\\n[37]\\ttrain-rmse:30.59550\\tval-rmse:40.19394\\n[38]\\ttrain-rmse:30.41278\\tval-rmse:40.20019\\n[39]\\ttrain-rmse:30.29415\\tval-rmse:40.18898\\n[40]\\ttrain-rmse:30.13427\\tval-rmse:40.17753\\n[41]\\ttrain-rmse:30.03650\\tval-rmse:40.19907\\n[42]\\ttrain-rmse:29.85009\\tval-rmse:40.23107\\n[43]\\ttrain-rmse:29.78370\\tval-rmse:40.24420\\n[44]\\ttrain-rmse:29.64129\\tval-rmse:40.27500\\n[45]\\ttrain-rmse:29.49040\\tval-rmse:40.27366\\n[46]\\ttrain-rmse:29.39188\\tval-rmse:40.24679\\n[47]\\ttrain-rmse:29.18726\\tval-rmse:40.28895\\n[48]\\ttrain-rmse:28.96397\\tval-rmse:40.27880\\n[49]\\ttrain-rmse:28.84326\\tval-rmse:40.30062\\n[50]\\ttrain-rmse:28.75947\\tval-rmse:40.29573\\n[51]\\ttrain-rmse:28.66521\\tval-rmse:40.32700\\n[52]\\ttrain-rmse:28.57470\\tval-rmse:40.31936\\n[53]\\ttrain-rmse:28.42476\\tval-rmse:40.35036\\n[54]\\ttrain-rmse:28.33097\\tval-rmse:40.36356\\n[55]\\ttrain-rmse:28.17535\\tval-rmse:40.40072\\n[56]\\ttrain-rmse:28.12505\\tval-rmse:40.40093\\n[57]\\ttrain-rmse:28.01404\\tval-rmse:40.41411\\n[58]\\ttrain-rmse:27.92953\\tval-rmse:40.43980\\n[59]\\ttrain-rmse:27.85113\\tval-rmse:40.44968\\n[60]\\ttrain-rmse:27.77264\\tval-rmse:40.47477\\n[61]\\ttrain-rmse:27.58718\\tval-rmse:40.47133\\n[62]\\ttrain-rmse:27.39983\\tval-rmse:40.48235\\n[63]\\ttrain-rmse:27.25860\\tval-rmse:40.45222\\n[64]\\ttrain-rmse:27.18493\\tval-rmse:40.48469\\n[65]\\ttrain-rmse:27.10119\\tval-rmse:40.47659\\n[66]\\ttrain-rmse:26.98914\\tval-rmse:40.50645\\n[67]\\ttrain-rmse:26.87200\\tval-rmse:40.51134\\n[68]\\ttrain-rmse:26.82231\\tval-rmse:40.52407\\n[69]\\ttrain-rmse:26.67667\\tval-rmse:40.53409\\n[70]\\ttrain-rmse:26.61847\\tval-rmse:40.55225\\n[71]\\ttrain-rmse:26.52262\\tval-rmse:40.57516\\n[72]\\ttrain-rmse:26.46754\\tval-rmse:40.59012\\n[73]\\ttrain-rmse:26.39921\\tval-rmse:40.59042\\n[74]\\ttrain-rmse:26.31420\\tval-rmse:40.59015\\n[75]\\ttrain-rmse:26.21281\\tval-rmse:40.62564\\n[76]\\ttrain-rmse:26.06486\\tval-rmse:40.61919\\n[77]\\ttrain-rmse:25.95218\\tval-rmse:40.60548\\n[78]\\ttrain-rmse:25.87666\\tval-rmse:40.61558\\n[79]\\ttrain-rmse:25.76297\\tval-rmse:40.62441\\n[80]\\ttrain-rmse:25.69135\\tval-rmse:40.61309\\n[81]\\ttrain-rmse:25.60636\\tval-rmse:40.61170\\n[82]\\ttrain-rmse:25.50292\\tval-rmse:40.62077\\n[83]\\ttrain-rmse:25.40326\\tval-rmse:40.64626\\n[84]\\ttrain-rmse:25.24225\\tval-rmse:40.65516\\n[85]\\ttrain-rmse:25.14363\\tval-rmse:40.66530\\n[86]\\ttrain-rmse:25.05938\\tval-rmse:40.70928\\n[87]\\ttrain-rmse:24.96816\\tval-rmse:40.73308\\n[88]\\ttrain-rmse:24.88831\\tval-rmse:40.78140\\n[89]\\ttrain-rmse:24.75435\\tval-rmse:40.82961\\n[90]\\ttrain-rmse:24.60413\\tval-rmse:40.84708\\n[91]\\ttrain-rmse:24.46832\\tval-rmse:40.87368\\n[92]\\ttrain-rmse:24.34226\\tval-rmse:40.89024\\n[93]\\ttrain-rmse:24.25047\\tval-rmse:40.92316\\n[94]\\ttrain-rmse:24.14802\\tval-rmse:40.94518\\n[95]\\ttrain-rmse:24.03404\\tval-rmse:40.99952\\n[96]\\ttrain-rmse:24.00230\\tval-rmse:41.00887\\n[97]\\ttrain-rmse:23.88940\\tval-rmse:41.05015\\n[98]\\ttrain-rmse:23.76232\\tval-rmse:41.06328\\n[99]\\ttrain-rmse:23.59704\\tval-rmse:41.05034\\n'"
      ]
     },
     "execution_count": 44,
     "metadata": {},
     "output_type": "execute_result"
    }
   ],
   "source": [
    "f"
   ]
  },
  {
   "cell_type": "code",
   "execution_count": 47,
   "id": "754e20c7-f9bc-4a2a-a170-2f05b9d5c213",
   "metadata": {},
   "outputs": [],
   "source": [
    "y_pred1 = model1.predict(df_val)\n",
    "y_pred2 = model2.predict(df_val)\n",
    "\n",
    "rmse_m1 = root_mean_squared_error(y_pred1,y_val)\n",
    "rmse_m2 = root_mean_squared_error(y_pred2,y_val)"
   ]
  },
  {
   "cell_type": "code",
   "execution_count": 48,
   "id": "cf77cf4e-be53-487d-ad37-581e027fa643",
   "metadata": {},
   "outputs": [
    {
     "data": {
      "text/plain": [
       "43.418817345871766"
      ]
     },
     "execution_count": 48,
     "metadata": {},
     "output_type": "execute_result"
    }
   ],
   "source": [
    "rmse_m1"
   ]
  },
  {
   "cell_type": "code",
   "execution_count": 49,
   "id": "fcf5885a-f753-4ec8-ab27-ee2397993240",
   "metadata": {},
   "outputs": [
    {
     "data": {
      "text/plain": [
       "41.05034017683498"
      ]
     },
     "execution_count": 49,
     "metadata": {},
     "output_type": "execute_result"
    }
   ],
   "source": [
    "rmse_m2"
   ]
  },
  {
   "cell_type": "markdown",
   "id": "766e0afc-6ed0-4844-9993-2590dc558aac",
   "metadata": {},
   "source": [
    "__eta 0.1 gave better result__"
   ]
  },
  {
   "cell_type": "code",
   "execution_count": null,
   "id": "0c0cb3af-9b53-4929-9ff9-eb7aa176f2aa",
   "metadata": {},
   "outputs": [],
   "source": []
  }
 ],
 "metadata": {
  "kernelspec": {
   "display_name": "Python 3 (ipykernel)",
   "language": "python",
   "name": "python3"
  },
  "language_info": {
   "codemirror_mode": {
    "name": "ipython",
    "version": 3
   },
   "file_extension": ".py",
   "mimetype": "text/x-python",
   "name": "python",
   "nbconvert_exporter": "python",
   "pygments_lexer": "ipython3",
   "version": "3.11.9"
  }
 },
 "nbformat": 4,
 "nbformat_minor": 5
}

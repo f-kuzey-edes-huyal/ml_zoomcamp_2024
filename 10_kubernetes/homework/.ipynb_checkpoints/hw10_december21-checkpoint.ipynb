{
 "cells": [
  {
   "cell_type": "markdown",
   "id": "267b28db-f048-4bf3-8ffa-c0365120db57",
   "metadata": {},
   "source": [
    "__Homework__\n",
    "\n",
    "In this homework, we'll deploy the Bank Marketing model from the homework 5. We already have a docker image for this model - we'll use it for deploying the model to Kubernetes.\n",
    "\n",
    "__Building the image__\n",
    "\n",
    "Clone the course repo if you haven't !git clone https://github.com/DataTalksClub/machine-learning-zoomcamp.git:"
   ]
  },
  {
   "cell_type": "code",
   "execution_count": null,
   "id": "535f1bb4-10f2-4847-9935-86bab36eb88e",
   "metadata": {},
   "outputs": [],
   "source": []
  },
  {
   "cell_type": "markdown",
   "id": "3787b1d4-d0af-4bf9-89a8-6bc58b60a8d9",
   "metadata": {},
   "source": [
    "Go to the course-zoomcamp/cohorts/2024/05-deployment/homework folder and execute the following:"
   ]
  },
  {
   "cell_type": "markdown",
   "id": "45acd53d-c97b-47e1-a8a6-890a2f9be18c",
   "metadata": {},
   "source": [
    "Note: If you have troubles building the image, you can use the image we built and published to docker hub: <code>docker pull svizor/zoomcamp-model:3.11.5-hw10 </code>"
   ]
  },
  {
   "cell_type": "markdown",
   "id": "6c1d1074-ca1a-476d-8373-1fa975400aa4",
   "metadata": {},
   "source": [
    "\n",
    "Note: If you have troubles building the image, you can use the image we built and published to docker hub: docker pull svizor/zoomcamp-model:3.11.5-hw10"
   ]
  },
  {
   "cell_type": "code",
   "execution_count": 7,
   "id": "bae54cab-7cb2-4432-be2a-6da0b2ed2733",
   "metadata": {},
   "outputs": [
    {
     "name": "stdout",
     "output_type": "stream",
     "text": [
      "3.11.5-hw10: Pulling from svizor/zoomcamp-model\n",
      "a803e7c4b030: Already exists\n",
      "bf3336e84c8e: Already exists\n",
      "eb76b60fbb0c: Already exists\n",
      "a2cee97f4fbd: Already exists\n",
      "0358d4e17ae3: Already exists\n",
      "fb37f8d7a667: Already exists\n",
      "4e69cd59a5af: Already exists\n",
      "bc84fa7bf560: Pulling fs layer\n",
      "7acc9d6f76f0: Pulling fs layer\n",
      "c90cbaa659f2: Pulling fs layer\n",
      "82cbc5660603: Pulling fs layer\n",
      "82cbc5660603: Waiting\n",
      "7acc9d6f76f0: Download complete\n",
      "82cbc5660603: Verifying Checksum\n",
      "82cbc5660603: Download complete\n",
      "bc84fa7bf560: Verifying Checksum\n",
      "bc84fa7bf560: Download complete\n",
      "bc84fa7bf560: Pull complete\n",
      "7acc9d6f76f0: Pull complete\n",
      "c90cbaa659f2: Verifying Checksum\n",
      "c90cbaa659f2: Download complete\n",
      "c90cbaa659f2: Pull complete\n",
      "82cbc5660603: Pull complete\n",
      "Digest: sha256:fc4ca0a74559f57ef8ee4f8e3c3586160ab74427c7c01c8971e4d273db3a2e06\n",
      "Status: Downloaded newer image for svizor/zoomcamp-model:3.11.5-hw10\n",
      "docker.io/svizor/zoomcamp-model:3.11.5-hw10\n"
     ]
    },
    {
     "name": "stderr",
     "output_type": "stream",
     "text": [
      "\n",
      "What's Next?\n",
      "  View a summary of image vulnerabilities and recommendations â†’ docker scout quickview svizor/zoomcamp-model:3.11.5-hw10\n"
     ]
    }
   ],
   "source": [
    "!docker pull svizor/zoomcamp-model:3.11.5-hw10"
   ]
  },
  {
   "cell_type": "markdown",
   "id": "c845af87-2662-4ee2-973d-f5ae4d58a141",
   "metadata": {},
   "source": [
    "__Question 1__\n",
    "\n",
    "Run it to test that it's working locally:\n",
    "\n",
    "<code> docker run -it --rm -p 9696:9696 zoomcamp-model:3.11.5-hw10 </code>\n",
    "\n",
    "And in another terminal, execute q6_test.py file:\n",
    "\n",
    "<code> python q6_test.py </code>\n",
    "\n",
    "You should see this:\n",
    "\n",
    "<code> {'has_subscribed': True, 'has_subscribed_probability': <value>} </code>\n",
    "\n",
    "\n",
    "Here <code> <value>  </code>is the probability of getting a subscription. You need to choose the right one.\n",
    "\n",
    "- 0.287\n",
    "- 0.530\n",
    "- __0.757__\n",
    "- 0.960\n"
   ]
  },
  {
   "cell_type": "code",
   "execution_count": null,
   "id": "ed14c1a2-d1bb-4df2-9e9a-a6c99d162b9c",
   "metadata": {},
   "outputs": [],
   "source": []
  },
  {
   "cell_type": "markdown",
   "id": "b8f5939c-7be1-4428-b778-6da76df0e00a",
   "metadata": {},
   "source": [
    "<code> curl -k -Lo kind.exe https://kind.sigs.k8s.io/dl/v0.20.0/kind-windows-amd64 </code> this worked\n"
   ]
  },
  {
   "cell_type": "markdown",
   "id": "44924886-1311-4e2a-a1ee-cc683b736957",
   "metadata": {},
   "source": [
    "__Question 2__\n",
    "\n",
    "What's the version of kind that you have?\n",
    "\n",
    "Use <code>kind --version</code> to find out."
   ]
  },
  {
   "cell_type": "markdown",
   "id": "a7369a8b-1ac4-4459-9627-44ad1f4c3478",
   "metadata": {},
   "source": [
    "__kind version 0.20.0__"
   ]
  },
  {
   "cell_type": "markdown",
   "id": "58707d65-6b12-410a-9063-a9e5e3ca42d4",
   "metadata": {},
   "source": [
    "__Creating a cluster__\n",
    "\n",
    "Now let's create a cluster with kind:\n",
    "\n",
    "<code>kind create cluster</code>\n",
    "And check with kubectl that it was successfully created:\n",
    "\n",
    "<code>kubectl cluster-info</code>"
   ]
  },
  {
   "cell_type": "code",
   "execution_count": null,
   "id": "d560c973-8a24-4577-a54c-fcc444dab835",
   "metadata": {},
   "outputs": [],
   "source": []
  },
  {
   "cell_type": "markdown",
   "id": "8c0ba32c-c4c3-4110-abe5-987444bacbd5",
   "metadata": {},
   "source": [
    "__Question 3__\n",
    "\n",
    "What's the smallest deployable computing unit that we can create and manage in Kubernetes (kind in our case)?\n",
    "\n",
    "- Node\n",
    "- __Pod__\n",
    "- Deployment\n",
    "- Service"
   ]
  },
  {
   "cell_type": "code",
   "execution_count": null,
   "id": "9174b118-da91-48e1-9ee9-77d1fee551f6",
   "metadata": {},
   "outputs": [],
   "source": []
  },
  {
   "cell_type": "markdown",
   "id": "f0cbfbc3-0e0e-4347-8c50-cafe698eef2c",
   "metadata": {},
   "source": [
    "__Question 4__\n",
    "\n",
    "Now let's test if everything works. Use kubectl to get the list of running services.\n",
    "\n",
    "What's the Type of the service that is already running there?\n",
    "\n",
    "- NodePort\n",
    "- __ClusterIP__\n",
    "- ExternalName\n",
    "- LoadBalancer"
   ]
  },
  {
   "cell_type": "markdown",
   "id": "6c2e6171-1851-4c61-94c3-95ece588dd84",
   "metadata": {},
   "source": [
    "<code> kubectl get services</code>"
   ]
  },
  {
   "cell_type": "markdown",
   "id": "d1a73dcf-faa8-442c-916e-ebeefc3c2083",
   "metadata": {},
   "source": [
    "<code>\n",
    "NAME         TYPE        CLUSTER-IP   EXTERNAL-IP   PORT(S)   AGE\n",
    "kubernetes   ClusterIP   10.96.0.1    <none>        443/TCP   16m\n",
    "</code>"
   ]
  },
  {
   "cell_type": "markdown",
   "id": "203801f8-319a-465d-8155-6354dfc19295",
   "metadata": {},
   "source": [
    "__Question 5__\n",
    "\n",
    "To be able to use the docker image we previously created (zoomcamp-model:3.11.5-hw10), we need to register it with kind.\n",
    "\n",
    "What's the command we need to run for that?\n",
    "\n",
    "- kind create cluster\n",
    "- kind build node-image\n",
    "- __kind load docker-image__\n",
    "- kubectl apply"
   ]
  },
  {
   "cell_type": "markdown",
   "id": "7edc5852-d530-4223-8c7d-02cb292f7da2",
   "metadata": {},
   "source": [
    "__Question 6__\n",
    "\n",
    "Apply this deployment using the appropriate command and get a list of running Pods. You can see one running Pod.\n",
    "\n",
    "\n",
    "<code> apiVersion: apps/v1\n",
    "kind: Deployment\n",
    "metadata:\n",
    "  name: subscription\n",
    "spec:\n",
    "  selector:\n",
    "    matchLabels:\n",
    "      app: subscription\n",
    "  replicas: 1\n",
    "  template:\n",
    "    metadata:\n",
    "      labels:\n",
    "        app: subscription\n",
    "    spec:\n",
    "      containers:\n",
    "      - name: subscription\n",
    "        image: <Image>\n",
    "        resources:\n",
    "          requests:\n",
    "            memory: \"64Mi\"\n",
    "            cpu: \"100m\"            \n",
    "          limits:\n",
    "            memory: <Memory>\n",
    "            cpu: <CPU>\n",
    "        ports:\n",
    "        - containerPort: <Port> </code>"
   ]
  },
  {
   "cell_type": "code",
   "execution_count": null,
   "id": "4e9ff05b-0f35-4c32-8b90-1d4a3a0cd774",
   "metadata": {},
   "outputs": [],
   "source": []
  },
  {
   "cell_type": "code",
   "execution_count": null,
   "id": "e84eda03-97d7-41d2-a63b-3973fbcbbc39",
   "metadata": {},
   "outputs": [],
   "source": [
    "apiVersion: apps/v1\n",
    "kind: Deployment\n",
    "metadata:\n",
    "  name: subscription\n",
    "spec:\n",
    "  selector:\n",
    "    matchLabels:\n",
    "      app: subscription\n",
    "  replicas: 1\n",
    "  template:\n",
    "    metadata:\n",
    "      labels:\n",
    "        app: subscription\n",
    "    spec:\n",
    "      containers:\n",
    "      - name: subscription\n",
    "        image: svizor/zoomcamp-model:3.11.5-hw10\n",
    "        resources:\n",
    "          requests:\n",
    "            memory: \"64Mi\"\n",
    "            cpu: \"100m\"            \n",
    "          limits:\n",
    "            memory: \"128Mi\"\n",
    "            cpu: \"500m\"  # Corrected quotes here\n",
    "        ports:\n",
    "        - containerPort: 9696\n"
   ]
  },
  {
   "cell_type": "markdown",
   "id": "66dccb1a-be78-4e7c-84c6-e91962551d32",
   "metadata": {},
   "source": [
    "What is the value for <code> Port </code>:? __9696__"
   ]
  },
  {
   "cell_type": "markdown",
   "id": "546b6b57-d5f3-487e-a603-4588f419c49b",
   "metadata": {},
   "source": [
    "__Question 7__"
   ]
  },
  {
   "cell_type": "markdown",
   "id": "ea40136e-d376-4a80-8236-eb372348a428",
   "metadata": {},
   "source": [
    "Let's create a service for this deployment (<code>service.yaml</code>):"
   ]
  },
  {
   "cell_type": "markdown",
   "id": "37002d41-6ae7-4766-9c86-d96dafff349a",
   "metadata": {},
   "source": [
    "\n",
    "<code>apiVersion: v1\n",
    "kind: Service\n",
    "metadata:\n",
    "  name: <Service name>\n",
    "spec:\n",
    "  type: LoadBalancer\n",
    "  selector:\n",
    "    app: <???>\n",
    "  ports:\n",
    "  - port: 80\n",
    "    targetPort: <PORT></code>"
   ]
  },
  {
   "cell_type": "markdown",
   "id": "bf3bcea6-cdb9-4d3a-a048-3f9d308a2513",
   "metadata": {},
   "source": [
    "Fill it in. What do we need to write instead of <code>???</code>? __subscription__"
   ]
  },
  {
   "cell_type": "markdown",
   "id": "da33443c-bbac-4fbe-b065-12c6f504a81a",
   "metadata": {},
   "source": [
    "<code> kind load docker-image svizor/zoomcamp-model:3.11.5-slim </code>\n",
    "\n",
    "<code>kubectl apply -f deployment.yaml  kubectl apply -f service.yaml </code>\n",
    "\n",
    "<code>kubectl port-forward service/subscription-service 9696:80</code>"
   ]
  },
  {
   "cell_type": "code",
   "execution_count": null,
   "id": "293cf0bf-6285-412e-8042-711d79270560",
   "metadata": {},
   "outputs": [],
   "source": []
  }
 ],
 "metadata": {
  "kernelspec": {
   "display_name": "Python 3 (ipykernel)",
   "language": "python",
   "name": "python3"
  },
  "language_info": {
   "codemirror_mode": {
    "name": "ipython",
    "version": 3
   },
   "file_extension": ".py",
   "mimetype": "text/x-python",
   "name": "python",
   "nbconvert_exporter": "python",
   "pygments_lexer": "ipython3",
   "version": "3.11.9"
  }
 },
 "nbformat": 4,
 "nbformat_minor": 5
}

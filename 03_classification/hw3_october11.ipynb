{
 "cells": [
  {
   "cell_type": "markdown",
   "id": "077eb948-2467-4c99-bac6-7baf7f375122",
   "metadata": {},
   "source": [
    "In this homework, we will use the Bank Marketing dataset. Download it from [here](https://archive.ics.uci.edu/static/public/222/bank+marketing.zip)."
   ]
  },
  {
   "cell_type": "markdown",
   "id": "ea48c7b3-6244-4b7d-80e9-a62fab0df17d",
   "metadata": {},
   "source": [
    "Or you can do it with <code>wget</code>:"
   ]
  },
  {
   "cell_type": "code",
   "execution_count": 1,
   "id": "39c362c8-a7d7-4193-8a4a-5555d9488ac2",
   "metadata": {},
   "outputs": [],
   "source": [
    "import pandas as pd\n",
    "from zipfile import ZipFile\n",
    "import numpy as np"
   ]
  },
  {
   "cell_type": "code",
   "execution_count": 2,
   "id": "c69ad725-66ff-4a8b-b6f5-3d6a39e0bde3",
   "metadata": {},
   "outputs": [],
   "source": [
    "####Remove # for first run \n",
    "##!wget https://archive.ics.uci.edu/static/public/222/bank+marketing.zip"
   ]
  },
  {
   "cell_type": "markdown",
   "id": "f17a29f9-9577-4bea-9482-81e11e59577b",
   "metadata": {},
   "source": [
    "We need to take <code>bank/bank-full.csv<c/ode> file from the downloaded zip-file.\n",
    "In this dataset our desired target for classification task will be <code>y</code> variable - has __the client subscribed a term deposit or not__."
   ]
  },
  {
   "cell_type": "code",
   "execution_count": 3,
   "id": "1997d48f-a449-4b86-ab15-babad606a63c",
   "metadata": {},
   "outputs": [],
   "source": [
    "####Remove # for first run \n",
    "#extract from zip file\n",
    "\n",
    "#zf = ZipFile('bank+marketing.zip.1', 'r')\n",
    "#zf.extractall('bank+marketing')\n",
    "#zf.close()"
   ]
  },
  {
   "cell_type": "code",
   "execution_count": 4,
   "id": "3f3052d4-6fdb-4706-95c3-79943cbc5e70",
   "metadata": {},
   "outputs": [],
   "source": [
    "####Remove # for first run \n",
    "#extract from secind zip file\n",
    "\n",
    "#zf = ZipFile('bank+marketing\\\\bank.zip', 'r')\n",
    "#zf.extractall('C:\\\\Users\\\\Kuzey\\\\bank')\n",
    "#zf.close()"
   ]
  },
  {
   "cell_type": "code",
   "execution_count": 5,
   "id": "9b83daa4-26ce-4a2b-b260-b446a28e355e",
   "metadata": {},
   "outputs": [],
   "source": [
    "df = pd.read_csv(\"bank/bank-full.csv\", sep = \";\")"
   ]
  },
  {
   "cell_type": "code",
   "execution_count": 6,
   "id": "9249b552-633e-41e8-afde-ba1556fee6a8",
   "metadata": {},
   "outputs": [
    {
     "name": "stdout",
     "output_type": "stream",
     "text": [
      "45211\n"
     ]
    }
   ],
   "source": [
    "print(len(df))"
   ]
  },
  {
   "cell_type": "code",
   "execution_count": 7,
   "id": "3876f7ba-2b57-43e3-845e-16d4abafa98b",
   "metadata": {},
   "outputs": [
    {
     "name": "stdout",
     "output_type": "stream",
     "text": [
      "   age           job  marital  education default  balance housing loan  \\\n",
      "0   58    management  married   tertiary      no     2143     yes   no   \n",
      "1   44    technician   single  secondary      no       29     yes   no   \n",
      "2   33  entrepreneur  married  secondary      no        2     yes  yes   \n",
      "3   47   blue-collar  married    unknown      no     1506     yes   no   \n",
      "4   33       unknown   single    unknown      no        1      no   no   \n",
      "\n",
      "   contact  day month  duration  campaign  pdays  previous poutcome   y  \n",
      "0  unknown    5   may       261         1     -1         0  unknown  no  \n",
      "1  unknown    5   may       151         1     -1         0  unknown  no  \n",
      "2  unknown    5   may        76         1     -1         0  unknown  no  \n",
      "3  unknown    5   may        92         1     -1         0  unknown  no  \n",
      "4  unknown    5   may       198         1     -1         0  unknown  no  \n"
     ]
    }
   ],
   "source": [
    "print(df.head())"
   ]
  },
  {
   "cell_type": "markdown",
   "id": "63b463a4-3715-4224-b58c-ada6c8ff02b0",
   "metadata": {},
   "source": [
    "## Features"
   ]
  },
  {
   "cell_type": "markdown",
   "id": "5c8daa4d-437f-4a2e-8f94-ee61d35281fd",
   "metadata": {},
   "source": [
    "For the rest of the homework, you'll need to use only these columns:\n",
    "<code>\n",
    "age,\n",
    "job,\n",
    "marital,\n",
    "education,\n",
    "balance,\n",
    "housing,\n",
    "contact,\n",
    "day,\n",
    "month,\n",
    "duration,\n",
    "campaign,\n",
    "pdays,\n",
    "previous,\n",
    "poutcome,\n",
    "y\n",
    "</code>"
   ]
  },
  {
   "cell_type": "code",
   "execution_count": 8,
   "id": "e728dc56-a6e4-494e-95c5-66daf7a750b1",
   "metadata": {},
   "outputs": [
    {
     "name": "stdout",
     "output_type": "stream",
     "text": [
      "   age           job  marital  education default  balance housing loan  \\\n",
      "0   58    management  married   tertiary      no     2143     yes   no   \n",
      "1   44    technician   single  secondary      no       29     yes   no   \n",
      "2   33  entrepreneur  married  secondary      no        2     yes  yes   \n",
      "3   47   blue-collar  married    unknown      no     1506     yes   no   \n",
      "4   33       unknown   single    unknown      no        1      no   no   \n",
      "\n",
      "   contact  day month  duration  campaign  pdays  previous poutcome   y  \n",
      "0  unknown    5   may       261         1     -1         0  unknown  no  \n",
      "1  unknown    5   may       151         1     -1         0  unknown  no  \n",
      "2  unknown    5   may        76         1     -1         0  unknown  no  \n",
      "3  unknown    5   may        92         1     -1         0  unknown  no  \n",
      "4  unknown    5   may       198         1     -1         0  unknown  no  \n"
     ]
    }
   ],
   "source": [
    "df_new = df.copy()\n",
    "df_new.columns = df_new.columns.str.replace('\"','').str.replace(' ', '').str.lower()\n",
    "print(df_new.head())"
   ]
  },
  {
   "cell_type": "code",
   "execution_count": null,
   "id": "c8090763-bb61-4efb-8e46-d2dbee723c6a",
   "metadata": {},
   "outputs": [],
   "source": []
  },
  {
   "cell_type": "markdown",
   "id": "b3e55672-17d0-4df0-b803-c55541d6c3fe",
   "metadata": {},
   "source": [
    "## Data preparation"
   ]
  },
  {
   "cell_type": "markdown",
   "id": "c9761b65-2eea-41f3-a3f4-23c92da31da7",
   "metadata": {},
   "source": [
    "- Select only the features from above.\n",
    "- Check if the missing values are presented in the features."
   ]
  },
  {
   "cell_type": "code",
   "execution_count": 9,
   "id": "550bde83-8a98-4d19-808f-b21079d49c43",
   "metadata": {},
   "outputs": [],
   "source": [
    "df_new = df_new[['age','job','marital','education','balance','housing','contact','day','month','duration','campaign','pdays','previous',\n",
    "'poutcome','y']]"
   ]
  },
  {
   "cell_type": "code",
   "execution_count": 10,
   "id": "d605f919-1952-4085-a47e-463792b5bb51",
   "metadata": {},
   "outputs": [
    {
     "data": {
      "text/plain": [
       "age          0\n",
       "job          0\n",
       "marital      0\n",
       "education    0\n",
       "balance      0\n",
       "housing      0\n",
       "contact      0\n",
       "day          0\n",
       "month        0\n",
       "duration     0\n",
       "campaign     0\n",
       "pdays        0\n",
       "previous     0\n",
       "poutcome     0\n",
       "y            0\n",
       "dtype: int64"
      ]
     },
     "execution_count": 10,
     "metadata": {},
     "output_type": "execute_result"
    }
   ],
   "source": [
    "df_new.isnull().sum()"
   ]
  },
  {
   "cell_type": "code",
   "execution_count": 11,
   "id": "856a11a3-1a75-4d24-8ca5-11395d7f74de",
   "metadata": {},
   "outputs": [
    {
     "name": "stdout",
     "output_type": "stream",
     "text": [
      "\u001b[1m There are no null values.\u001b[0m\n"
     ]
    }
   ],
   "source": [
    "print(f\"\\033[1m There are no null values.\\033[0m\")"
   ]
  },
  {
   "cell_type": "markdown",
   "id": "1f4ae2a3-1037-4c6f-95dc-eb654d4177ba",
   "metadata": {},
   "source": [
    "## Question 1"
   ]
  },
  {
   "cell_type": "markdown",
   "id": "c6abc284-89d2-4a9d-aaaa-3cf62fe09651",
   "metadata": {},
   "source": [
    "What is the most frequent observation (mode) for the column education?\n",
    "\n",
    "- unknown\n",
    "- primary\n",
    "- secondary\n",
    "- tertiary"
   ]
  },
  {
   "cell_type": "code",
   "execution_count": 12,
   "id": "726318de-fe65-483f-9b1b-989a5b338ed0",
   "metadata": {},
   "outputs": [],
   "source": [
    "mode_edu = df_new[\"education\"].mode()[0]\n"
   ]
  },
  {
   "cell_type": "code",
   "execution_count": 13,
   "id": "758aa8f9-7071-4e0e-8e55-cd12471ccb1c",
   "metadata": {},
   "outputs": [
    {
     "name": "stdout",
     "output_type": "stream",
     "text": [
      "The most frequent observation in the education column is \u001b[1msecondary\u001b[0m\n"
     ]
    }
   ],
   "source": [
    "print(f\"The most frequent observation in the education column is \\033[1m{mode_edu}\\033[0m\")"
   ]
  },
  {
   "cell_type": "markdown",
   "id": "cde05572-5e1e-4094-af88-6cf29a5ba81f",
   "metadata": {},
   "source": [
    "## Question 2"
   ]
  },
  {
   "cell_type": "markdown",
   "id": "f38acd8f-2323-4719-8f0c-a048f9e63a57",
   "metadata": {},
   "source": [
    "Create the __correlation matrix__ for the numerical features of your dataset. In a __correlation matrix__, you compute the correlation coefficient between every pair of features.\n",
    "\n",
    "What are the two features that have the biggest correlation?\n",
    "\n",
    "- <code> age and balance </code>\n",
    "- <code> day and campaign </code>\n",
    "- <code> day and pdays </code>\n",
    "- <code> pdays and previous</code>"
   ]
  },
  {
   "cell_type": "code",
   "execution_count": 14,
   "id": "422e8fba-9229-4b05-9f4a-94450c612a61",
   "metadata": {},
   "outputs": [
    {
     "name": "stdout",
     "output_type": "stream",
     "text": [
      "<class 'pandas.core.frame.DataFrame'>\n",
      "RangeIndex: 45211 entries, 0 to 45210\n",
      "Data columns (total 15 columns):\n",
      " #   Column     Non-Null Count  Dtype \n",
      "---  ------     --------------  ----- \n",
      " 0   age        45211 non-null  int64 \n",
      " 1   job        45211 non-null  object\n",
      " 2   marital    45211 non-null  object\n",
      " 3   education  45211 non-null  object\n",
      " 4   balance    45211 non-null  int64 \n",
      " 5   housing    45211 non-null  object\n",
      " 6   contact    45211 non-null  object\n",
      " 7   day        45211 non-null  int64 \n",
      " 8   month      45211 non-null  object\n",
      " 9   duration   45211 non-null  int64 \n",
      " 10  campaign   45211 non-null  int64 \n",
      " 11  pdays      45211 non-null  int64 \n",
      " 12  previous   45211 non-null  int64 \n",
      " 13  poutcome   45211 non-null  object\n",
      " 14  y          45211 non-null  object\n",
      "dtypes: int64(7), object(8)\n",
      "memory usage: 5.2+ MB\n"
     ]
    }
   ],
   "source": [
    "df_new.info()"
   ]
  },
  {
   "cell_type": "code",
   "execution_count": 15,
   "id": "a7ca38e5-2e88-4227-af4d-6c49075b9c09",
   "metadata": {},
   "outputs": [],
   "source": [
    "numerical = ['age','balance', 'day', 'duration', 'campaign', 'pdays', 'previous']"
   ]
  },
  {
   "cell_type": "code",
   "execution_count": 16,
   "id": "b285c791-bb09-4423-b22d-12bf05199c9f",
   "metadata": {},
   "outputs": [],
   "source": [
    "df_numerical = df_new[numerical]"
   ]
  },
  {
   "cell_type": "code",
   "execution_count": 17,
   "id": "63f34be2-a54d-4f0a-b06d-27ab69eb5159",
   "metadata": {},
   "outputs": [
    {
     "data": {
      "text/html": [
       "<div>\n",
       "<style scoped>\n",
       "    .dataframe tbody tr th:only-of-type {\n",
       "        vertical-align: middle;\n",
       "    }\n",
       "\n",
       "    .dataframe tbody tr th {\n",
       "        vertical-align: top;\n",
       "    }\n",
       "\n",
       "    .dataframe thead th {\n",
       "        text-align: right;\n",
       "    }\n",
       "</style>\n",
       "<table border=\"1\" class=\"dataframe\">\n",
       "  <thead>\n",
       "    <tr style=\"text-align: right;\">\n",
       "      <th></th>\n",
       "      <th>age</th>\n",
       "      <th>balance</th>\n",
       "      <th>day</th>\n",
       "      <th>duration</th>\n",
       "      <th>campaign</th>\n",
       "      <th>pdays</th>\n",
       "      <th>previous</th>\n",
       "    </tr>\n",
       "  </thead>\n",
       "  <tbody>\n",
       "    <tr>\n",
       "      <th>age</th>\n",
       "      <td>1.000000</td>\n",
       "      <td>0.097783</td>\n",
       "      <td>-0.009120</td>\n",
       "      <td>-0.004648</td>\n",
       "      <td>0.004760</td>\n",
       "      <td>-0.023758</td>\n",
       "      <td>0.001288</td>\n",
       "    </tr>\n",
       "    <tr>\n",
       "      <th>balance</th>\n",
       "      <td>0.097783</td>\n",
       "      <td>1.000000</td>\n",
       "      <td>0.004503</td>\n",
       "      <td>0.021560</td>\n",
       "      <td>-0.014578</td>\n",
       "      <td>0.003435</td>\n",
       "      <td>0.016674</td>\n",
       "    </tr>\n",
       "    <tr>\n",
       "      <th>day</th>\n",
       "      <td>-0.009120</td>\n",
       "      <td>0.004503</td>\n",
       "      <td>1.000000</td>\n",
       "      <td>-0.030206</td>\n",
       "      <td>0.162490</td>\n",
       "      <td>-0.093044</td>\n",
       "      <td>-0.051710</td>\n",
       "    </tr>\n",
       "    <tr>\n",
       "      <th>duration</th>\n",
       "      <td>-0.004648</td>\n",
       "      <td>0.021560</td>\n",
       "      <td>-0.030206</td>\n",
       "      <td>1.000000</td>\n",
       "      <td>-0.084570</td>\n",
       "      <td>-0.001565</td>\n",
       "      <td>0.001203</td>\n",
       "    </tr>\n",
       "    <tr>\n",
       "      <th>campaign</th>\n",
       "      <td>0.004760</td>\n",
       "      <td>-0.014578</td>\n",
       "      <td>0.162490</td>\n",
       "      <td>-0.084570</td>\n",
       "      <td>1.000000</td>\n",
       "      <td>-0.088628</td>\n",
       "      <td>-0.032855</td>\n",
       "    </tr>\n",
       "    <tr>\n",
       "      <th>pdays</th>\n",
       "      <td>-0.023758</td>\n",
       "      <td>0.003435</td>\n",
       "      <td>-0.093044</td>\n",
       "      <td>-0.001565</td>\n",
       "      <td>-0.088628</td>\n",
       "      <td>1.000000</td>\n",
       "      <td>0.454820</td>\n",
       "    </tr>\n",
       "    <tr>\n",
       "      <th>previous</th>\n",
       "      <td>0.001288</td>\n",
       "      <td>0.016674</td>\n",
       "      <td>-0.051710</td>\n",
       "      <td>0.001203</td>\n",
       "      <td>-0.032855</td>\n",
       "      <td>0.454820</td>\n",
       "      <td>1.000000</td>\n",
       "    </tr>\n",
       "  </tbody>\n",
       "</table>\n",
       "</div>"
      ],
      "text/plain": [
       "               age   balance       day  duration  campaign     pdays  previous\n",
       "age       1.000000  0.097783 -0.009120 -0.004648  0.004760 -0.023758  0.001288\n",
       "balance   0.097783  1.000000  0.004503  0.021560 -0.014578  0.003435  0.016674\n",
       "day      -0.009120  0.004503  1.000000 -0.030206  0.162490 -0.093044 -0.051710\n",
       "duration -0.004648  0.021560 -0.030206  1.000000 -0.084570 -0.001565  0.001203\n",
       "campaign  0.004760 -0.014578  0.162490 -0.084570  1.000000 -0.088628 -0.032855\n",
       "pdays    -0.023758  0.003435 -0.093044 -0.001565 -0.088628  1.000000  0.454820\n",
       "previous  0.001288  0.016674 -0.051710  0.001203 -0.032855  0.454820  1.000000"
      ]
     },
     "execution_count": 17,
     "metadata": {},
     "output_type": "execute_result"
    }
   ],
   "source": [
    "df_numerical.corr()"
   ]
  },
  {
   "cell_type": "code",
   "execution_count": 18,
   "id": "efddc22e-0220-46a1-ae4e-d18f160ea21c",
   "metadata": {},
   "outputs": [
    {
     "name": "stdout",
     "output_type": "stream",
     "text": [
      "0.0977827393713475\n"
     ]
    }
   ],
   "source": [
    "corr_agg_balance = df.age.corr(df.balance)\n",
    "print(corr_agg_balance)"
   ]
  },
  {
   "cell_type": "code",
   "execution_count": 19,
   "id": "f6493f4e-f7e4-459a-a0d2-ad724160a5d7",
   "metadata": {},
   "outputs": [
    {
     "name": "stdout",
     "output_type": "stream",
     "text": [
      "0.16249021632619273\n"
     ]
    }
   ],
   "source": [
    "corr_day_campaign = df.day.corr(df.campaign)\n",
    "print(corr_day_campaign)"
   ]
  },
  {
   "cell_type": "code",
   "execution_count": 20,
   "id": "c3db688c-7c1d-4412-b924-6a721567156f",
   "metadata": {},
   "outputs": [
    {
     "name": "stdout",
     "output_type": "stream",
     "text": [
      "-0.09304407377294055\n"
     ]
    }
   ],
   "source": [
    "corr_day_pdays = df.day.corr(df.pdays)\n",
    "print(corr_day_pdays)"
   ]
  },
  {
   "cell_type": "code",
   "execution_count": 21,
   "id": "0dec4081-3d5b-498c-beef-ef71634c19f8",
   "metadata": {},
   "outputs": [
    {
     "name": "stdout",
     "output_type": "stream",
     "text": [
      "0.45481963548050097\n"
     ]
    }
   ],
   "source": [
    "corr_pdays_previous = df.pdays.corr(df.previous)\n",
    "print(corr_pdays_previous)"
   ]
  },
  {
   "cell_type": "code",
   "execution_count": 22,
   "id": "da4a65e8-f501-4717-999c-193af984c6ce",
   "metadata": {},
   "outputs": [],
   "source": [
    "\n",
    "correlations = {'age and balance': corr_agg_balance, 'day and campaign': corr_day_campaign, 'day and pdays': corr_day_pdays, 'pdays and previous': corr_pdays_previous }\n",
    "max_corr = max(correlations, key=correlations.get)\n",
    "#print(winner, 'wins')"
   ]
  },
  {
   "cell_type": "code",
   "execution_count": 23,
   "id": "19c03795-0799-43e5-be03-7f7e41ec28d8",
   "metadata": {},
   "outputs": [
    {
     "name": "stdout",
     "output_type": "stream",
     "text": [
      "\u001b[1mpdays and previous\u001b[0m has the maximum correlation!\n"
     ]
    }
   ],
   "source": [
    "print(f\"\\033[1m{max_corr}\\033[0m has the maximum correlation!\")"
   ]
  },
  {
   "cell_type": "markdown",
   "id": "56436f41-1df4-4be5-85e4-67542897916e",
   "metadata": {},
   "source": [
    "## Target encoding\n",
    "- Now we want to encode the <code>y</code> variable.\n",
    "- Let's replace the values <code>yes/no</code> with <code>1/0</code>."
   ]
  },
  {
   "cell_type": "code",
   "execution_count": 24,
   "id": "6bb1e47d-365e-4f0b-ad79-95eb97d9b8e2",
   "metadata": {},
   "outputs": [
    {
     "name": "stdout",
     "output_type": "stream",
     "text": [
      "[0 1]\n"
     ]
    }
   ],
   "source": [
    "df_new.y = (df_new.y == \"yes\").astype('int')\n",
    "print(df_new['y'].unique())"
   ]
  },
  {
   "cell_type": "markdown",
   "id": "43455d97-3bed-4a13-8aae-ca557ca12932",
   "metadata": {},
   "source": [
    "## Split the data\n",
    "- Split your data in train/val/test sets with <code>60%/20%/20%</code> distribution.\n",
    "- Use <code>Scikit-Learn</code> for that (the train_test_split function) and set the <code>seed</code> to <code>42</code>.\n",
    "- Make sure that the target value <code>y</code> is not in your dataframe."
   ]
  },
  {
   "cell_type": "code",
   "execution_count": 25,
   "id": "172756ee-935f-4da4-9458-4ccd5ff97c74",
   "metadata": {},
   "outputs": [],
   "source": [
    "from sklearn.model_selection import train_test_split"
   ]
  },
  {
   "cell_type": "code",
   "execution_count": 26,
   "id": "a5ca0d2a-f767-4c77-a771-7442137417fc",
   "metadata": {},
   "outputs": [],
   "source": [
    "df_full_train, df_test = train_test_split(df_new, test_size = 0.2, random_state = 42)"
   ]
  },
  {
   "cell_type": "code",
   "execution_count": 27,
   "id": "1c0faa89-d727-40de-8cac-e0e0e0f419bc",
   "metadata": {},
   "outputs": [],
   "source": [
    "df_train, df_val = train_test_split(df_full_train, test_size = 0.25, random_state = 42)"
   ]
  },
  {
   "cell_type": "code",
   "execution_count": 28,
   "id": "916fd644-731b-4ad3-8deb-214d2bb083af",
   "metadata": {},
   "outputs": [],
   "source": [
    "df_train = df_train.reset_index(drop = True)\n",
    "df_val = df_val.reset_index(drop = True)\n",
    "df_test = df_test.reset_index(drop = True)"
   ]
  },
  {
   "cell_type": "code",
   "execution_count": 29,
   "id": "007be94f-f39d-4ece-ba6e-b5a4c92cc3b0",
   "metadata": {},
   "outputs": [],
   "source": [
    "y_train = df_train.y.values\n",
    "y_val = df_val.y.values\n",
    "y_test = df_test.y.values"
   ]
  },
  {
   "cell_type": "code",
   "execution_count": 30,
   "id": "58c7d78b-fdbf-4ce2-9476-5e66537c09b7",
   "metadata": {},
   "outputs": [],
   "source": [
    "del df_train['y']\n",
    "del  df_val['y']\n",
    "del df_test['y']"
   ]
  },
  {
   "cell_type": "markdown",
   "id": "538b0fd2-0504-4639-ba8b-9fd34f06f0a0",
   "metadata": {},
   "source": [
    "## Question 3"
   ]
  },
  {
   "cell_type": "markdown",
   "id": "0b2fff43-c30d-499d-b8f1-2772a877409e",
   "metadata": {},
   "source": [
    "Calculate the mutual information score between <code>y</code> and other <code>categorical variables</code> in the dataset. Use the training set only.\n",
    "Round the scores to 2 decimals using <code>round(score, 2)</code>.\n",
    "Which of these variables has the biggest mutual information score?\n",
    "\n",
    "- <code>contact</code>\n",
    "- <code>education</code>\n",
    "- <code>housing</code>\n",
    "- <code>poutcome</code>"
   ]
  },
  {
   "cell_type": "code",
   "execution_count": 31,
   "id": "ada66501-63f7-4eac-9ae8-8a201a930d64",
   "metadata": {},
   "outputs": [],
   "source": [
    "columns = df_train.columns\n",
    "num_cols = df_train._get_numeric_data().columns\n",
    "cat_cols = list(set(columns) - set(num_cols))"
   ]
  },
  {
   "cell_type": "code",
   "execution_count": 32,
   "id": "d04e9295-7e9f-474f-ba34-4ab2f98b67ed",
   "metadata": {},
   "outputs": [
    {
     "name": "stdout",
     "output_type": "stream",
     "text": [
      "Index(['age', 'balance', 'day', 'duration', 'campaign', 'pdays', 'previous'], dtype='object')\n",
      "['job', 'marital', 'month', 'contact', 'housing', 'education', 'poutcome']\n"
     ]
    }
   ],
   "source": [
    "print(num_cols)\n",
    "print(cat_cols)"
   ]
  },
  {
   "cell_type": "code",
   "execution_count": 33,
   "id": "dfef5c73-2c94-445e-9d87-7b83b7489bee",
   "metadata": {},
   "outputs": [],
   "source": [
    "df_train_new = df_train.copy()\n",
    "df_train_new = df_train[cat_cols]\n",
    "df_train_new = df_train_new.reset_index(drop = True)"
   ]
  },
  {
   "cell_type": "code",
   "execution_count": 34,
   "id": "04d107b3-5e9e-4b96-b937-fef251d612e9",
   "metadata": {},
   "outputs": [],
   "source": [
    "from sklearn.metrics import mutual_info_score"
   ]
  },
  {
   "cell_type": "code",
   "execution_count": 35,
   "id": "5c385c6c-1d74-4792-8653-8490f447f462",
   "metadata": {},
   "outputs": [],
   "source": [
    "mut_contact = mutual_info_score(df_train_new['contact'], y_train)\n",
    "mut_education = mutual_info_score(df_train_new['education'], y_train)\n",
    "mut_housing = mutual_info_score(df_train_new['housing'], y_train)\n",
    "mut_poutcome = mutual_info_score(df_train_new['poutcome'], y_train)"
   ]
  },
  {
   "cell_type": "code",
   "execution_count": 36,
   "id": "34c52aec-9db7-4a32-9480-38222b12e0b1",
   "metadata": {},
   "outputs": [
    {
     "name": "stdout",
     "output_type": "stream",
     "text": [
      "0.013356062198247219 0.0026967549991295282 0.010343105891750026 0.029532821290436224\n"
     ]
    }
   ],
   "source": [
    "\n",
    "print(mut_contact, mut_education, mut_housing, mut_poutcome)"
   ]
  },
  {
   "cell_type": "code",
   "execution_count": 37,
   "id": "7e40b2d2-a6b9-4492-85b7-872a80196c06",
   "metadata": {},
   "outputs": [
    {
     "name": "stdout",
     "output_type": "stream",
     "text": [
      "[0 0 0 ... 0 1 0]\n"
     ]
    }
   ],
   "source": [
    "print(y_train)"
   ]
  },
  {
   "cell_type": "code",
   "execution_count": 38,
   "id": "0f3df637-ba50-429c-bf65-91de2b9be5d8",
   "metadata": {},
   "outputs": [
    {
     "data": {
      "text/plain": [
       "0        cellular\n",
       "1        cellular\n",
       "2        cellular\n",
       "3        cellular\n",
       "4        cellular\n",
       "           ...   \n",
       "27121    cellular\n",
       "27122    cellular\n",
       "27123     unknown\n",
       "27124    cellular\n",
       "27125    cellular\n",
       "Name: contact, Length: 27126, dtype: object"
      ]
     },
     "execution_count": 38,
     "metadata": {},
     "output_type": "execute_result"
    }
   ],
   "source": [
    "df_train['contact']"
   ]
  },
  {
   "cell_type": "code",
   "execution_count": 39,
   "id": "503e75e6-987c-45af-ad92-713526335707",
   "metadata": {},
   "outputs": [],
   "source": [
    "\n",
    "mutual_info = {\"contact\": mut_contact, \"education\": mut_education, \"housing\": mut_housing, \"poutcome\": mut_poutcome}\n",
    "max_mutual_info = max(mutual_info, key=mutual_info.get)"
   ]
  },
  {
   "cell_type": "code",
   "execution_count": 40,
   "id": "78ef123f-9aa2-48af-8473-8232b994a692",
   "metadata": {},
   "outputs": [
    {
     "name": "stdout",
     "output_type": "stream",
     "text": [
      "\u001b[1mpoutcome\u001b[0m has the biggest mutual information score!\n"
     ]
    }
   ],
   "source": [
    "print(f\"\\033[1m{max_mutual_info}\\033[0m has the biggest mutual information score!\")"
   ]
  },
  {
   "cell_type": "markdown",
   "id": "a6bd5c9c-2a41-47d5-835b-c832a0751e08",
   "metadata": {},
   "source": [
    "## Question 4"
   ]
  },
  {
   "cell_type": "markdown",
   "id": "1ccf6d7d-5f97-44d6-9f62-086e8808dcf5",
   "metadata": {},
   "source": [
    "- Now let's train a logistic regression.\n",
    "- Remember that we have several categorical variables in the dataset. Include them using one-hot encoding.\n",
    "- Fit the model on the training dataset.\n",
    "  \n",
    " - To make sure the results are reproducible across different versions of Scikit-Learn, fit the model with these parameters:\n",
    " - <code>model = LogisticRegression(solver='liblinear', C=1.0, max_iter=1000, random_state=42)</code>\n",
    " - Calculate the accuracy on the validation dataset and round it to 2 decimal digits.\n",
    "__What accuracy did you get?__\n",
    "\n",
    "- 0.6\n",
    "- 0.7\n",
    "- 0.8\n",
    "- 0.9"
   ]
  },
  {
   "cell_type": "code",
   "execution_count": 41,
   "id": "9b99a9a3-6c42-4372-8f5b-811b7d42f100",
   "metadata": {},
   "outputs": [],
   "source": [
    "from sklearn.feature_extraction import DictVectorizer"
   ]
  },
  {
   "cell_type": "code",
   "execution_count": 42,
   "id": "c3554d49-893a-4515-8e79-5b154055b90f",
   "metadata": {},
   "outputs": [],
   "source": [
    "train_dicts = df_train.to_dict(orient = 'records')\n",
    "val_dicts = df_val.to_dict(orient = 'records')"
   ]
  },
  {
   "cell_type": "code",
   "execution_count": 43,
   "id": "50224d44-5821-404a-90f8-9c16ca53e6bb",
   "metadata": {},
   "outputs": [],
   "source": [
    "dv = DictVectorizer(sparse = False)\n",
    "dv.fit(train_dicts)\n",
    "\n",
    "X_train_new = dv.transform(train_dicts)\n",
    "X_val_new = dv.transform(val_dicts)"
   ]
  },
  {
   "cell_type": "code",
   "execution_count": 44,
   "id": "b89839bf-728b-4115-8d29-dec3faa7e136",
   "metadata": {},
   "outputs": [
    {
     "data": {
      "text/html": [
       "<style>#sk-container-id-1 {\n",
       "  /* Definition of color scheme common for light and dark mode */\n",
       "  --sklearn-color-text: black;\n",
       "  --sklearn-color-line: gray;\n",
       "  /* Definition of color scheme for unfitted estimators */\n",
       "  --sklearn-color-unfitted-level-0: #fff5e6;\n",
       "  --sklearn-color-unfitted-level-1: #f6e4d2;\n",
       "  --sklearn-color-unfitted-level-2: #ffe0b3;\n",
       "  --sklearn-color-unfitted-level-3: chocolate;\n",
       "  /* Definition of color scheme for fitted estimators */\n",
       "  --sklearn-color-fitted-level-0: #f0f8ff;\n",
       "  --sklearn-color-fitted-level-1: #d4ebff;\n",
       "  --sklearn-color-fitted-level-2: #b3dbfd;\n",
       "  --sklearn-color-fitted-level-3: cornflowerblue;\n",
       "\n",
       "  /* Specific color for light theme */\n",
       "  --sklearn-color-text-on-default-background: var(--sg-text-color, var(--theme-code-foreground, var(--jp-content-font-color1, black)));\n",
       "  --sklearn-color-background: var(--sg-background-color, var(--theme-background, var(--jp-layout-color0, white)));\n",
       "  --sklearn-color-border-box: var(--sg-text-color, var(--theme-code-foreground, var(--jp-content-font-color1, black)));\n",
       "  --sklearn-color-icon: #696969;\n",
       "\n",
       "  @media (prefers-color-scheme: dark) {\n",
       "    /* Redefinition of color scheme for dark theme */\n",
       "    --sklearn-color-text-on-default-background: var(--sg-text-color, var(--theme-code-foreground, var(--jp-content-font-color1, white)));\n",
       "    --sklearn-color-background: var(--sg-background-color, var(--theme-background, var(--jp-layout-color0, #111)));\n",
       "    --sklearn-color-border-box: var(--sg-text-color, var(--theme-code-foreground, var(--jp-content-font-color1, white)));\n",
       "    --sklearn-color-icon: #878787;\n",
       "  }\n",
       "}\n",
       "\n",
       "#sk-container-id-1 {\n",
       "  color: var(--sklearn-color-text);\n",
       "}\n",
       "\n",
       "#sk-container-id-1 pre {\n",
       "  padding: 0;\n",
       "}\n",
       "\n",
       "#sk-container-id-1 input.sk-hidden--visually {\n",
       "  border: 0;\n",
       "  clip: rect(1px 1px 1px 1px);\n",
       "  clip: rect(1px, 1px, 1px, 1px);\n",
       "  height: 1px;\n",
       "  margin: -1px;\n",
       "  overflow: hidden;\n",
       "  padding: 0;\n",
       "  position: absolute;\n",
       "  width: 1px;\n",
       "}\n",
       "\n",
       "#sk-container-id-1 div.sk-dashed-wrapped {\n",
       "  border: 1px dashed var(--sklearn-color-line);\n",
       "  margin: 0 0.4em 0.5em 0.4em;\n",
       "  box-sizing: border-box;\n",
       "  padding-bottom: 0.4em;\n",
       "  background-color: var(--sklearn-color-background);\n",
       "}\n",
       "\n",
       "#sk-container-id-1 div.sk-container {\n",
       "  /* jupyter's `normalize.less` sets `[hidden] { display: none; }`\n",
       "     but bootstrap.min.css set `[hidden] { display: none !important; }`\n",
       "     so we also need the `!important` here to be able to override the\n",
       "     default hidden behavior on the sphinx rendered scikit-learn.org.\n",
       "     See: https://github.com/scikit-learn/scikit-learn/issues/21755 */\n",
       "  display: inline-block !important;\n",
       "  position: relative;\n",
       "}\n",
       "\n",
       "#sk-container-id-1 div.sk-text-repr-fallback {\n",
       "  display: none;\n",
       "}\n",
       "\n",
       "div.sk-parallel-item,\n",
       "div.sk-serial,\n",
       "div.sk-item {\n",
       "  /* draw centered vertical line to link estimators */\n",
       "  background-image: linear-gradient(var(--sklearn-color-text-on-default-background), var(--sklearn-color-text-on-default-background));\n",
       "  background-size: 2px 100%;\n",
       "  background-repeat: no-repeat;\n",
       "  background-position: center center;\n",
       "}\n",
       "\n",
       "/* Parallel-specific style estimator block */\n",
       "\n",
       "#sk-container-id-1 div.sk-parallel-item::after {\n",
       "  content: \"\";\n",
       "  width: 100%;\n",
       "  border-bottom: 2px solid var(--sklearn-color-text-on-default-background);\n",
       "  flex-grow: 1;\n",
       "}\n",
       "\n",
       "#sk-container-id-1 div.sk-parallel {\n",
       "  display: flex;\n",
       "  align-items: stretch;\n",
       "  justify-content: center;\n",
       "  background-color: var(--sklearn-color-background);\n",
       "  position: relative;\n",
       "}\n",
       "\n",
       "#sk-container-id-1 div.sk-parallel-item {\n",
       "  display: flex;\n",
       "  flex-direction: column;\n",
       "}\n",
       "\n",
       "#sk-container-id-1 div.sk-parallel-item:first-child::after {\n",
       "  align-self: flex-end;\n",
       "  width: 50%;\n",
       "}\n",
       "\n",
       "#sk-container-id-1 div.sk-parallel-item:last-child::after {\n",
       "  align-self: flex-start;\n",
       "  width: 50%;\n",
       "}\n",
       "\n",
       "#sk-container-id-1 div.sk-parallel-item:only-child::after {\n",
       "  width: 0;\n",
       "}\n",
       "\n",
       "/* Serial-specific style estimator block */\n",
       "\n",
       "#sk-container-id-1 div.sk-serial {\n",
       "  display: flex;\n",
       "  flex-direction: column;\n",
       "  align-items: center;\n",
       "  background-color: var(--sklearn-color-background);\n",
       "  padding-right: 1em;\n",
       "  padding-left: 1em;\n",
       "}\n",
       "\n",
       "\n",
       "/* Toggleable style: style used for estimator/Pipeline/ColumnTransformer box that is\n",
       "clickable and can be expanded/collapsed.\n",
       "- Pipeline and ColumnTransformer use this feature and define the default style\n",
       "- Estimators will overwrite some part of the style using the `sk-estimator` class\n",
       "*/\n",
       "\n",
       "/* Pipeline and ColumnTransformer style (default) */\n",
       "\n",
       "#sk-container-id-1 div.sk-toggleable {\n",
       "  /* Default theme specific background. It is overwritten whether we have a\n",
       "  specific estimator or a Pipeline/ColumnTransformer */\n",
       "  background-color: var(--sklearn-color-background);\n",
       "}\n",
       "\n",
       "/* Toggleable label */\n",
       "#sk-container-id-1 label.sk-toggleable__label {\n",
       "  cursor: pointer;\n",
       "  display: block;\n",
       "  width: 100%;\n",
       "  margin-bottom: 0;\n",
       "  padding: 0.5em;\n",
       "  box-sizing: border-box;\n",
       "  text-align: center;\n",
       "}\n",
       "\n",
       "#sk-container-id-1 label.sk-toggleable__label-arrow:before {\n",
       "  /* Arrow on the left of the label */\n",
       "  content: \"▸\";\n",
       "  float: left;\n",
       "  margin-right: 0.25em;\n",
       "  color: var(--sklearn-color-icon);\n",
       "}\n",
       "\n",
       "#sk-container-id-1 label.sk-toggleable__label-arrow:hover:before {\n",
       "  color: var(--sklearn-color-text);\n",
       "}\n",
       "\n",
       "/* Toggleable content - dropdown */\n",
       "\n",
       "#sk-container-id-1 div.sk-toggleable__content {\n",
       "  max-height: 0;\n",
       "  max-width: 0;\n",
       "  overflow: hidden;\n",
       "  text-align: left;\n",
       "  /* unfitted */\n",
       "  background-color: var(--sklearn-color-unfitted-level-0);\n",
       "}\n",
       "\n",
       "#sk-container-id-1 div.sk-toggleable__content.fitted {\n",
       "  /* fitted */\n",
       "  background-color: var(--sklearn-color-fitted-level-0);\n",
       "}\n",
       "\n",
       "#sk-container-id-1 div.sk-toggleable__content pre {\n",
       "  margin: 0.2em;\n",
       "  border-radius: 0.25em;\n",
       "  color: var(--sklearn-color-text);\n",
       "  /* unfitted */\n",
       "  background-color: var(--sklearn-color-unfitted-level-0);\n",
       "}\n",
       "\n",
       "#sk-container-id-1 div.sk-toggleable__content.fitted pre {\n",
       "  /* unfitted */\n",
       "  background-color: var(--sklearn-color-fitted-level-0);\n",
       "}\n",
       "\n",
       "#sk-container-id-1 input.sk-toggleable__control:checked~div.sk-toggleable__content {\n",
       "  /* Expand drop-down */\n",
       "  max-height: 200px;\n",
       "  max-width: 100%;\n",
       "  overflow: auto;\n",
       "}\n",
       "\n",
       "#sk-container-id-1 input.sk-toggleable__control:checked~label.sk-toggleable__label-arrow:before {\n",
       "  content: \"▾\";\n",
       "}\n",
       "\n",
       "/* Pipeline/ColumnTransformer-specific style */\n",
       "\n",
       "#sk-container-id-1 div.sk-label input.sk-toggleable__control:checked~label.sk-toggleable__label {\n",
       "  color: var(--sklearn-color-text);\n",
       "  background-color: var(--sklearn-color-unfitted-level-2);\n",
       "}\n",
       "\n",
       "#sk-container-id-1 div.sk-label.fitted input.sk-toggleable__control:checked~label.sk-toggleable__label {\n",
       "  background-color: var(--sklearn-color-fitted-level-2);\n",
       "}\n",
       "\n",
       "/* Estimator-specific style */\n",
       "\n",
       "/* Colorize estimator box */\n",
       "#sk-container-id-1 div.sk-estimator input.sk-toggleable__control:checked~label.sk-toggleable__label {\n",
       "  /* unfitted */\n",
       "  background-color: var(--sklearn-color-unfitted-level-2);\n",
       "}\n",
       "\n",
       "#sk-container-id-1 div.sk-estimator.fitted input.sk-toggleable__control:checked~label.sk-toggleable__label {\n",
       "  /* fitted */\n",
       "  background-color: var(--sklearn-color-fitted-level-2);\n",
       "}\n",
       "\n",
       "#sk-container-id-1 div.sk-label label.sk-toggleable__label,\n",
       "#sk-container-id-1 div.sk-label label {\n",
       "  /* The background is the default theme color */\n",
       "  color: var(--sklearn-color-text-on-default-background);\n",
       "}\n",
       "\n",
       "/* On hover, darken the color of the background */\n",
       "#sk-container-id-1 div.sk-label:hover label.sk-toggleable__label {\n",
       "  color: var(--sklearn-color-text);\n",
       "  background-color: var(--sklearn-color-unfitted-level-2);\n",
       "}\n",
       "\n",
       "/* Label box, darken color on hover, fitted */\n",
       "#sk-container-id-1 div.sk-label.fitted:hover label.sk-toggleable__label.fitted {\n",
       "  color: var(--sklearn-color-text);\n",
       "  background-color: var(--sklearn-color-fitted-level-2);\n",
       "}\n",
       "\n",
       "/* Estimator label */\n",
       "\n",
       "#sk-container-id-1 div.sk-label label {\n",
       "  font-family: monospace;\n",
       "  font-weight: bold;\n",
       "  display: inline-block;\n",
       "  line-height: 1.2em;\n",
       "}\n",
       "\n",
       "#sk-container-id-1 div.sk-label-container {\n",
       "  text-align: center;\n",
       "}\n",
       "\n",
       "/* Estimator-specific */\n",
       "#sk-container-id-1 div.sk-estimator {\n",
       "  font-family: monospace;\n",
       "  border: 1px dotted var(--sklearn-color-border-box);\n",
       "  border-radius: 0.25em;\n",
       "  box-sizing: border-box;\n",
       "  margin-bottom: 0.5em;\n",
       "  /* unfitted */\n",
       "  background-color: var(--sklearn-color-unfitted-level-0);\n",
       "}\n",
       "\n",
       "#sk-container-id-1 div.sk-estimator.fitted {\n",
       "  /* fitted */\n",
       "  background-color: var(--sklearn-color-fitted-level-0);\n",
       "}\n",
       "\n",
       "/* on hover */\n",
       "#sk-container-id-1 div.sk-estimator:hover {\n",
       "  /* unfitted */\n",
       "  background-color: var(--sklearn-color-unfitted-level-2);\n",
       "}\n",
       "\n",
       "#sk-container-id-1 div.sk-estimator.fitted:hover {\n",
       "  /* fitted */\n",
       "  background-color: var(--sklearn-color-fitted-level-2);\n",
       "}\n",
       "\n",
       "/* Specification for estimator info (e.g. \"i\" and \"?\") */\n",
       "\n",
       "/* Common style for \"i\" and \"?\" */\n",
       "\n",
       ".sk-estimator-doc-link,\n",
       "a:link.sk-estimator-doc-link,\n",
       "a:visited.sk-estimator-doc-link {\n",
       "  float: right;\n",
       "  font-size: smaller;\n",
       "  line-height: 1em;\n",
       "  font-family: monospace;\n",
       "  background-color: var(--sklearn-color-background);\n",
       "  border-radius: 1em;\n",
       "  height: 1em;\n",
       "  width: 1em;\n",
       "  text-decoration: none !important;\n",
       "  margin-left: 1ex;\n",
       "  /* unfitted */\n",
       "  border: var(--sklearn-color-unfitted-level-1) 1pt solid;\n",
       "  color: var(--sklearn-color-unfitted-level-1);\n",
       "}\n",
       "\n",
       ".sk-estimator-doc-link.fitted,\n",
       "a:link.sk-estimator-doc-link.fitted,\n",
       "a:visited.sk-estimator-doc-link.fitted {\n",
       "  /* fitted */\n",
       "  border: var(--sklearn-color-fitted-level-1) 1pt solid;\n",
       "  color: var(--sklearn-color-fitted-level-1);\n",
       "}\n",
       "\n",
       "/* On hover */\n",
       "div.sk-estimator:hover .sk-estimator-doc-link:hover,\n",
       ".sk-estimator-doc-link:hover,\n",
       "div.sk-label-container:hover .sk-estimator-doc-link:hover,\n",
       ".sk-estimator-doc-link:hover {\n",
       "  /* unfitted */\n",
       "  background-color: var(--sklearn-color-unfitted-level-3);\n",
       "  color: var(--sklearn-color-background);\n",
       "  text-decoration: none;\n",
       "}\n",
       "\n",
       "div.sk-estimator.fitted:hover .sk-estimator-doc-link.fitted:hover,\n",
       ".sk-estimator-doc-link.fitted:hover,\n",
       "div.sk-label-container:hover .sk-estimator-doc-link.fitted:hover,\n",
       ".sk-estimator-doc-link.fitted:hover {\n",
       "  /* fitted */\n",
       "  background-color: var(--sklearn-color-fitted-level-3);\n",
       "  color: var(--sklearn-color-background);\n",
       "  text-decoration: none;\n",
       "}\n",
       "\n",
       "/* Span, style for the box shown on hovering the info icon */\n",
       ".sk-estimator-doc-link span {\n",
       "  display: none;\n",
       "  z-index: 9999;\n",
       "  position: relative;\n",
       "  font-weight: normal;\n",
       "  right: .2ex;\n",
       "  padding: .5ex;\n",
       "  margin: .5ex;\n",
       "  width: min-content;\n",
       "  min-width: 20ex;\n",
       "  max-width: 50ex;\n",
       "  color: var(--sklearn-color-text);\n",
       "  box-shadow: 2pt 2pt 4pt #999;\n",
       "  /* unfitted */\n",
       "  background: var(--sklearn-color-unfitted-level-0);\n",
       "  border: .5pt solid var(--sklearn-color-unfitted-level-3);\n",
       "}\n",
       "\n",
       ".sk-estimator-doc-link.fitted span {\n",
       "  /* fitted */\n",
       "  background: var(--sklearn-color-fitted-level-0);\n",
       "  border: var(--sklearn-color-fitted-level-3);\n",
       "}\n",
       "\n",
       ".sk-estimator-doc-link:hover span {\n",
       "  display: block;\n",
       "}\n",
       "\n",
       "/* \"?\"-specific style due to the `<a>` HTML tag */\n",
       "\n",
       "#sk-container-id-1 a.estimator_doc_link {\n",
       "  float: right;\n",
       "  font-size: 1rem;\n",
       "  line-height: 1em;\n",
       "  font-family: monospace;\n",
       "  background-color: var(--sklearn-color-background);\n",
       "  border-radius: 1rem;\n",
       "  height: 1rem;\n",
       "  width: 1rem;\n",
       "  text-decoration: none;\n",
       "  /* unfitted */\n",
       "  color: var(--sklearn-color-unfitted-level-1);\n",
       "  border: var(--sklearn-color-unfitted-level-1) 1pt solid;\n",
       "}\n",
       "\n",
       "#sk-container-id-1 a.estimator_doc_link.fitted {\n",
       "  /* fitted */\n",
       "  border: var(--sklearn-color-fitted-level-1) 1pt solid;\n",
       "  color: var(--sklearn-color-fitted-level-1);\n",
       "}\n",
       "\n",
       "/* On hover */\n",
       "#sk-container-id-1 a.estimator_doc_link:hover {\n",
       "  /* unfitted */\n",
       "  background-color: var(--sklearn-color-unfitted-level-3);\n",
       "  color: var(--sklearn-color-background);\n",
       "  text-decoration: none;\n",
       "}\n",
       "\n",
       "#sk-container-id-1 a.estimator_doc_link.fitted:hover {\n",
       "  /* fitted */\n",
       "  background-color: var(--sklearn-color-fitted-level-3);\n",
       "}\n",
       "</style><div id=\"sk-container-id-1\" class=\"sk-top-container\"><div class=\"sk-text-repr-fallback\"><pre>LogisticRegression(max_iter=1000, random_state=42, solver=&#x27;liblinear&#x27;)</pre><b>In a Jupyter environment, please rerun this cell to show the HTML representation or trust the notebook. <br />On GitHub, the HTML representation is unable to render, please try loading this page with nbviewer.org.</b></div><div class=\"sk-container\" hidden><div class=\"sk-item\"><div class=\"sk-estimator fitted sk-toggleable\"><input class=\"sk-toggleable__control sk-hidden--visually\" id=\"sk-estimator-id-1\" type=\"checkbox\" checked><label for=\"sk-estimator-id-1\" class=\"sk-toggleable__label fitted sk-toggleable__label-arrow fitted\">&nbsp;&nbsp;LogisticRegression<a class=\"sk-estimator-doc-link fitted\" rel=\"noreferrer\" target=\"_blank\" href=\"https://scikit-learn.org/1.5/modules/generated/sklearn.linear_model.LogisticRegression.html\">?<span>Documentation for LogisticRegression</span></a><span class=\"sk-estimator-doc-link fitted\">i<span>Fitted</span></span></label><div class=\"sk-toggleable__content fitted\"><pre>LogisticRegression(max_iter=1000, random_state=42, solver=&#x27;liblinear&#x27;)</pre></div> </div></div></div></div>"
      ],
      "text/plain": [
       "LogisticRegression(max_iter=1000, random_state=42, solver='liblinear')"
      ]
     },
     "execution_count": 44,
     "metadata": {},
     "output_type": "execute_result"
    }
   ],
   "source": [
    "from sklearn.linear_model import LogisticRegression \n",
    "\n",
    "model = LogisticRegression(solver='liblinear', C=1.0, max_iter=1000, random_state=42)\n",
    "model.fit(X_train_new, y_train)"
   ]
  },
  {
   "cell_type": "code",
   "execution_count": 45,
   "id": "7189993b-7ff3-41ac-882b-f2cffe7024d4",
   "metadata": {},
   "outputs": [],
   "source": [
    "y_val_pred = model.predict_proba(X_val_new)[:,1]"
   ]
  },
  {
   "cell_type": "code",
   "execution_count": 46,
   "id": "2988d27a-09cd-487f-bbf2-e3d8eb591af6",
   "metadata": {},
   "outputs": [
    {
     "data": {
      "text/plain": [
       "array([False, False, False, ..., False, False, False])"
      ]
     },
     "execution_count": 46,
     "metadata": {},
     "output_type": "execute_result"
    }
   ],
   "source": [
    "y_val_pred > 0.5"
   ]
  },
  {
   "cell_type": "code",
   "execution_count": 47,
   "id": "396f923b-6925-4f45-86dc-96bef036394f",
   "metadata": {},
   "outputs": [],
   "source": [
    "y_decision = (y_val_pred > 0.5).astype(int)"
   ]
  },
  {
   "cell_type": "code",
   "execution_count": 48,
   "id": "6eec1483-3a04-492e-9d97-4d92bef2eab1",
   "metadata": {},
   "outputs": [],
   "source": [
    "acc = (y_val == y_decision).mean().round(2)"
   ]
  },
  {
   "cell_type": "code",
   "execution_count": 49,
   "id": "38874608-dbf1-4085-b839-51a77d9d2aba",
   "metadata": {},
   "outputs": [
    {
     "name": "stdout",
     "output_type": "stream",
     "text": [
      "Accuracy is calculated as \u001b[1m0.9\u001b[0m.\n"
     ]
    }
   ],
   "source": [
    "print(f\"Accuracy is calculated as \\033[1m{acc}\\033[0m.\")"
   ]
  },
  {
   "cell_type": "markdown",
   "id": "206f7598-8498-4a46-8fe4-d8c9fdab932b",
   "metadata": {},
   "source": [
    "## Question 5"
   ]
  },
  {
   "cell_type": "markdown",
   "id": "aa3785f8-e674-41ab-8271-466329412e88",
   "metadata": {},
   "source": [
    "Let's find the least useful feature using the feature elimination technique.\n",
    "Train a model with all these features (using the same parameters as in Q4).\n",
    "Now exclude each feature from this set and train a model without it. Record the accuracy for each model.\n",
    "For each feature, calculate the difference between the original accuracy and the accuracy without the feature.\n",
    "Which of following feature has the smallest difference?\n",
    "\n",
    "- age\n",
    "- balance\n",
    "- marital\n",
    "- previous\n",
    "\n",
    "Note: The difference doesn't have to be positive. "
   ]
  },
  {
   "cell_type": "code",
   "execution_count": 50,
   "id": "f2918fe8-3816-467f-994d-a2ac1872c1ae",
   "metadata": {},
   "outputs": [],
   "source": [
    "original_acc = acc"
   ]
  },
  {
   "cell_type": "code",
   "execution_count": 51,
   "id": "6e4e9be3-04fb-444b-9c9e-6645aff36041",
   "metadata": {},
   "outputs": [],
   "source": [
    "feature_names = list(dv.get_feature_names_out())\n",
    "index_age = feature_names.index('age')\n",
    "index_balance = feature_names.index('balance')\n",
    "index_marital_div = feature_names.index('marital=divorced')\n",
    "index_marital_mar = feature_names.index('marital=married')\n",
    "index_marital_sing = feature_names.index('marital=single')\n",
    "index_previous = feature_names.index('previous')"
   ]
  },
  {
   "cell_type": "code",
   "execution_count": 52,
   "id": "0b9f22b1-c444-473e-ac77-c4a9b1e0fc78",
   "metadata": {},
   "outputs": [
    {
     "name": "stdout",
     "output_type": "stream",
     "text": [
      "['age', 'balance', 'campaign', 'contact=cellular', 'contact=telephone', 'contact=unknown', 'day', 'duration', 'education=primary', 'education=secondary', 'education=tertiary', 'education=unknown', 'housing=no', 'housing=yes', 'job=admin.', 'job=blue-collar', 'job=entrepreneur', 'job=housemaid', 'job=management', 'job=retired', 'job=self-employed', 'job=services', 'job=student', 'job=technician', 'job=unemployed', 'job=unknown', 'marital=divorced', 'marital=married', 'marital=single', 'month=apr', 'month=aug', 'month=dec', 'month=feb', 'month=jan', 'month=jul', 'month=jun', 'month=mar', 'month=may', 'month=nov', 'month=oct', 'month=sep', 'pdays', 'poutcome=failure', 'poutcome=other', 'poutcome=success', 'poutcome=unknown', 'previous']\n",
      "0\n",
      "1\n",
      "26\n",
      "27\n",
      "28\n",
      "46\n"
     ]
    }
   ],
   "source": [
    "print(feature_names)\n",
    "print(index_age)\n",
    "print(index_balance)\n",
    "print(index_marital_div)\n",
    "print(index_marital_mar)\n",
    "print(index_marital_sing)\n",
    "print(index_previous)"
   ]
  },
  {
   "cell_type": "code",
   "execution_count": null,
   "id": "e0096a57-ac10-43b4-b636-92cf924f28b7",
   "metadata": {},
   "outputs": [],
   "source": []
  },
  {
   "cell_type": "code",
   "execution_count": 58,
   "id": "d6c22030-98bb-41f1-a2e6-5948ff3fbb7a",
   "metadata": {},
   "outputs": [
    {
     "name": "stdout",
     "output_type": "stream",
     "text": [
      "(27126, 47)\n",
      "(27126, 46)\n",
      "0.9011280690112807\n",
      "(27126, 47)\n",
      "(27126, 46)\n",
      "0.9011280690112807\n",
      "(27126, 47)\n",
      "(27126, 46)\n",
      "0.9016810440168105\n",
      "(27126, 47)\n",
      "(27126, 46)\n",
      "0.9013492590134926\n",
      "(27126, 47)\n",
      "(27126, 46)\n",
      "0.9012386640123866\n"
     ]
    }
   ],
   "source": [
    "diff_list = []\n",
    "index_list = [index_age,index_balance, index_marital_div,index_marital_mar,index_marital_sing] \n",
    "for index in index_list:\n",
    "    print(X_train_new.shape)\n",
    "    X_train_new1 = np.delete(X_train_new, index, 1)\n",
    "    X_val_new1 = np.delete(X_val_new,index, 1)\n",
    "    print(X_train_new1.shape)\n",
    "    modelnew = LogisticRegression(solver='liblinear', C=1.0, max_iter=1000, random_state=42)\n",
    "    modelnew.fit(X_train_new1,y_train)\n",
    "    y_val_pred = modelnew.predict_proba(X_val_new1)[:,1]\n",
    "    y_decision = (y_val_pred > 0.5).astype(int)\n",
    "    acc = (y_val == y_decision).mean()\n",
    "    print(acc)\n",
    "    difference = original_acc - acc\n",
    "    diff_list.append(difference)\n",
    "    \n",
    "    "
   ]
  },
  {
   "cell_type": "code",
   "execution_count": 59,
   "id": "976f5a4f-2d3d-4aed-9cc3-9ea9bd2a1142",
   "metadata": {},
   "outputs": [
    {
     "data": {
      "text/plain": [
       "[-0.001128069011280708,\n",
       " -0.001128069011280708,\n",
       " -0.0016810440168104623,\n",
       " -0.0013492590134925875,\n",
       " -0.0012386640123865922]"
      ]
     },
     "execution_count": 59,
     "metadata": {},
     "output_type": "execute_result"
    }
   ],
   "source": [
    "diff_list"
   ]
  },
  {
   "cell_type": "code",
   "execution_count": 81,
   "id": "88c3cac7-6027-4847-9cc8-cb02b6d5d3a6",
   "metadata": {},
   "outputs": [
    {
     "data": {
      "text/plain": [
       "0"
      ]
     },
     "execution_count": 81,
     "metadata": {},
     "output_type": "execute_result"
    }
   ],
   "source": [
    "diff_list.index(max(diff_list))"
   ]
  },
  {
   "cell_type": "code",
   "execution_count": 79,
   "id": "7e076e8a-a818-410d-a67b-86da8d11547c",
   "metadata": {},
   "outputs": [],
   "source": [
    "min_difference = feature_names[index_list[diff_list.index(max(diff_list))]]"
   ]
  },
  {
   "cell_type": "code",
   "execution_count": 80,
   "id": "1c3eebc1-e071-4856-82bb-713a364c9382",
   "metadata": {},
   "outputs": [
    {
     "data": {
      "text/plain": [
       "'age'"
      ]
     },
     "execution_count": 80,
     "metadata": {},
     "output_type": "execute_result"
    }
   ],
   "source": [
    "min_difference"
   ]
  },
  {
   "cell_type": "code",
   "execution_count": 82,
   "id": "8ee8f535-f4ea-4a8c-bfdb-c963bce417e6",
   "metadata": {},
   "outputs": [
    {
     "data": {
      "text/plain": [
       "[0, 1]"
      ]
     },
     "execution_count": 82,
     "metadata": {},
     "output_type": "execute_result"
    }
   ],
   "source": [
    "[i for i, x in enumerate(diff_list) if x == max(diff_list)]"
   ]
  },
  {
   "cell_type": "code",
   "execution_count": 85,
   "id": "e70183bd-7ef3-48eb-8623-dcea21d0e429",
   "metadata": {},
   "outputs": [
    {
     "name": "stdout",
     "output_type": "stream",
     "text": [
      "\u001b[1mage\u001b[0m and \u001b[1mbalance\u001b[0m have the smallest differences!\n"
     ]
    }
   ],
   "source": [
    "print(f\"\\033[1m{feature_names[0]}\\033[0m and \\033[1m{feature_names[1]}\\033[0m have the smallest differences!\")"
   ]
  },
  {
   "cell_type": "markdown",
   "id": "16618c5b-bc36-4055-aceb-23e8be96ca24",
   "metadata": {},
   "source": [
    "## Question 6"
   ]
  },
  {
   "cell_type": "markdown",
   "id": "c33f1050-d3d5-408c-b06c-ec59a51ff462",
   "metadata": {},
   "source": [
    "- Now let's train a regularized logistic regression.\n",
    "- Let's try the following values of the parameter <code>C: [0.01, 0.1, 1, 10, 100] </code>.\n",
    "- Train models using all the features as in Q4.\n",
    "- Calculate the accuracy on the validation dataset and round it to 3 decimal digits.\n",
    "\n",
    "Which of these C leads to the best accuracy on the validation set?\n",
    "\n",
    "- 0.01\n",
    "- 0.1\n",
    "- 1\n",
    "- 10\n",
    "- 100\n",
    "\n",
    "Note: If there are multiple options, select the smallest C."
   ]
  },
  {
   "cell_type": "code",
   "execution_count": 69,
   "id": "37550efb-8c05-45a1-89f1-f3e90ba41888",
   "metadata": {},
   "outputs": [],
   "source": [
    "acc_list = []\n",
    "C = [0.01, 0.1, 1, 10, 100]\n",
    "for c in C:\n",
    "  \n",
    "    modelnew = LogisticRegression(solver='liblinear', C=c, max_iter=1000, random_state=42)\n",
    "    modelnew.fit(X_train_new,y_train)\n",
    "    y_val_pred = modelnew.predict_proba(X_val_new)[:,1]\n",
    "    y_decision = (y_val_pred > 0.5).astype(int)\n",
    "    acc = (y_val == y_decision).mean()\n",
    "   \n",
    "    acc_list.append(acc)\n",
    "    \n",
    "    "
   ]
  },
  {
   "cell_type": "code",
   "execution_count": 73,
   "id": "3fafafbd-645b-4c65-bd56-d8797641d434",
   "metadata": {},
   "outputs": [],
   "source": [
    "index_max = acc_list.index(max(acc_list))"
   ]
  },
  {
   "cell_type": "code",
   "execution_count": 74,
   "id": "b0c43d12-9396-4c90-90b9-16104a3d208d",
   "metadata": {},
   "outputs": [
    {
     "name": "stdout",
     "output_type": "stream",
     "text": [
      "[0.898363193983632, 0.9014598540145985, 0.9011280690112807, 0.9015704490157045, 0.9007962840079629]\n"
     ]
    }
   ],
   "source": [
    "print(acc_list)"
   ]
  },
  {
   "cell_type": "code",
   "execution_count": 77,
   "id": "cdfba8ba-e2cd-470d-bc6a-2494d568e4e3",
   "metadata": {},
   "outputs": [
    {
     "data": {
      "text/plain": [
       "10"
      ]
     },
     "execution_count": 77,
     "metadata": {},
     "output_type": "execute_result"
    }
   ],
   "source": [
    "c_max_acc = C[index_max]\n",
    "c_max_acc"
   ]
  },
  {
   "cell_type": "code",
   "execution_count": 83,
   "id": "c763648e-6632-4111-a57e-e37efa679a01",
   "metadata": {},
   "outputs": [
    {
     "name": "stdout",
     "output_type": "stream",
     "text": [
      "C = \u001b[1m10\u001b[0m gives maximum accuracy.\n"
     ]
    }
   ],
   "source": [
    "print(f\"C = \\033[1m{c_max_acc}\\033[0m gives maximum accuracy.\")"
   ]
  },
  {
   "cell_type": "code",
   "execution_count": null,
   "id": "21aba246-b3ca-4c7e-ab9d-39b7259d6cee",
   "metadata": {},
   "outputs": [],
   "source": []
  }
 ],
 "metadata": {
  "kernelspec": {
   "display_name": "Python 3 (ipykernel)",
   "language": "python",
   "name": "python3"
  },
  "language_info": {
   "codemirror_mode": {
    "name": "ipython",
    "version": 3
   },
   "file_extension": ".py",
   "mimetype": "text/x-python",
   "name": "python",
   "nbconvert_exporter": "python",
   "pygments_lexer": "ipython3",
   "version": "3.11.9"
  }
 },
 "nbformat": 4,
 "nbformat_minor": 5
}

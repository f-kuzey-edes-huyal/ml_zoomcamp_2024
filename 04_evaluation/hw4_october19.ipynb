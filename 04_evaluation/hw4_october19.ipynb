{
 "cells": [
  {
   "cell_type": "markdown",
   "id": "5f382af3-677c-406c-8ada-0548da84ec16",
   "metadata": {},
   "source": [
    "# Homework 4"
   ]
  },
  {
   "cell_type": "code",
   "execution_count": 1,
   "id": "9cdb0bb2-e7ca-4159-89ea-ba1a33f9716d",
   "metadata": {},
   "outputs": [],
   "source": [
    "import pandas as pd"
   ]
  },
  {
   "cell_type": "markdown",
   "id": "cad97771-6f20-4e33-bcef-9da3bebed02a",
   "metadata": {},
   "source": [
    "We need bank-full.csv.\n",
    "\n",
    "In this dataset the target variable is y variable - has the client subscribed a term deposit or not."
   ]
  },
  {
   "cell_type": "code",
   "execution_count": 2,
   "id": "1a41bd9a-caea-4b5d-bf14-7d691e61a1d9",
   "metadata": {},
   "outputs": [],
   "source": [
    "#!wget https://archive.ics.uci.edu/static/public/222/bank+marketing.zip\n",
    "#unzip bank+marketing.zip \n",
    "#unzip bank.zip"
   ]
  },
  {
   "cell_type": "markdown",
   "id": "eb7a7fce-9aa8-4187-909f-3d17444a5a01",
   "metadata": {},
   "source": [
    "## Dataset preparation\n",
    "\n",
    "For the rest of the homework, you'll need to use only these columns:\n",
    "\n",
    "- 'age',\n",
    "- 'job',\n",
    "- 'marital',\n",
    "- 'education',\n",
    "- 'balance',\n",
    "- 'housing',\n",
    "- 'contact',\n",
    "- 'day',\n",
    "- 'month',\n",
    "- 'duration',\n",
    "- 'campaign',\n",
    "- 'pdays',\n",
    "- 'previous',\n",
    "-'poutcome',\n",
    "- 'y'\n",
    "Split the data into 3 parts: train/validation/test with 60%/20%/20% distribution. Use train_test_split function for that with random_state=1"
   ]
  },
  {
   "cell_type": "code",
   "execution_count": 3,
   "id": "81a457f1-2f12-4159-b9b2-2b0550b4b20d",
   "metadata": {},
   "outputs": [],
   "source": [
    "df = pd.read_csv(\"bank/bank-full.csv\", sep=\";\")"
   ]
  },
  {
   "cell_type": "code",
   "execution_count": 4,
   "id": "6fa56747-be69-423d-81dc-22be05809314",
   "metadata": {},
   "outputs": [],
   "source": [
    "df = df[['age','job','marital','education','balance','housing','contact','day','month','duration','campaign','pdays','previous','poutcome','y']]"
   ]
  },
  {
   "cell_type": "code",
   "execution_count": 5,
   "id": "5fbb510d-5f9f-44c4-9fbc-86380d30a7ac",
   "metadata": {},
   "outputs": [],
   "source": [
    "df_new = df.copy()"
   ]
  },
  {
   "cell_type": "code",
   "execution_count": 6,
   "id": "79b816c9-8e22-4805-923d-eba4efc7cd87",
   "metadata": {},
   "outputs": [
    {
     "name": "stdout",
     "output_type": "stream",
     "text": [
      "[0 1]\n"
     ]
    }
   ],
   "source": [
    "df_new.y = (df_new.y == \"yes\").astype('int')\n",
    "print(df_new['y'].unique())"
   ]
  },
  {
   "cell_type": "code",
   "execution_count": 7,
   "id": "a5ef1dc5-3fe5-45af-bcc3-5e6149689a98",
   "metadata": {},
   "outputs": [],
   "source": [
    "from sklearn.model_selection import train_test_split "
   ]
  },
  {
   "cell_type": "code",
   "execution_count": 8,
   "id": "7e8316b0-3645-48be-bed8-ece24c1cec85",
   "metadata": {},
   "outputs": [],
   "source": [
    "df_full_train, df_test = train_test_split(df_new, test_size = 0.2, random_state = 1)"
   ]
  },
  {
   "cell_type": "code",
   "execution_count": 9,
   "id": "4a569a8c-68fd-40ec-aa6b-509d99b667bf",
   "metadata": {},
   "outputs": [],
   "source": [
    "df_train, df_val = train_test_split(df_full_train, test_size = 0.25, random_state = 1)"
   ]
  },
  {
   "cell_type": "code",
   "execution_count": 10,
   "id": "4de88437-250b-4052-bb81-835ff3611f4d",
   "metadata": {},
   "outputs": [],
   "source": [
    "df_train = df_train.reset_index(drop = True)\n",
    "df_val = df_val.reset_index(drop = True)\n",
    "df_test = df_test.reset_index(drop = True)\n",
    "\n",
    "y_train = df_train.y\n",
    "y_val = df_val.y\n",
    "y_test = df_test.y\n",
    "\n",
    "del df_train['y']\n",
    "del df_val['y']\n",
    "del df_test['y']"
   ]
  },
  {
   "cell_type": "markdown",
   "id": "6b288b84-179e-497f-8b65-9b35b09d0ef8",
   "metadata": {},
   "source": [
    "__Question 1: ROC AUC feature importance__"
   ]
  },
  {
   "cell_type": "markdown",
   "id": "b98caf32-5e3f-4967-8d4c-546e9caadfb0",
   "metadata": {},
   "source": [
    "ROC AUC could also be used to evaluate feature importance of numerical variables.\n",
    "\n",
    "Let's do that\n",
    "\n",
    "For each numerical variable, use it as score (aka prediction) and compute the <code>AUC</code> with the <code>y</code> variable as ground truth.\n",
    "Use the training dataset for that\n",
    "If your <code>AUC</code> is <code>< 0.5 </code>, invert this variable by putting \"-\" in front\n",
    "\n",
    "(e.g.<code> -df_train['engine_hp'] </code>)\n",
    "\n",
    "AUC can go below 0.5 if the variable is negatively correlated with the target variable. You can change the direction of the correlation by negating this variable - then negative correlation becomes positive.\n",
    "\n",
    "Which numerical variable (among the following 4) has the highest AUC?\n",
    "\n",
    "- balance\n",
    "- day\n",
    "- duration\n",
    "- previous"
   ]
  },
  {
   "cell_type": "code",
   "execution_count": 11,
   "id": "61b2559c-5ec9-4ee8-8a9c-f867063c1d48",
   "metadata": {},
   "outputs": [],
   "source": [
    "from sklearn.metrics import roc_auc_score\n",
    "from sklearn.linear_model import LogisticRegression\n"
   ]
  },
  {
   "cell_type": "code",
   "execution_count": 12,
   "id": "22bfb34a-8ce6-48d7-9596-716bfcfd05f9",
   "metadata": {},
   "outputs": [
    {
     "name": "stdout",
     "output_type": "stream",
     "text": [
      "0.5995068851725284\n",
      "0.5352198426324892\n",
      "0.7965344730967409\n",
      "0.607255799705406\n",
      "The variable with the highest AUC is: \u001b[1mduration\u001b[0m\n",
      "AUC scores for each variable: \u001b[1m{'balance': 0.5995068851725284, 'day': 0.5352198426324892, 'duration': 0.7965344730967409, 'previous': 0.607255799705406}\u001b[0m\n"
     ]
    }
   ],
   "source": [
    "features = [\"balance\", \"day\", \"duration\", \"previous\"]\n",
    "\n",
    "all_auc_scores = {}\n",
    "for fea in features:\n",
    "    X_train_fea = df_train.copy()\n",
    "    X_train_fea = X_train_fea[fea]\n",
    "    X_val_fea = df_val.copy()\n",
    "    X_val_fea = X_val_fea[fea]\n",
    "    model = LogisticRegression()\n",
    "    model.fit(X_train_fea.values.reshape(-1,1),y_train)\n",
    "    y_pred_fea = model.predict_proba(X_val_fea.values.reshape(-1,1))[:,1]\n",
    "    auc_score = roc_auc_score(y_val, y_pred_fea)\n",
    "    print(auc_score)\n",
    "    if auc_score < 0.5:\n",
    "        auc_score  = - auc_score\n",
    "    all_auc_scores[fea] = auc_score\n",
    "    \n",
    "    \n",
    "best_auc_score = max(all_auc_scores, key=all_auc_scores.get)\n",
    "\n",
    "print(f\"The variable with the highest AUC is: \\033[1m{best_auc_score}\\033[0m\")\n",
    "print(f\"AUC scores for each variable: \\033[1m{all_auc_scores}\\033[0m\")   \n"
   ]
  },
  {
   "cell_type": "markdown",
   "id": "910e3e1d-ea46-4d67-8bd0-6893c1b5ef32",
   "metadata": {},
   "source": [
    "# Question 2: Training the model\n",
    "\n",
    "Apply one-hot-encoding using DictVectorizer and train the logistic regression with these parameters:\n",
    "\n",
    "<code> LogisticRegression(solver='liblinear', C=1.0, max_iter=1000) </code>\n",
    "What's the AUC of this model on the validation dataset? (round to 3 digits)\n",
    "\n",
    "- 0.69\n",
    "- 0.79\n",
    "- 0.89\n",
    "- 0.9"
   ]
  },
  {
   "cell_type": "code",
   "execution_count": 13,
   "id": "53068168-2596-4780-9544-7c0e4f3ccace",
   "metadata": {},
   "outputs": [],
   "source": [
    "from sklearn.feature_extraction import DictVectorizer"
   ]
  },
  {
   "cell_type": "code",
   "execution_count": 14,
   "id": "eb7ce99d-3618-4610-a4f7-e5aa9c3857e5",
   "metadata": {},
   "outputs": [
    {
     "name": "stdout",
     "output_type": "stream",
     "text": [
      "The auc score is \u001b[1m0.90\u001b[0m\n"
     ]
    }
   ],
   "source": [
    "df_train_oh = df_train.copy()\n",
    "df_val_oh = df_val.copy()\n",
    "\n",
    "df_train_oh = df_train_oh.to_dict(orient = \"records\")\n",
    "df_val_oh = df_val_oh.to_dict(orient = \"records\")\n",
    "\n",
    "dv = DictVectorizer(sparse = False)\n",
    "dv.fit(df_train_oh)\n",
    "\n",
    "df_train_ohh = dv.transform(df_train_oh)\n",
    "df_val_ohh = dv.transform(df_val_oh)\n",
    "\n",
    "model =  LogisticRegression(solver='liblinear', C=1.0, max_iter=1000)\n",
    "model.fit(df_train_ohh, y_train)\n",
    "\n",
    "y_val_pred_ohh = model.predict_proba(df_val_ohh)[:,1]\n",
    "auc_score = roc_auc_score(y_val, y_val_pred_ohh)\n",
    "\n",
    "print(f\"The auc score is \\033[1m{auc_score:.2f}\\033[0m\")"
   ]
  },
  {
   "cell_type": "markdown",
   "id": "f761ae14-8d5f-4d50-a84c-7ff02c781795",
   "metadata": {},
   "source": [
    "## Question 3: Precision and Recall\n",
    "Now let's compute precision and recall for our model.\n",
    "\n",
    "- Evaluate the model on all thresholds from 0.0 to 1.0 with step 0.01\n",
    "- For each threshold, compute precision and recall\n",
    "- Plot them\n",
    "\n",
    "At which threshold precision and recall curves intersect?\n",
    "\n",
    "- 0.265\n",
    "- 0.465\n",
    "- 0.665\n",
    "- 0.865"
   ]
  },
  {
   "cell_type": "code",
   "execution_count": 15,
   "id": "e8645a85-826e-4e37-aecf-79deae973514",
   "metadata": {},
   "outputs": [
    {
     "name": "stdout",
     "output_type": "stream",
     "text": [
      "[0 1]\n"
     ]
    }
   ],
   "source": [
    "import numpy as np\n",
    "print(np.unique(y_val))"
   ]
  },
  {
   "cell_type": "code",
   "execution_count": 16,
   "id": "1d3c0478-3def-4bf2-96b0-c0c3cb25f127",
   "metadata": {},
   "outputs": [
    {
     "name": "stderr",
     "output_type": "stream",
     "text": [
      "C:\\Users\\Kuzey\\AppData\\Local\\Temp\\ipykernel_10140\\1266337747.py:22: RuntimeWarning: invalid value encountered in scalar divide\n",
      "  prec = tp/(tp+fp)\n"
     ]
    }
   ],
   "source": [
    "scores = []\n",
    "start = 0.0\n",
    "step = 0.01\n",
    "stop = 1.0\n",
    "\n",
    "thresholds = np.arange(start, stop + step, step).tolist()\n",
    "#print(thresholds)\n",
    "\n",
    "for t in thresholds:\n",
    "    actual_positive = (y_val == 1)\n",
    "    actual_negative = (y_val == 0)\n",
    "\n",
    "    predict_positive = (y_val_pred_ohh >= t)\n",
    "    predict_negative = (y_val_pred_ohh <t)\n",
    "\n",
    "    tp = (predict_positive & actual_positive).sum()\n",
    "    tn = (predict_negative & actual_negative).sum()\n",
    "\n",
    "    fp =  (predict_positive & actual_negative).sum()\n",
    "    fn = (predict_negative & actual_positive).sum()\n",
    "\n",
    "    prec = tp/(tp+fp)\n",
    "    rec = tp/(tp+fn)\n",
    "\n",
    "    scores.append((t, prec, rec))\n",
    "\n",
    "\n",
    "#print(scores)\n",
    "df_scores =  pd.DataFrame(scores, columns=[\"thresholds\", \"precision\", \"recall\"])"
   ]
  },
  {
   "cell_type": "code",
   "execution_count": 17,
   "id": "5876f2f6-300a-4a95-9107-622cc3377d78",
   "metadata": {},
   "outputs": [
    {
     "data": {
      "text/html": [
       "<div>\n",
       "<style scoped>\n",
       "    .dataframe tbody tr th:only-of-type {\n",
       "        vertical-align: middle;\n",
       "    }\n",
       "\n",
       "    .dataframe tbody tr th {\n",
       "        vertical-align: top;\n",
       "    }\n",
       "\n",
       "    .dataframe thead th {\n",
       "        text-align: right;\n",
       "    }\n",
       "</style>\n",
       "<table border=\"1\" class=\"dataframe\">\n",
       "  <thead>\n",
       "    <tr style=\"text-align: right;\">\n",
       "      <th></th>\n",
       "      <th>thresholds</th>\n",
       "      <th>precision</th>\n",
       "      <th>recall</th>\n",
       "    </tr>\n",
       "  </thead>\n",
       "  <tbody>\n",
       "    <tr>\n",
       "      <th>0</th>\n",
       "      <td>0.00</td>\n",
       "      <td>0.121433</td>\n",
       "      <td>1.000000</td>\n",
       "    </tr>\n",
       "    <tr>\n",
       "      <th>1</th>\n",
       "      <td>0.01</td>\n",
       "      <td>0.135095</td>\n",
       "      <td>0.996357</td>\n",
       "    </tr>\n",
       "    <tr>\n",
       "      <th>2</th>\n",
       "      <td>0.02</td>\n",
       "      <td>0.158820</td>\n",
       "      <td>0.995446</td>\n",
       "    </tr>\n",
       "    <tr>\n",
       "      <th>3</th>\n",
       "      <td>0.03</td>\n",
       "      <td>0.186417</td>\n",
       "      <td>0.989982</td>\n",
       "    </tr>\n",
       "    <tr>\n",
       "      <th>4</th>\n",
       "      <td>0.04</td>\n",
       "      <td>0.219392</td>\n",
       "      <td>0.972678</td>\n",
       "    </tr>\n",
       "    <tr>\n",
       "      <th>5</th>\n",
       "      <td>0.05</td>\n",
       "      <td>0.254122</td>\n",
       "      <td>0.954463</td>\n",
       "    </tr>\n",
       "    <tr>\n",
       "      <th>6</th>\n",
       "      <td>0.06</td>\n",
       "      <td>0.289116</td>\n",
       "      <td>0.928962</td>\n",
       "    </tr>\n",
       "    <tr>\n",
       "      <th>7</th>\n",
       "      <td>0.07</td>\n",
       "      <td>0.317268</td>\n",
       "      <td>0.905282</td>\n",
       "    </tr>\n",
       "    <tr>\n",
       "      <th>8</th>\n",
       "      <td>0.08</td>\n",
       "      <td>0.342766</td>\n",
       "      <td>0.882514</td>\n",
       "    </tr>\n",
       "    <tr>\n",
       "      <th>9</th>\n",
       "      <td>0.09</td>\n",
       "      <td>0.366563</td>\n",
       "      <td>0.860656</td>\n",
       "    </tr>\n",
       "  </tbody>\n",
       "</table>\n",
       "</div>"
      ],
      "text/plain": [
       "   thresholds  precision    recall\n",
       "0        0.00   0.121433  1.000000\n",
       "1        0.01   0.135095  0.996357\n",
       "2        0.02   0.158820  0.995446\n",
       "3        0.03   0.186417  0.989982\n",
       "4        0.04   0.219392  0.972678\n",
       "5        0.05   0.254122  0.954463\n",
       "6        0.06   0.289116  0.928962\n",
       "7        0.07   0.317268  0.905282\n",
       "8        0.08   0.342766  0.882514\n",
       "9        0.09   0.366563  0.860656"
      ]
     },
     "execution_count": 17,
     "metadata": {},
     "output_type": "execute_result"
    }
   ],
   "source": [
    "df_scores.head(10)"
   ]
  },
  {
   "cell_type": "code",
   "execution_count": 42,
   "id": "4cc4caad-2211-4ef6-8178-acabfc80a2a2",
   "metadata": {},
   "outputs": [
    {
     "data": {
      "text/plain": [
       "Text(0.5, 0, 'Threshold')"
      ]
     },
     "execution_count": 42,
     "metadata": {},
     "output_type": "execute_result"
    },
    {
     "data": {
      "image/png": "[encoded data removed]",
      "text/plain": [
       "<Figure size 640x480 with 1 Axes>"
      ]
     },
     "metadata": {},
     "output_type": "display_data"
    }
   ],
   "source": [
    "from matplotlib import pyplot as plt\n",
    "df_scores['difference'] = abs(df_scores['precision'] -df_scores['recall'])\n",
    "min_dif_index = df_scores['difference'].idxmin()\n",
    "x = df_scores.thresholds.iloc[min_dif_index]\n",
    "y = df_scores.precision.iloc[min_dif_index]\n",
    "plt.scatter(x, y, color = \"red\", label=\"intersection\")\n",
    "plt.plot(df_scores[\"thresholds\"], df_scores[\"precision\"], label = \"precision\", color = \"darkgreen\")\n",
    "plt.plot(df_scores[\"thresholds\"], df_scores[\"recall\"], label = \"recall\", color = \"cornflowerblue\")\n",
    "plt.legend()\n",
    "plt.xlabel(\"Threshold\", fontsize = 13)"
   ]
  },
  {
   "cell_type": "code",
   "execution_count": 38,
   "id": "994c5459-f7b0-4a3b-967d-afd1852e133f",
   "metadata": {},
   "outputs": [
    {
     "name": "stdout",
     "output_type": "stream",
     "text": [
      "26\n"
     ]
    }
   ],
   "source": [
    "df_scores['difference'] = abs(df_scores['precision'] - df_scores['recall'])\n",
    "\n",
    "print(df_scores['difference'].idxmin())\n",
    "\n",
    "inter_thres = df_scores[\"thresholds\"].iloc[min_dif_index]"
   ]
  },
  {
   "cell_type": "code",
   "execution_count": 39,
   "id": "4c191681-a4cd-4a8b-b53b-1ae2fa6036f8",
   "metadata": {},
   "outputs": [
    {
     "name": "stdout",
     "output_type": "stream",
     "text": [
      "The intersection point is 0.26.\n"
     ]
    }
   ],
   "source": [
    "print(f\"The intersection point is {inter_thres}.\")"
   ]
  },
  {
   "cell_type": "code",
   "execution_count": null,
   "id": "63e6b370-e7cf-4b3b-86cd-038ea16d039a",
   "metadata": {},
   "outputs": [],
   "source": []
  }
 ],
 "metadata": {
  "kernelspec": {
   "display_name": "Python 3 (ipykernel)",
   "language": "python",
   "name": "python3"
  },
  "language_info": {
   "codemirror_mode": {
    "name": "ipython",
    "version": 3
   },
   "file_extension": ".py",
   "mimetype": "text/x-python",
   "name": "python",
   "nbconvert_exporter": "python",
   "pygments_lexer": "ipython3",
   "version": "3.11.9"
  }
 },
 "nbformat": 4,
 "nbformat_minor": 5
}
